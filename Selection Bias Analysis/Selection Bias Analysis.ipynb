{
  "nbformat": 4,
  "nbformat_minor": 0,
  "metadata": {
    "colab": {
      "name": "Analysis.ipynb",
      "provenance": [],
      "collapsed_sections": [],
      "include_colab_link": true
    },
    "kernelspec": {
      "name": "python3",
      "display_name": "Python 3"
    },
    "language_info": {
      "name": "python"
    }
  },
  "cells": [
    {
      "cell_type": "markdown",
      "metadata": {
        "id": "view-in-github",
        "colab_type": "text"
      },
      "source": [
        "<a href=\"https://colab.research.google.com/github/cyruskimani/25052021/blob/main/Analysis.ipynb\" target=\"_parent\"><img src=\"https://colab.research.google.com/assets/colab-badge.svg\" alt=\"Open In Colab\"/></a>"
      ]
    },
    {
      "cell_type": "markdown",
      "metadata": {
        "id": "6FUYA-RF0N7T"
      },
      "source": [
        "# Problem 1: Simple Difference in Outcomes"
      ]
    },
    {
      "cell_type": "markdown",
      "metadata": {
        "id": "4UQdqUrRgDFu"
      },
      "source": [
        ""
      ]
    },
    {
      "cell_type": "markdown",
      "metadata": {
        "id": "bOuvW1d3zMt0"
      },
      "source": [
        "## A:Read in the dataset"
      ]
    },
    {
      "cell_type": "code",
      "metadata": {
        "id": "egoDrsV8ng8Q"
      },
      "source": [
        "#import libraries\n",
        "import pandas as pd\n",
        "import numpy as np\n"
      ],
      "execution_count": null,
      "outputs": []
    },
    {
      "cell_type": "code",
      "metadata": {
        "colab": {
          "base_uri": "https://localhost:8080/"
        },
        "id": "KBMVN0Ibed59",
        "outputId": "85687d44-d9ce-407b-f23d-61e65fb46c73"
      },
      "source": [
        "from google.colab import drive\n",
        "drive.mount('/content/drive')"
      ],
      "execution_count": null,
      "outputs": [
        {
          "output_type": "stream",
          "text": [
            "Drive already mounted at /content/drive; to attempt to forcibly remount, call drive.mount(\"/content/drive\", force_remount=True).\n"
          ],
          "name": "stdout"
        }
      ]
    },
    {
      "cell_type": "code",
      "metadata": {
        "colab": {
          "base_uri": "https://localhost:8080/",
          "height": 191
        },
        "id": "pzvVIHrVn7pt",
        "outputId": "697be142-c063-4ca7-a90c-5766c07160ee"
      },
      "source": [
        "#load and read dataset\n",
        "df = pd.read_csv('/content/drive/MyDrive/25052021/Copy of week_1_potential_outcomes.csv')\n",
        "df.head()"
      ],
      "execution_count": null,
      "outputs": [
        {
          "output_type": "execute_result",
          "data": {
            "text/html": [
              "<div>\n",
              "<style scoped>\n",
              "    .dataframe tbody tr th:only-of-type {\n",
              "        vertical-align: middle;\n",
              "    }\n",
              "\n",
              "    .dataframe tbody tr th {\n",
              "        vertical-align: top;\n",
              "    }\n",
              "\n",
              "    .dataframe thead th {\n",
              "        text-align: right;\n",
              "    }\n",
              "</style>\n",
              "<table border=\"1\" class=\"dataframe\">\n",
              "  <thead>\n",
              "    <tr style=\"text-align: right;\">\n",
              "      <th></th>\n",
              "      <th>Unnamed: 0</th>\n",
              "      <th>near_chipotle</th>\n",
              "      <th>production_treatment</th>\n",
              "      <th>Y0</th>\n",
              "      <th>Y1</th>\n",
              "    </tr>\n",
              "  </thead>\n",
              "  <tbody>\n",
              "    <tr>\n",
              "      <th>0</th>\n",
              "      <td>0</td>\n",
              "      <td>1</td>\n",
              "      <td>1</td>\n",
              "      <td>12.27</td>\n",
              "      <td>23.25</td>\n",
              "    </tr>\n",
              "    <tr>\n",
              "      <th>1</th>\n",
              "      <td>1</td>\n",
              "      <td>1</td>\n",
              "      <td>1</td>\n",
              "      <td>14.18</td>\n",
              "      <td>25.77</td>\n",
              "    </tr>\n",
              "    <tr>\n",
              "      <th>2</th>\n",
              "      <td>2</td>\n",
              "      <td>1</td>\n",
              "      <td>1</td>\n",
              "      <td>12.16</td>\n",
              "      <td>19.16</td>\n",
              "    </tr>\n",
              "    <tr>\n",
              "      <th>3</th>\n",
              "      <td>3</td>\n",
              "      <td>1</td>\n",
              "      <td>1</td>\n",
              "      <td>13.99</td>\n",
              "      <td>24.38</td>\n",
              "    </tr>\n",
              "    <tr>\n",
              "      <th>4</th>\n",
              "      <td>4</td>\n",
              "      <td>1</td>\n",
              "      <td>1</td>\n",
              "      <td>14.84</td>\n",
              "      <td>25.21</td>\n",
              "    </tr>\n",
              "  </tbody>\n",
              "</table>\n",
              "</div>"
            ],
            "text/plain": [
              "   Unnamed: 0  near_chipotle  production_treatment     Y0     Y1\n",
              "0           0              1                     1  12.27  23.25\n",
              "1           1              1                     1  14.18  25.77\n",
              "2           2              1                     1  12.16  19.16\n",
              "3           3              1                     1  13.99  24.38\n",
              "4           4              1                     1  14.84  25.21"
            ]
          },
          "metadata": {
            "tags": []
          },
          "execution_count": 31
        }
      ]
    },
    {
      "cell_type": "code",
      "metadata": {
        "colab": {
          "base_uri": "https://localhost:8080/",
          "height": 191
        },
        "id": "YfQkFFntfVwV",
        "outputId": "19b1aa96-8962-4674-a02a-3cdbc7b97c35"
      },
      "source": [
        "#drop UNnames: 0 column\n",
        "df.drop(['Unnamed: 0'],1, inplace=True)\n",
        "df.head()"
      ],
      "execution_count": null,
      "outputs": [
        {
          "output_type": "execute_result",
          "data": {
            "text/html": [
              "<div>\n",
              "<style scoped>\n",
              "    .dataframe tbody tr th:only-of-type {\n",
              "        vertical-align: middle;\n",
              "    }\n",
              "\n",
              "    .dataframe tbody tr th {\n",
              "        vertical-align: top;\n",
              "    }\n",
              "\n",
              "    .dataframe thead th {\n",
              "        text-align: right;\n",
              "    }\n",
              "</style>\n",
              "<table border=\"1\" class=\"dataframe\">\n",
              "  <thead>\n",
              "    <tr style=\"text-align: right;\">\n",
              "      <th></th>\n",
              "      <th>near_chipotle</th>\n",
              "      <th>production_treatment</th>\n",
              "      <th>Y0</th>\n",
              "      <th>Y1</th>\n",
              "    </tr>\n",
              "  </thead>\n",
              "  <tbody>\n",
              "    <tr>\n",
              "      <th>0</th>\n",
              "      <td>1</td>\n",
              "      <td>1</td>\n",
              "      <td>12.27</td>\n",
              "      <td>23.25</td>\n",
              "    </tr>\n",
              "    <tr>\n",
              "      <th>1</th>\n",
              "      <td>1</td>\n",
              "      <td>1</td>\n",
              "      <td>14.18</td>\n",
              "      <td>25.77</td>\n",
              "    </tr>\n",
              "    <tr>\n",
              "      <th>2</th>\n",
              "      <td>1</td>\n",
              "      <td>1</td>\n",
              "      <td>12.16</td>\n",
              "      <td>19.16</td>\n",
              "    </tr>\n",
              "    <tr>\n",
              "      <th>3</th>\n",
              "      <td>1</td>\n",
              "      <td>1</td>\n",
              "      <td>13.99</td>\n",
              "      <td>24.38</td>\n",
              "    </tr>\n",
              "    <tr>\n",
              "      <th>4</th>\n",
              "      <td>1</td>\n",
              "      <td>1</td>\n",
              "      <td>14.84</td>\n",
              "      <td>25.21</td>\n",
              "    </tr>\n",
              "  </tbody>\n",
              "</table>\n",
              "</div>"
            ],
            "text/plain": [
              "   near_chipotle  production_treatment     Y0     Y1\n",
              "0              1                     1  12.27  23.25\n",
              "1              1                     1  14.18  25.77\n",
              "2              1                     1  12.16  19.16\n",
              "3              1                     1  13.99  24.38\n",
              "4              1                     1  14.84  25.21"
            ]
          },
          "metadata": {
            "tags": []
          },
          "execution_count": 32
        }
      ]
    },
    {
      "cell_type": "markdown",
      "metadata": {
        "id": "YZHRjMV9y82O"
      },
      "source": [
        "## B:Create a variable production_Y"
      ]
    },
    {
      "cell_type": "code",
      "metadata": {
        "colab": {
          "base_uri": "https://localhost:8080/",
          "height": 191
        },
        "id": "gdGcg1tTqLOV",
        "outputId": "b145f543-2a02-4af7-888c-3d04c91a18e6"
      },
      "source": [
        "df['production_y'] = df[[\"Y0\",\"Y1\"]].mean(axis=1)\n",
        "\n",
        "df.head()"
      ],
      "execution_count": null,
      "outputs": [
        {
          "output_type": "execute_result",
          "data": {
            "text/html": [
              "<div>\n",
              "<style scoped>\n",
              "    .dataframe tbody tr th:only-of-type {\n",
              "        vertical-align: middle;\n",
              "    }\n",
              "\n",
              "    .dataframe tbody tr th {\n",
              "        vertical-align: top;\n",
              "    }\n",
              "\n",
              "    .dataframe thead th {\n",
              "        text-align: right;\n",
              "    }\n",
              "</style>\n",
              "<table border=\"1\" class=\"dataframe\">\n",
              "  <thead>\n",
              "    <tr style=\"text-align: right;\">\n",
              "      <th></th>\n",
              "      <th>near_chipotle</th>\n",
              "      <th>production_treatment</th>\n",
              "      <th>Y0</th>\n",
              "      <th>Y1</th>\n",
              "      <th>production_y</th>\n",
              "    </tr>\n",
              "  </thead>\n",
              "  <tbody>\n",
              "    <tr>\n",
              "      <th>0</th>\n",
              "      <td>1</td>\n",
              "      <td>1</td>\n",
              "      <td>12.27</td>\n",
              "      <td>23.25</td>\n",
              "      <td>17.760</td>\n",
              "    </tr>\n",
              "    <tr>\n",
              "      <th>1</th>\n",
              "      <td>1</td>\n",
              "      <td>1</td>\n",
              "      <td>14.18</td>\n",
              "      <td>25.77</td>\n",
              "      <td>19.975</td>\n",
              "    </tr>\n",
              "    <tr>\n",
              "      <th>2</th>\n",
              "      <td>1</td>\n",
              "      <td>1</td>\n",
              "      <td>12.16</td>\n",
              "      <td>19.16</td>\n",
              "      <td>15.660</td>\n",
              "    </tr>\n",
              "    <tr>\n",
              "      <th>3</th>\n",
              "      <td>1</td>\n",
              "      <td>1</td>\n",
              "      <td>13.99</td>\n",
              "      <td>24.38</td>\n",
              "      <td>19.185</td>\n",
              "    </tr>\n",
              "    <tr>\n",
              "      <th>4</th>\n",
              "      <td>1</td>\n",
              "      <td>1</td>\n",
              "      <td>14.84</td>\n",
              "      <td>25.21</td>\n",
              "      <td>20.025</td>\n",
              "    </tr>\n",
              "  </tbody>\n",
              "</table>\n",
              "</div>"
            ],
            "text/plain": [
              "   near_chipotle  production_treatment     Y0     Y1  production_y\n",
              "0              1                     1  12.27  23.25        17.760\n",
              "1              1                     1  14.18  25.77        19.975\n",
              "2              1                     1  12.16  19.16        15.660\n",
              "3              1                     1  13.99  24.38        19.185\n",
              "4              1                     1  14.84  25.21        20.025"
            ]
          },
          "metadata": {
            "tags": []
          },
          "execution_count": 33
        }
      ]
    },
    {
      "cell_type": "code",
      "metadata": {
        "colab": {
          "base_uri": "https://localhost:8080/",
          "height": 277
        },
        "id": "djC2yiYpdv3_",
        "outputId": "8c3c2fec-1c5c-4e1b-fdd1-fcde146c92da"
      },
      "source": [
        "#dataset statistical summary\n",
        "df.describe()"
      ],
      "execution_count": null,
      "outputs": [
        {
          "output_type": "execute_result",
          "data": {
            "text/html": [
              "<div>\n",
              "<style scoped>\n",
              "    .dataframe tbody tr th:only-of-type {\n",
              "        vertical-align: middle;\n",
              "    }\n",
              "\n",
              "    .dataframe tbody tr th {\n",
              "        vertical-align: top;\n",
              "    }\n",
              "\n",
              "    .dataframe thead th {\n",
              "        text-align: right;\n",
              "    }\n",
              "</style>\n",
              "<table border=\"1\" class=\"dataframe\">\n",
              "  <thead>\n",
              "    <tr style=\"text-align: right;\">\n",
              "      <th></th>\n",
              "      <th>near_chipotle</th>\n",
              "      <th>production_treatment</th>\n",
              "      <th>Y0</th>\n",
              "      <th>Y1</th>\n",
              "      <th>production_y</th>\n",
              "    </tr>\n",
              "  </thead>\n",
              "  <tbody>\n",
              "    <tr>\n",
              "      <th>count</th>\n",
              "      <td>40.00000</td>\n",
              "      <td>40.00000</td>\n",
              "      <td>40.000000</td>\n",
              "      <td>40.000000</td>\n",
              "      <td>40.000000</td>\n",
              "    </tr>\n",
              "    <tr>\n",
              "      <th>mean</th>\n",
              "      <td>0.50000</td>\n",
              "      <td>0.50000</td>\n",
              "      <td>12.227500</td>\n",
              "      <td>17.385000</td>\n",
              "      <td>14.806250</td>\n",
              "    </tr>\n",
              "    <tr>\n",
              "      <th>std</th>\n",
              "      <td>0.50637</td>\n",
              "      <td>0.50637</td>\n",
              "      <td>2.341234</td>\n",
              "      <td>5.084314</td>\n",
              "      <td>3.589432</td>\n",
              "    </tr>\n",
              "    <tr>\n",
              "      <th>min</th>\n",
              "      <td>0.00000</td>\n",
              "      <td>0.00000</td>\n",
              "      <td>8.570000</td>\n",
              "      <td>8.300000</td>\n",
              "      <td>9.150000</td>\n",
              "    </tr>\n",
              "    <tr>\n",
              "      <th>25%</th>\n",
              "      <td>0.00000</td>\n",
              "      <td>0.00000</td>\n",
              "      <td>10.330000</td>\n",
              "      <td>13.467500</td>\n",
              "      <td>11.770000</td>\n",
              "    </tr>\n",
              "    <tr>\n",
              "      <th>50%</th>\n",
              "      <td>0.50000</td>\n",
              "      <td>0.50000</td>\n",
              "      <td>11.860000</td>\n",
              "      <td>16.830000</td>\n",
              "      <td>14.300000</td>\n",
              "    </tr>\n",
              "    <tr>\n",
              "      <th>75%</th>\n",
              "      <td>1.00000</td>\n",
              "      <td>1.00000</td>\n",
              "      <td>14.585000</td>\n",
              "      <td>21.457500</td>\n",
              "      <td>18.250000</td>\n",
              "    </tr>\n",
              "    <tr>\n",
              "      <th>max</th>\n",
              "      <td>1.00000</td>\n",
              "      <td>1.00000</td>\n",
              "      <td>16.640000</td>\n",
              "      <td>25.770000</td>\n",
              "      <td>20.780000</td>\n",
              "    </tr>\n",
              "  </tbody>\n",
              "</table>\n",
              "</div>"
            ],
            "text/plain": [
              "       near_chipotle  production_treatment         Y0         Y1  production_y\n",
              "count       40.00000              40.00000  40.000000  40.000000     40.000000\n",
              "mean         0.50000               0.50000  12.227500  17.385000     14.806250\n",
              "std          0.50637               0.50637   2.341234   5.084314      3.589432\n",
              "min          0.00000               0.00000   8.570000   8.300000      9.150000\n",
              "25%          0.00000               0.00000  10.330000  13.467500     11.770000\n",
              "50%          0.50000               0.50000  11.860000  16.830000     14.300000\n",
              "75%          1.00000               1.00000  14.585000  21.457500     18.250000\n",
              "max          1.00000               1.00000  16.640000  25.770000     20.780000"
            ]
          },
          "metadata": {
            "tags": []
          },
          "execution_count": 34
        }
      ]
    },
    {
      "cell_type": "markdown",
      "metadata": {
        "id": "xkfPhf7KzxKP"
      },
      "source": [
        "## C: Calculate the Simple Difference In Outcomes"
      ]
    },
    {
      "cell_type": "code",
      "metadata": {
        "colab": {
          "base_uri": "https://localhost:8080/",
          "height": 37
        },
        "id": "ODhocKox0_03",
        "outputId": "2d7b5c53-4e28-4f34-9ba6-b7d4cd426618"
      },
      "source": [
        "production_treatment_before = df.query(\"production_treatment\t==0 & production_treatment\t==0\")[\"production_y\"].mean()\n",
        "\n",
        "production_treatment_after = df.query(\"production_treatment\t==1 & production_treatment\t==1\")[\"production_y\"].mean()\n",
        "\n",
        "production_treatment_after - production_treatment_before"
      ],
      "execution_count": null,
      "outputs": [
        {
          "output_type": "execute_result",
          "data": {
            "image/png": "[encoded data removed]",
            "text/latex": "$\\displaystyle 6.373$",
            "text/plain": [
              "6.3729999999999976"
            ]
          },
          "metadata": {
            "tags": []
          },
          "execution_count": 35
        }
      ]
    },
    {
      "cell_type": "markdown",
      "metadata": {
        "id": "xpTeFjCgq0GR"
      },
      "source": [
        "## D:Calculate the Selection Bias"
      ]
    },
    {
      "cell_type": "code",
      "metadata": {
        "colab": {
          "base_uri": "https://localhost:8080/"
        },
        "id": "KgjGgDDfroa4",
        "outputId": "e38239af-8771-4c58-98ef-3189ca658bc7"
      },
      "source": [
        "%pip install mlxtend --upgrade"
      ],
      "execution_count": null,
      "outputs": [
        {
          "output_type": "stream",
          "text": [
            "Requirement already up-to-date: mlxtend in /usr/local/lib/python3.7/dist-packages (0.18.0)\n",
            "Requirement already satisfied, skipping upgrade: numpy>=1.16.2 in /usr/local/lib/python3.7/dist-packages (from mlxtend) (1.19.5)\n",
            "Requirement already satisfied, skipping upgrade: pandas>=0.24.2 in /usr/local/lib/python3.7/dist-packages (from mlxtend) (1.1.5)\n",
            "Requirement already satisfied, skipping upgrade: scikit-learn>=0.20.3 in /usr/local/lib/python3.7/dist-packages (from mlxtend) (0.22.2.post1)\n",
            "Requirement already satisfied, skipping upgrade: setuptools in /usr/local/lib/python3.7/dist-packages (from mlxtend) (57.0.0)\n",
            "Requirement already satisfied, skipping upgrade: matplotlib>=3.0.0 in /usr/local/lib/python3.7/dist-packages (from mlxtend) (3.2.2)\n",
            "Requirement already satisfied, skipping upgrade: joblib>=0.13.2 in /usr/local/lib/python3.7/dist-packages (from mlxtend) (1.0.1)\n",
            "Requirement already satisfied, skipping upgrade: scipy>=1.2.1 in /usr/local/lib/python3.7/dist-packages (from mlxtend) (1.4.1)\n",
            "Requirement already satisfied, skipping upgrade: python-dateutil>=2.7.3 in /usr/local/lib/python3.7/dist-packages (from pandas>=0.24.2->mlxtend) (2.8.1)\n",
            "Requirement already satisfied, skipping upgrade: pytz>=2017.2 in /usr/local/lib/python3.7/dist-packages (from pandas>=0.24.2->mlxtend) (2018.9)\n",
            "Requirement already satisfied, skipping upgrade: cycler>=0.10 in /usr/local/lib/python3.7/dist-packages (from matplotlib>=3.0.0->mlxtend) (0.10.0)\n",
            "Requirement already satisfied, skipping upgrade: pyparsing!=2.0.4,!=2.1.2,!=2.1.6,>=2.0.1 in /usr/local/lib/python3.7/dist-packages (from matplotlib>=3.0.0->mlxtend) (2.4.7)\n",
            "Requirement already satisfied, skipping upgrade: kiwisolver>=1.0.1 in /usr/local/lib/python3.7/dist-packages (from matplotlib>=3.0.0->mlxtend) (1.3.1)\n",
            "Requirement already satisfied, skipping upgrade: six>=1.5 in /usr/local/lib/python3.7/dist-packages (from python-dateutil>=2.7.3->pandas>=0.24.2->mlxtend) (1.15.0)\n"
          ],
          "name": "stdout"
        }
      ]
    },
    {
      "cell_type": "code",
      "metadata": {
        "colab": {
          "base_uri": "https://localhost:8080/"
        },
        "id": "Tuj0IvxGqtJX",
        "outputId": "c5eca851-7018-4a3d-c4d7-3550336418ed"
      },
      "source": [
        "# estimate the bias and variance for a regression model\n",
        "from sklearn.model_selection import train_test_split\n",
        "from sklearn.linear_model import LinearRegression\n",
        "import mlxtend\n",
        "from mlxtend.evaluate import bias_variance_decomp\n",
        "\n",
        "# separate into inputs and outputs\n",
        "data = df.values\n",
        "X, y = data[:, :-1], data[:, -1]\n",
        "\n",
        "# split the data\n",
        "X_train, X_test, y_train, y_test = train_test_split(X, y, test_size=0.2, random_state=1)\n",
        "# define the model\n",
        "model = LinearRegression()\n",
        "# estimate bias and variance\n",
        "mse, bias, var = bias_variance_decomp(model, X_train, y_train, X_test, y_test, loss='mse', num_rounds=200, random_seed=42)\n",
        "# summarize results\n",
        "print('MSE: %.3f' % mse)\n",
        "print('Bias: %.3f' % bias)\n",
        "print('Variance: %.3f' % var)"
      ],
      "execution_count": null,
      "outputs": [
        {
          "output_type": "stream",
          "text": [
            "MSE: 0.000\n",
            "Bias: 0.000\n",
            "Variance: 0.000\n"
          ],
          "name": "stdout"
        }
      ]
    },
    {
      "cell_type": "markdown",
      "metadata": {
        "id": "Y-itp_h-yZDD"
      },
      "source": [
        "## E:Calculate the Heterogeneous Treatment Effect Bias"
      ]
    },
    {
      "cell_type": "code",
      "metadata": {
        "colab": {
          "base_uri": "https://localhost:8080/"
        },
        "id": "qQsRY6CP7612",
        "outputId": "1aaaa84c-8048-4268-9d36-6023983ea22f"
      },
      "source": [
        "!pip install econml"
      ],
      "execution_count": null,
      "outputs": [
        {
          "output_type": "stream",
          "text": [
            "Requirement already satisfied: econml in /usr/local/lib/python3.7/dist-packages (0.11.1)\n",
            "Requirement already satisfied: graphviz in /usr/local/lib/python3.7/dist-packages (from econml) (0.10.1)\n",
            "Requirement already satisfied: lightgbm in /usr/local/lib/python3.7/dist-packages (from econml) (2.2.3)\n",
            "Requirement already satisfied: numba!=0.42.1 in /usr/local/lib/python3.7/dist-packages (from econml) (0.51.2)\n",
            "Requirement already satisfied: numpy in /usr/local/lib/python3.7/dist-packages (from econml) (1.19.5)\n",
            "Requirement already satisfied: sparse in /usr/local/lib/python3.7/dist-packages (from econml) (0.12.0)\n",
            "Requirement already satisfied: joblib>=0.13.0 in /usr/local/lib/python3.7/dist-packages (from econml) (1.0.1)\n",
            "Requirement already satisfied: statsmodels>=0.10 in /usr/local/lib/python3.7/dist-packages (from econml) (0.10.2)\n",
            "Requirement already satisfied: shap~=0.38.1 in /usr/local/lib/python3.7/dist-packages (from econml) (0.38.1)\n",
            "Requirement already satisfied: dowhy in /usr/local/lib/python3.7/dist-packages (from econml) (0.6)\n",
            "Requirement already satisfied: scipy>1.4.0 in /usr/local/lib/python3.7/dist-packages (from econml) (1.4.1)\n",
            "Requirement already satisfied: scikit-learn>0.22.0 in /usr/local/lib/python3.7/dist-packages (from econml) (0.22.2.post1)\n",
            "Requirement already satisfied: pandas in /usr/local/lib/python3.7/dist-packages (from econml) (1.1.5)\n",
            "Requirement already satisfied: llvmlite<0.35,>=0.34.0.dev0 in /usr/local/lib/python3.7/dist-packages (from numba!=0.42.1->econml) (0.34.0)\n",
            "Requirement already satisfied: setuptools in /usr/local/lib/python3.7/dist-packages (from numba!=0.42.1->econml) (57.0.0)\n",
            "Requirement already satisfied: patsy>=0.4.0 in /usr/local/lib/python3.7/dist-packages (from statsmodels>=0.10->econml) (0.5.1)\n",
            "Requirement already satisfied: cloudpickle in /usr/local/lib/python3.7/dist-packages (from shap~=0.38.1->econml) (1.3.0)\n",
            "Requirement already satisfied: tqdm>4.25.0 in /usr/local/lib/python3.7/dist-packages (from shap~=0.38.1->econml) (4.41.1)\n",
            "Requirement already satisfied: slicer==0.0.7 in /usr/local/lib/python3.7/dist-packages (from shap~=0.38.1->econml) (0.0.7)\n",
            "Requirement already satisfied: networkx>=2.0 in /usr/local/lib/python3.7/dist-packages (from dowhy->econml) (2.5.1)\n",
            "Requirement already satisfied: pydot>=1.4 in /usr/local/lib/python3.7/dist-packages (from dowhy->econml) (1.4.2)\n",
            "Requirement already satisfied: sympy>=1.4 in /usr/local/lib/python3.7/dist-packages (from dowhy->econml) (1.7.1)\n",
            "Requirement already satisfied: python-dateutil>=2.7.3 in /usr/local/lib/python3.7/dist-packages (from pandas->econml) (2.8.1)\n",
            "Requirement already satisfied: pytz>=2017.2 in /usr/local/lib/python3.7/dist-packages (from pandas->econml) (2018.9)\n",
            "Requirement already satisfied: six in /usr/local/lib/python3.7/dist-packages (from patsy>=0.4.0->statsmodels>=0.10->econml) (1.15.0)\n",
            "Requirement already satisfied: decorator<5,>=4.3 in /usr/local/lib/python3.7/dist-packages (from networkx>=2.0->dowhy->econml) (4.4.2)\n",
            "Requirement already satisfied: pyparsing>=2.1.4 in /usr/local/lib/python3.7/dist-packages (from pydot>=1.4->dowhy->econml) (2.4.7)\n",
            "Requirement already satisfied: mpmath>=0.19 in /usr/local/lib/python3.7/dist-packages (from sympy>=1.4->dowhy->econml) (1.2.1)\n"
          ],
          "name": "stdout"
        }
      ]
    },
    {
      "cell_type": "code",
      "metadata": {
        "id": "NtGf-wc02rry",
        "colab": {
          "base_uri": "https://localhost:8080/"
        },
        "outputId": "42e7d7ca-0d4e-4c8d-edc0-402bf4f79eac"
      },
      "source": [
        "from econml.dml import SparseLinearDML\n",
        "from sklearn.preprocessing import PolynomialFeatures\n",
        "est = SparseLinearDML(featurizer=PolynomialFeatures(degree=4, include_bias=True))\n",
        "T=df.production_y\n",
        "y=df.production_treatment\n",
        "X=df[['production_treatment','Y1','Y0']]\n",
        "W = df[['Y1','Y0']]\n",
        "est.fit(y, T, X=X, W=W)\n",
        "lb, ub = est.const_marginal_effect_interval(X, alpha=.05)"
      ],
      "execution_count": null,
      "outputs": [
        {
          "output_type": "stream",
          "text": [
            "Objective did not converge. You might want to increase the number of iterations. Duality gap: 0.00171195109058897, tolerance: 0.00039375\n",
            "Objective did not converge. You might want to increase the number of iterations. Duality gap: 0.0028426326263093493, tolerance: 0.00039375\n",
            "Objective did not converge. You might want to increase the number of iterations. Duality gap: 0.0035021319629531256, tolerance: 0.00039375\n",
            "Objective did not converge. You might want to increase the number of iterations. Duality gap: 0.0011491916542254454, tolerance: 0.00039375\n",
            "Objective did not converge. You might want to increase the number of iterations. Duality gap: 0.0016053104997031387, tolerance: 0.00039375\n",
            "Objective did not converge. You might want to increase the number of iterations. Duality gap: 0.0018535453801264978, tolerance: 0.00039375\n",
            "Objective did not converge. You might want to increase the number of iterations. Duality gap: 0.001963048092901931, tolerance: 0.00039375\n",
            "Objective did not converge. You might want to increase the number of iterations. Duality gap: 0.0019830434119578744, tolerance: 0.00039375\n",
            "Objective did not converge. You might want to increase the number of iterations. Duality gap: 0.0019473495945357966, tolerance: 0.00039375\n",
            "Objective did not converge. You might want to increase the number of iterations. Duality gap: 0.0018786446489023056, tolerance: 0.00039375\n",
            "Objective did not converge. You might want to increase the number of iterations. Duality gap: 0.0017918457110454034, tolerance: 0.00039375\n",
            "Objective did not converge. You might want to increase the number of iterations. Duality gap: 0.003811195445248994, tolerance: 0.00039375\n",
            "Objective did not converge. You might want to increase the number of iterations. Duality gap: 0.007220168322150666, tolerance: 0.00034375000000000003\n",
            "Objective did not converge. You might want to increase the number of iterations. Duality gap: 0.007390696647414097, tolerance: 0.00034375000000000003\n",
            "Objective did not converge. You might want to increase the number of iterations. Duality gap: 0.007333302451886015, tolerance: 0.00034375000000000003\n",
            "Objective did not converge. You might want to increase the number of iterations. Duality gap: 0.00040462965156695674, tolerance: 0.00034375000000000003\n",
            "Objective did not converge. You might want to increase the number of iterations. Duality gap: 0.0005294539858355929, tolerance: 0.00034375000000000003\n",
            "Objective did not converge. You might want to increase the number of iterations. Duality gap: 0.0013042087626746746, tolerance: 0.00034375000000000003\n",
            "Objective did not converge. You might want to increase the number of iterations. Duality gap: 0.002389889847225324, tolerance: 0.00034375000000000003\n",
            "Objective did not converge. You might want to increase the number of iterations. Duality gap: 0.0032759733009098957, tolerance: 0.00034375000000000003\n",
            "Objective did not converge. You might want to increase the number of iterations. Duality gap: 0.003998036634677848, tolerance: 0.000495\n",
            "Objective did not converge. You might want to increase the number of iterations. Duality gap: 0.0005124715225977017, tolerance: 0.00034375000000000003\n",
            "Objective did not converge. You might want to increase the number of iterations. Duality gap: 0.0014185480699083208, tolerance: 0.00034375000000000003\n",
            "Objective did not converge. You might want to increase the number of iterations. Duality gap: 0.0014008426437306376, tolerance: 0.00034375000000000003\n",
            "Objective did not converge. You might want to increase the number of iterations. Duality gap: 0.001366677617696599, tolerance: 0.00034375000000000003\n",
            "Objective did not converge. You might want to increase the number of iterations. Duality gap: 0.0013216864815820406, tolerance: 0.00034375000000000003\n",
            "Objective did not converge. You might want to increase the number of iterations. Duality gap: 0.000442982513701784, tolerance: 0.0004\n",
            "Objective did not converge. You might want to increase the number of iterations. Duality gap: 0.0014360887545927792, tolerance: 0.0004\n",
            "Objective did not converge. You might want to increase the number of iterations. Duality gap: 0.000714467701188326, tolerance: 0.0004\n",
            "Objective did not converge. You might want to increase the number of iterations. Duality gap: 0.0015700551861992373, tolerance: 0.0004\n",
            "Objective did not converge. You might want to increase the number of iterations. Duality gap: 0.000648456181046253, tolerance: 0.0004\n",
            "Objective did not converge. You might want to increase the number of iterations. Duality gap: 0.0024615612816167864, tolerance: 0.0004\n",
            "Objective did not converge. You might want to increase the number of iterations. Duality gap: 0.0031426481052237998, tolerance: 0.0004\n",
            "Objective did not converge. You might want to increase the number of iterations. Duality gap: 0.003503137691831304, tolerance: 0.0004\n",
            "Objective did not converge. You might want to increase the number of iterations. Duality gap: 0.0036561637963425375, tolerance: 0.0004\n",
            "Objective did not converge. You might want to increase the number of iterations. Duality gap: 0.0036774851928341734, tolerance: 0.0004\n",
            "Objective did not converge. You might want to increase the number of iterations. Duality gap: 0.0036169283629734483, tolerance: 0.0004\n",
            "Objective did not converge. You might want to increase the number of iterations. Duality gap: 0.003506906399453058, tolerance: 0.0004\n",
            "Objective did not converge. You might want to increase the number of iterations. Duality gap: 0.0033683493603582915, tolerance: 0.0004\n",
            "Objective did not converge. You might want to increase the number of iterations. Duality gap: 0.001240220418602167, tolerance: 0.00039375\n",
            "Objective did not converge. You might want to increase the number of iterations. Duality gap: 0.0006371244070142446, tolerance: 0.00039375\n",
            "Objective did not converge. You might want to increase the number of iterations. Duality gap: 0.0011927176027182185, tolerance: 0.00039375\n",
            "Objective did not converge. You might want to increase the number of iterations. Duality gap: 0.0011113870576526796, tolerance: 0.00039375\n",
            "Objective did not converge. You might want to increase the number of iterations. Duality gap: 0.0010474961288344797, tolerance: 0.00039375\n",
            "Objective did not converge. You might want to increase the number of iterations. Duality gap: 0.003464785137034576, tolerance: 0.00039375\n",
            "Objective did not converge. You might want to increase the number of iterations. Duality gap: 0.025788574339539738, tolerance: 0.000495\n",
            "Objective did not converge. You might want to increase the number of iterations. Duality gap: 0.0003254585328735793, tolerance: 9.288485552394693e-05\n",
            "Objective did not converge. You might want to increase the number of iterations. Duality gap: 0.0006970785482676156, tolerance: 9.288485552394693e-05\n",
            "Objective did not converge. You might want to increase the number of iterations. Duality gap: 0.0011857255664274868, tolerance: 9.288485552394693e-05\n",
            "Objective did not converge. You might want to increase the number of iterations. Duality gap: 0.0017830634955208202, tolerance: 9.288485552394693e-05\n",
            "Objective did not converge. You might want to increase the number of iterations. Duality gap: 0.002482099620541023, tolerance: 9.288485552394693e-05\n",
            "Objective did not converge. You might want to increase the number of iterations. Duality gap: 0.0032768203776908367, tolerance: 9.288485552394693e-05\n",
            "Objective did not converge. You might want to increase the number of iterations. Duality gap: 0.004161920657417606, tolerance: 9.288485552394693e-05\n",
            "Objective did not converge. You might want to increase the number of iterations. Duality gap: 0.005132604995288892, tolerance: 9.288485552394693e-05\n",
            "Objective did not converge. You might want to increase the number of iterations. Duality gap: 0.0058567315679638465, tolerance: 9.288485552394693e-05\n",
            "Objective did not converge. You might want to increase the number of iterations. Duality gap: 0.001582422591396071, tolerance: 9.288485552394693e-05\n",
            "Objective did not converge. You might want to increase the number of iterations. Duality gap: 0.012160993762427852, tolerance: 9.288485552394693e-05\n",
            "Objective did not converge. You might want to increase the number of iterations. Duality gap: 0.04952361352039747, tolerance: 9.288485552394693e-05\n",
            "Objective did not converge. You might want to increase the number of iterations. Duality gap: 0.00021171456929403032, tolerance: 9.975350635964289e-05\n",
            "Objective did not converge. You might want to increase the number of iterations. Duality gap: 0.000192174416392632, tolerance: 9.975350635964289e-05\n",
            "Objective did not converge. You might want to increase the number of iterations. Duality gap: 0.00017781607101419183, tolerance: 9.975350635964289e-05\n",
            "Objective did not converge. You might want to increase the number of iterations. Duality gap: 0.00016643595153342794, tolerance: 9.975350635964289e-05\n",
            "Objective did not converge. You might want to increase the number of iterations. Duality gap: 0.00015692039775450084, tolerance: 9.975350635964289e-05\n",
            "Objective did not converge. You might want to increase the number of iterations. Duality gap: 0.00012726652260031113, tolerance: 7.971468931310864e-05\n",
            "Objective did not converge. You might want to increase the number of iterations. Duality gap: 0.0003344823604932712, tolerance: 7.971468931310864e-05\n",
            "Objective did not converge. You might want to increase the number of iterations. Duality gap: 0.000397027582970777, tolerance: 7.971468931310864e-05\n",
            "Objective did not converge. You might want to increase the number of iterations. Duality gap: 0.002401441178125241, tolerance: 7.971468931310864e-05\n",
            "Objective did not converge. You might want to increase the number of iterations. Duality gap: 0.006430683067347398, tolerance: 7.971468931310864e-05\n",
            "Objective did not converge. You might want to increase the number of iterations. Duality gap: 0.009030847305509515, tolerance: 7.971468931310864e-05\n",
            "Objective did not converge. You might want to increase the number of iterations. Duality gap: 0.010494450656338805, tolerance: 7.971468931310864e-05\n",
            "Objective did not converge. You might want to increase the number of iterations. Duality gap: 0.011278017608441049, tolerance: 7.971468931310864e-05\n",
            "Objective did not converge. You might want to increase the number of iterations. Duality gap: 0.011679790888921349, tolerance: 7.971468931310864e-05\n",
            "Objective did not converge. You might want to increase the number of iterations. Duality gap: 0.011870600669618925, tolerance: 7.971468931310864e-05\n",
            "Objective did not converge. You might want to increase the number of iterations. Duality gap: 0.011944596884196912, tolerance: 7.971468931310864e-05\n",
            "Objective did not converge. You might want to increase the number of iterations. Duality gap: 0.011913984190462634, tolerance: 7.971468931310864e-05\n",
            "Objective did not converge. You might want to increase the number of iterations. Duality gap: 0.010262543048338735, tolerance: 7.971468931310864e-05\n",
            "Objective did not converge. You might want to increase the number of iterations. Duality gap: 0.009317845682400072, tolerance: 7.971468931310864e-05\n",
            "Objective did not converge. You might want to increase the number of iterations. Duality gap: 0.008762986168899145, tolerance: 7.971468931310864e-05\n",
            "Objective did not converge. You might want to increase the number of iterations. Duality gap: 0.008425043866848392, tolerance: 7.971468931310864e-05\n",
            "Objective did not converge. You might want to increase the number of iterations. Duality gap: 0.008208351441383432, tolerance: 7.971468931310864e-05\n",
            "Objective did not converge. You might want to increase the number of iterations. Duality gap: 0.008059440722451072, tolerance: 7.971468931310864e-05\n",
            "Objective did not converge. You might want to increase the number of iterations. Duality gap: 0.007948308701433926, tolerance: 7.971468931310864e-05\n",
            "Objective did not converge. You might want to increase the number of iterations. Duality gap: 0.007858162763425047, tolerance: 7.971468931310864e-05\n",
            "Objective did not converge. You might want to increase the number of iterations. Duality gap: 0.007779693571804025, tolerance: 7.971468931310864e-05\n",
            "Objective did not converge. You might want to increase the number of iterations. Duality gap: 0.007707833193466185, tolerance: 7.971468931310864e-05\n",
            "Objective did not converge. You might want to increase the number of iterations. Duality gap: 0.007639906281036057, tolerance: 7.971468931310864e-05\n",
            "Objective did not converge. You might want to increase the number of iterations. Duality gap: 0.0003328404350120273, tolerance: 0.00010647494578725312\n",
            "Objective did not converge. You might want to increase the number of iterations. Duality gap: 0.0005268161064262422, tolerance: 0.00010647494578725312\n",
            "Objective did not converge. You might want to increase the number of iterations. Duality gap: 0.0005182724674831496, tolerance: 0.00010647494578725312\n",
            "Objective did not converge. You might want to increase the number of iterations. Duality gap: 0.0023026821504193995, tolerance: 0.00010647494578725312\n",
            "Objective did not converge. You might want to increase the number of iterations. Duality gap: 0.006978862493961069, tolerance: 0.00010647494578725312\n",
            "Objective did not converge. You might want to increase the number of iterations. Duality gap: 0.009746041434843145, tolerance: 0.00010647494578725312\n",
            "Objective did not converge. You might want to increase the number of iterations. Duality gap: 0.011141505080058955, tolerance: 0.00010647494578725312\n",
            "Objective did not converge. You might want to increase the number of iterations. Duality gap: 0.011802981269217527, tolerance: 0.00010647494578725312\n",
            "Objective did not converge. You might want to increase the number of iterations. Duality gap: 0.012093187400243344, tolerance: 0.00010647494578725312\n",
            "Objective did not converge. You might want to increase the number of iterations. Duality gap: 0.01219592688428306, tolerance: 0.00010647494578725312\n",
            "Objective did not converge. You might want to increase the number of iterations. Duality gap: 0.01220174927751394, tolerance: 0.00010647494578725312\n",
            "Objective did not converge. You might want to increase the number of iterations. Duality gap: 0.012155418789475347, tolerance: 0.00010647494578725312\n",
            "Objective did not converge. You might want to increase the number of iterations. Duality gap: 0.012079620839092864, tolerance: 0.00010647494578725312\n",
            "Objective did not converge. You might want to increase the number of iterations. Duality gap: 0.011986386248214798, tolerance: 0.00010647494578725312\n",
            "Objective did not converge. You might want to increase the number of iterations. Duality gap: 0.011882526276920768, tolerance: 0.00010647494578725312\n",
            "Objective did not converge. You might want to increase the number of iterations. Duality gap: 0.01131106631804013, tolerance: 0.00010647494578725312\n",
            "Objective did not converge. You might want to increase the number of iterations. Duality gap: 0.0076784113754848615, tolerance: 0.00010647494578725312\n",
            "Objective did not converge. You might want to increase the number of iterations. Duality gap: 0.005832860775729198, tolerance: 0.00010647494578725312\n",
            "Objective did not converge. You might want to increase the number of iterations. Duality gap: 0.004861334874937118, tolerance: 0.00010647494578725312\n",
            "Objective did not converge. You might want to increase the number of iterations. Duality gap: 0.00432864111348974, tolerance: 0.00010647494578725312\n",
            "Objective did not converge. You might want to increase the number of iterations. Duality gap: 0.004022479521469835, tolerance: 0.00010647494578725312\n",
            "Objective did not converge. You might want to increase the number of iterations. Duality gap: 0.003835548750171225, tolerance: 0.00010647494578725312\n",
            "Objective did not converge. You might want to increase the number of iterations. Duality gap: 0.003711955694614133, tolerance: 0.00010647494578725312\n",
            "Objective did not converge. You might want to increase the number of iterations. Duality gap: 0.003622042819655502, tolerance: 0.00010647494578725312\n",
            "Objective did not converge. You might want to increase the number of iterations. Duality gap: 0.0035499754554718654, tolerance: 0.00010647494578725312\n",
            "Objective did not converge. You might want to increase the number of iterations. Duality gap: 0.003487345171365397, tolerance: 0.00010647494578725312\n",
            "Objective did not converge. You might want to increase the number of iterations. Duality gap: 0.0034297671339634794, tolerance: 0.00010647494578725312\n",
            "Objective did not converge. You might want to increase the number of iterations. Duality gap: 0.0033750348080140435, tolerance: 0.00010647494578725312\n",
            "Objective did not converge. You might want to increase the number of iterations. Duality gap: 0.0033221095985257465, tolerance: 0.00010647494578725312\n",
            "Objective did not converge. You might want to increase the number of iterations. Duality gap: 0.0004326814284654201, tolerance: 0.00011137756106716346\n",
            "Objective did not converge. You might want to increase the number of iterations. Duality gap: 0.0005043192713124478, tolerance: 0.00011137756106716346\n",
            "Objective did not converge. You might want to increase the number of iterations. Duality gap: 0.00365562649072515, tolerance: 0.00011137756106716346\n",
            "Objective did not converge. You might want to increase the number of iterations. Duality gap: 0.007803848691369075, tolerance: 0.00011137756106716346\n",
            "Objective did not converge. You might want to increase the number of iterations. Duality gap: 0.01006509236553943, tolerance: 0.00011137756106716346\n",
            "Objective did not converge. You might want to increase the number of iterations. Duality gap: 0.011163612265798317, tolerance: 0.00011137756106716346\n",
            "Objective did not converge. You might want to increase the number of iterations. Duality gap: 0.011927718032345602, tolerance: 0.00011137756106716346\n",
            "Objective did not converge. You might want to increase the number of iterations. Duality gap: 0.010201501255309053, tolerance: 0.00011137756106716346\n",
            "Objective did not converge. You might want to increase the number of iterations. Duality gap: 0.009143268838682661, tolerance: 0.00011137756106716346\n",
            "Objective did not converge. You might want to increase the number of iterations. Duality gap: 0.008615567090462961, tolerance: 0.00011137756106716346\n",
            "Objective did not converge. You might want to increase the number of iterations. Duality gap: 0.008340440674409866, tolerance: 0.00011137756106716346\n",
            "Objective did not converge. You might want to increase the number of iterations. Duality gap: 0.008184097924931688, tolerance: 0.00011137756106716346\n",
            "Objective did not converge. You might want to increase the number of iterations. Duality gap: 0.008081281903929538, tolerance: 0.00011137756106716346\n",
            "Objective did not converge. You might want to increase the number of iterations. Duality gap: 0.008000351679986806, tolerance: 0.00011137756106716346\n",
            "Objective did not converge. You might want to increase the number of iterations. Duality gap: 0.007926402912904806, tolerance: 0.00011137756106716346\n",
            "Objective did not converge. You might want to increase the number of iterations. Duality gap: 0.007852869559262232, tolerance: 0.00011137756106716346\n",
            "Objective did not converge. You might want to increase the number of iterations. Duality gap: 0.007777286741307177, tolerance: 0.00011137756106716346\n",
            "Objective did not converge. You might want to increase the number of iterations. Duality gap: 0.007699146019176761, tolerance: 0.00011137756106716346\n",
            "Objective did not converge. You might want to increase the number of iterations. Duality gap: 0.007618815147175884, tolerance: 0.00011137756106716346\n",
            "Objective did not converge. You might want to increase the number of iterations. Duality gap: 0.00753700133281443, tolerance: 0.00011137756106716346\n",
            "Objective did not converge. You might want to increase the number of iterations. Duality gap: 0.007454491527634777, tolerance: 0.00011137756106716346\n",
            "Objective did not converge. You might want to increase the number of iterations. Duality gap: 0.007372033047717386, tolerance: 0.00011137756106716346\n",
            "Objective did not converge. You might want to increase the number of iterations. Duality gap: 0.002981680788596841, tolerance: 0.00011137756106716346\n",
            "Objective did not converge. You might want to increase the number of iterations. Duality gap: 0.00022927937805194976, tolerance: 0.00011137756106716346\n",
            "Objective did not converge. You might want to increase the number of iterations. Duality gap: 0.0003175188709692023, tolerance: 0.00011137756106716346\n",
            "Objective did not converge. You might want to increase the number of iterations. Duality gap: 8.879054233925992e-07, tolerance: 3.04972876857674e-07\n",
            "Objective did not converge. You might want to increase the number of iterations. Duality gap: 5.6754102070084595e-06, tolerance: 3.04972876857674e-07\n",
            "Objective did not converge. You might want to increase the number of iterations. Duality gap: 3.0501726520011955e-06, tolerance: 3.04972876857674e-07\n",
            "Objective did not converge. You might want to increase the number of iterations. Duality gap: 8.879054233925992e-07, tolerance: 3.04972876857674e-07\n",
            "Objective did not converge. You might want to increase the number of iterations. Duality gap: 5.6754102070084595e-06, tolerance: 3.04972876857674e-07\n",
            "Objective did not converge. You might want to increase the number of iterations. Duality gap: 3.0501726520011955e-06, tolerance: 3.04972876857674e-07\n",
            "Objective did not converge. You might want to increase the number of iterations. Duality gap: 3.09054886104491e-07, tolerance: 1.6920132127891978e-07\n",
            "Objective did not converge. You might want to increase the number of iterations. Duality gap: 2.2044356793918247e-05, tolerance: 1.6920132127891978e-07\n",
            "Objective did not converge. You might want to increase the number of iterations. Duality gap: 5.911820326597061e-06, tolerance: 2.2384840057549677e-07\n",
            "Objective did not converge. You might want to increase the number of iterations. Duality gap: 3.065385659499078e-05, tolerance: 2.2384840057549677e-07\n",
            "Objective did not converge. You might want to increase the number of iterations. Duality gap: 2.2865429665061707e-05, tolerance: 2.2384840057549677e-07\n",
            "Objective did not converge. You might want to increase the number of iterations. Duality gap: 0.0001880979870660382, tolerance: 0.00010014063170442713\n",
            "Objective did not converge. You might want to increase the number of iterations. Duality gap: 0.0008907070657006369, tolerance: 0.00012016801449634507\n",
            "Objective did not converge. You might want to increase the number of iterations. Duality gap: 6.9787779148206e-05, tolerance: 4.619311109667524e-05\n",
            "Objective did not converge. You might want to increase the number of iterations. Duality gap: 0.0004363560167782686, tolerance: 4.619311109667524e-05\n",
            "Objective did not converge. You might want to increase the number of iterations. Duality gap: 0.00014307237064428713, tolerance: 5.733928915337573e-05\n",
            "Objective did not converge. You might want to increase the number of iterations. Duality gap: 0.001216528439655154, tolerance: 5.733928915337573e-05\n",
            "Objective did not converge. You might want to increase the number of iterations. Duality gap: 3.09054886104491e-07, tolerance: 1.6920132127891978e-07\n",
            "Objective did not converge. You might want to increase the number of iterations. Duality gap: 2.2044356793918247e-05, tolerance: 1.6920132127891978e-07\n",
            "Objective did not converge. You might want to increase the number of iterations. Duality gap: 5.911820326597061e-06, tolerance: 2.2384840057549677e-07\n",
            "Objective did not converge. You might want to increase the number of iterations. Duality gap: 3.065385659499078e-05, tolerance: 2.2384840057549677e-07\n",
            "Objective did not converge. You might want to increase the number of iterations. Duality gap: 2.2865429665061707e-05, tolerance: 2.2384840057549677e-07\n",
            "Objective did not converge. You might want to increase the number of iterations. Duality gap: 0.0002585078045144601, tolerance: 8.365857367039999e-05\n",
            "Objective did not converge. You might want to increase the number of iterations. Duality gap: 0.0022115466625222263, tolerance: 8.365857367039999e-05\n",
            "Objective did not converge. You might want to increase the number of iterations. Duality gap: 0.0001203484171993438, tolerance: 0.00010335202131331507\n",
            "Objective did not converge. You might want to increase the number of iterations. Duality gap: 0.006014502672216239, tolerance: 0.00010335202131331507\n",
            "Objective did not converge. You might want to increase the number of iterations. Duality gap: 0.0001476254893096121, tolerance: 3.846649727230391e-05\n",
            "Objective did not converge. You might want to increase the number of iterations. Duality gap: 0.0012514275255802003, tolerance: 3.846649727230391e-05\n",
            "Objective did not converge. You might want to increase the number of iterations. Duality gap: 0.0001781289343654978, tolerance: 5.005479821157034e-05\n",
            "Objective did not converge. You might want to increase the number of iterations. Duality gap: 0.0032264691304700202, tolerance: 5.005479821157034e-05\n",
            "Objective did not converge. You might want to increase the number of iterations. Duality gap: 0.0706407656030219, tolerance: 0.020778367859199943\n",
            "Objective did not converge. You might want to increase the number of iterations. Duality gap: 0.0257054050862493, tolerance: 0.024874414260457892\n",
            "Objective did not converge. You might want to increase the number of iterations. Duality gap: 0.07253696087056838, tolerance: 0.024874414260457892\n",
            "Objective did not converge. You might want to increase the number of iterations. Duality gap: 0.033789843243609674, tolerance: 0.009738690587237277\n",
            "Objective did not converge. You might want to increase the number of iterations. Duality gap: 3.09054886104491e-07, tolerance: 1.6920132127891978e-07\n",
            "Objective did not converge. You might want to increase the number of iterations. Duality gap: 2.2044356793918247e-05, tolerance: 1.6920132127891978e-07\n",
            "Objective did not converge. You might want to increase the number of iterations. Duality gap: 5.911820326597061e-06, tolerance: 2.2384840057549677e-07\n",
            "Objective did not converge. You might want to increase the number of iterations. Duality gap: 3.065385659499078e-05, tolerance: 2.2384840057549677e-07\n",
            "Objective did not converge. You might want to increase the number of iterations. Duality gap: 2.2865429665061707e-05, tolerance: 2.2384840057549677e-07\n",
            "Objective did not converge. You might want to increase the number of iterations. Duality gap: 0.0002585078045144601, tolerance: 8.365857367039999e-05\n",
            "Objective did not converge. You might want to increase the number of iterations. Duality gap: 0.0022115466625222263, tolerance: 8.365857367039999e-05\n",
            "Objective did not converge. You might want to increase the number of iterations. Duality gap: 0.0001203484171993438, tolerance: 0.00010335202131331507\n",
            "Objective did not converge. You might want to increase the number of iterations. Duality gap: 0.006014502672216239, tolerance: 0.00010335202131331507\n",
            "Objective did not converge. You might want to increase the number of iterations. Duality gap: 0.0001476254893096121, tolerance: 3.846649727230391e-05\n",
            "Objective did not converge. You might want to increase the number of iterations. Duality gap: 0.0012514275255802003, tolerance: 3.846649727230391e-05\n",
            "Objective did not converge. You might want to increase the number of iterations. Duality gap: 0.0001781289343654978, tolerance: 5.005479821157034e-05\n",
            "Objective did not converge. You might want to increase the number of iterations. Duality gap: 0.0032264691304700202, tolerance: 5.005479821157034e-05\n",
            "Objective did not converge. You might want to increase the number of iterations. Duality gap: 0.09988560073501418, tolerance: 0.050507199942482366\n",
            "Objective did not converge. You might want to increase the number of iterations. Duality gap: 0.0829743288298248, tolerance: 0.019218059383079106\n",
            "Objective did not converge. You might want to increase the number of iterations. Duality gap: 0.07654896246535792, tolerance: 0.023364576527515137\n",
            "Objective did not converge. You might want to increase the number of iterations. Duality gap: 0.03561247565295034, tolerance: 0.009013494280732772\n",
            "Objective did not converge. You might want to increase the number of iterations. Duality gap: 33.073371617014686, tolerance: 10.38816103885436\n",
            "Objective did not converge. You might want to increase the number of iterations. Duality gap: 13.32690897992859, tolerance: 10.38816103885436\n",
            "Objective did not converge. You might want to increase the number of iterations. Duality gap: 34.18054447393115, tolerance: 11.869371799997937\n",
            "Objective did not converge. You might want to increase the number of iterations. Duality gap: 13.356374701845368, tolerance: 4.7099857250875665\n",
            "Objective did not converge. You might want to increase the number of iterations. Duality gap: 14.562731962642374, tolerance: 4.7099857250875665\n",
            "Objective did not converge. You might want to increase the number of iterations. Duality gap: 14.27820452044557, tolerance: 5.581863292966837\n",
            "Objective did not converge. You might want to increase the number of iterations. Duality gap: 14.046224525285595, tolerance: 5.7344650128568775\n",
            "Objective did not converge. You might want to increase the number of iterations. Duality gap: 5.729366992328096, tolerance: 2.235121637023192\n",
            "Objective did not converge. You might want to increase the number of iterations. Duality gap: 3.09054886104491e-07, tolerance: 1.6920132127891978e-07\n",
            "Objective did not converge. You might want to increase the number of iterations. Duality gap: 2.2044356793918247e-05, tolerance: 1.6920132127891978e-07\n",
            "Objective did not converge. You might want to increase the number of iterations. Duality gap: 5.911820326597061e-06, tolerance: 2.2384840057549677e-07\n",
            "Objective did not converge. You might want to increase the number of iterations. Duality gap: 3.065385659499078e-05, tolerance: 2.2384840057549677e-07\n",
            "Objective did not converge. You might want to increase the number of iterations. Duality gap: 2.2865429665061707e-05, tolerance: 2.2384840057549677e-07\n",
            "Objective did not converge. You might want to increase the number of iterations. Duality gap: 0.0002585078045144601, tolerance: 8.365857367039999e-05\n",
            "Objective did not converge. You might want to increase the number of iterations. Duality gap: 0.0022115466625222263, tolerance: 8.365857367039999e-05\n",
            "Objective did not converge. You might want to increase the number of iterations. Duality gap: 0.0001203484171993438, tolerance: 0.00010335202131331507\n",
            "Objective did not converge. You might want to increase the number of iterations. Duality gap: 0.006014502672216239, tolerance: 0.00010335202131331507\n",
            "Objective did not converge. You might want to increase the number of iterations. Duality gap: 0.0001476254893096121, tolerance: 3.846649727230391e-05\n",
            "Objective did not converge. You might want to increase the number of iterations. Duality gap: 0.0012514275255802003, tolerance: 3.846649727230391e-05\n",
            "Objective did not converge. You might want to increase the number of iterations. Duality gap: 0.0001781289343654978, tolerance: 5.005479821157034e-05\n",
            "Objective did not converge. You might want to increase the number of iterations. Duality gap: 0.0032264691304700202, tolerance: 5.005479821157034e-05\n",
            "Objective did not converge. You might want to increase the number of iterations. Duality gap: 0.09988560073501418, tolerance: 0.050507199942482366\n",
            "Objective did not converge. You might want to increase the number of iterations. Duality gap: 0.0829743288298248, tolerance: 0.019218059383079106\n",
            "Objective did not converge. You might want to increase the number of iterations. Duality gap: 0.07654896246535792, tolerance: 0.023364576527515137\n",
            "Objective did not converge. You might want to increase the number of iterations. Duality gap: 0.03561247565295034, tolerance: 0.009013494280732772\n",
            "Objective did not converge. You might want to increase the number of iterations. Duality gap: 50.18578609734004, tolerance: 10.042704199856152\n",
            "Objective did not converge. You might want to increase the number of iterations. Duality gap: 22.78556714379829, tolerance: 10.042704199856152\n",
            "Objective did not converge. You might want to increase the number of iterations. Duality gap: 18.46683168904019, tolerance: 11.53990258373469\n",
            "Objective did not converge. You might want to increase the number of iterations. Duality gap: 38.24354963576002, tolerance: 11.53990258373469\n",
            "Objective did not converge. You might want to increase the number of iterations. Duality gap: 24.491742454920086, tolerance: 11.53990258373469\n",
            "Objective did not converge. You might want to increase the number of iterations. Duality gap: 57.483194043767526, tolerance: 11.539902583734692\n",
            "Objective did not converge. You might want to increase the number of iterations. Duality gap: 15.374121872281762, tolerance: 4.557384005197527\n",
            "Objective did not converge. You might want to increase the number of iterations. Duality gap: 19.140671617682983, tolerance: 4.557384005197527\n",
            "Objective did not converge. You might want to increase the number of iterations. Duality gap: 14.66773940932967, tolerance: 5.445193482029011\n",
            "Objective did not converge. You might want to increase the number of iterations. Duality gap: 19.994496740817112, tolerance: 5.445193482029011\n",
            "Objective did not converge. You might want to increase the number of iterations. Duality gap: 4.891245580657767, tolerance: 2.1645780637236554\n"
          ],
          "name": "stderr"
        }
      ]
    },
    {
      "cell_type": "code",
      "metadata": {
        "id": "k1dopDVg93bH"
      },
      "source": [
        "from econml.dml import CausalForestDML\n",
        "from sklearn.ensemble import GradientBoostingRegressor\n",
        "est = CausalForestDML(model_y=GradientBoostingRegressor(),\n",
        "                model_t=GradientBoostingRegressor())\n",
        "est.fit(y, T, X=X, W=W)\n",
        "lb, ub = est.const_marginal_effect_interval(X, alpha=.05)"
      ],
      "execution_count": null,
      "outputs": []
    },
    {
      "cell_type": "code",
      "metadata": {
        "colab": {
          "base_uri": "https://localhost:8080/"
        },
        "id": "jbO5uQHy98Lm",
        "outputId": "08ce068d-427a-44d4-ad74-dad960b9191b"
      },
      "source": [
        "lb"
      ],
      "execution_count": null,
      "outputs": [
        {
          "output_type": "execute_result",
          "data": {
            "text/plain": [
              "array([-0.01037174, -0.01037174, -0.01037174, -0.01037174, -0.01037174,\n",
              "       -0.01037174, -0.01037174, -0.01037174, -0.01037174, -0.01037174,\n",
              "       -0.01037174, -0.01037174, -0.01037174, -0.01037174, -0.01037174,\n",
              "       -0.01037174, -0.01037174, -0.01037174, -0.01037174, -0.01037174,\n",
              "       -0.01037174, -0.01037174, -0.01037174, -0.01037174, -0.01037174,\n",
              "       -0.01037174, -0.01037174, -0.01037174, -0.01037174, -0.01037174,\n",
              "       -0.01037174, -0.01037174, -0.01037174, -0.01037174, -0.01037174,\n",
              "       -0.01037174, -0.01037174, -0.01037174, -0.01037174, -0.01037174])"
            ]
          },
          "metadata": {
            "tags": []
          },
          "execution_count": 41
        }
      ]
    },
    {
      "cell_type": "code",
      "metadata": {
        "colab": {
          "base_uri": "https://localhost:8080/"
        },
        "id": "8aPyvvjC-Art",
        "outputId": "7b049a27-c766-46ae-dc9a-42f0f6cdf49c"
      },
      "source": [
        "ub"
      ],
      "execution_count": null,
      "outputs": [
        {
          "output_type": "execute_result",
          "data": {
            "text/plain": [
              "array([0.03305488, 0.03305488, 0.03305488, 0.03305488, 0.03305488,\n",
              "       0.03305488, 0.03305488, 0.03305488, 0.03305488, 0.03305488,\n",
              "       0.03305488, 0.03305488, 0.03305488, 0.03305488, 0.03305488,\n",
              "       0.03305488, 0.03305488, 0.03305488, 0.03305488, 0.03305488,\n",
              "       0.03305488, 0.03305488, 0.03305488, 0.03305488, 0.03305488,\n",
              "       0.03305488, 0.03305488, 0.03305488, 0.03305488, 0.03305488,\n",
              "       0.03305488, 0.03305488, 0.03305488, 0.03305488, 0.03305488,\n",
              "       0.03305488, 0.03305488, 0.03305488, 0.03305488, 0.03305488])"
            ]
          },
          "metadata": {
            "tags": []
          },
          "execution_count": 42
        }
      ]
    },
    {
      "cell_type": "markdown",
      "metadata": {
        "id": "tbKrVqj5yixG"
      },
      "source": [
        "## F:Combine (C,D,E) to calculate the Average Treatment Effect"
      ]
    },
    {
      "cell_type": "code",
      "metadata": {
        "id": "3WA1SciWvpt1"
      },
      "source": [
        "import patsy\n",
        "# some data prep for later\n",
        "formula = \"\"\"\n",
        "production_y ~ production_y +\tY0 + Y1\n",
        "\"\"\"\n",
        "production_y, X = patsy.dmatrices(formula, df, return_type=\"dataframe\")\n",
        "# some categories are empty after dropping rows will Null, drop now\n",
        "X = X.loc[:, X.sum() > 0]\n",
        "production_treatment = production_y.iloc[:, 0]\n",
        "treatment_variable = \"production_y\"\n",
        "treatment = X[\"production_y\"]\n",
        "Xl = X.drop([ \"production_y\"], axis=1)\n",
        "#scale = bw.std()\n",
        "#center = bw.mean()\n",
        "loc_id = df.loc[X.index, \"production_treatment\"].astype(\"category\")\n",
        "\n",
        "import re\n",
        "# remove [ ] from names for compatibility with xgboost\n",
        "Xl = Xl.rename(columns=lambda x: re.sub('\\[|\\]','_',x))"
      ],
      "execution_count": null,
      "outputs": []
    },
    {
      "cell_type": "code",
      "metadata": {
        "colab": {
          "base_uri": "https://localhost:8080/",
          "height": 106
        },
        "id": "CpzziDmnwzmr",
        "outputId": "942ff6ff-980d-452b-dec1-ae96e0155875"
      },
      "source": [
        "# Estimate average treatment effects\n",
        "from statsmodels.iolib.summary2 import summary_col\n",
        "tmp = pd.DataFrame(dict(birthweight=production_treatment,treatment=treatment,assisted_delivery=df.loc[X.index, \"production_treatment\"]))\n",
        "usage = smf.ols(\"assisted_delivery ~ treatment\", data=tmp).fit(cov_type=\"cluster\", cov_kwds={'groups':loc_id})\n",
        "health= smf.ols(\"production_y ~ treatment\", data=tmp).fit(cov_type=\"cluster\", cov_kwds={'groups':loc_id})\n",
        "summary_col([usage, health])"
      ],
      "execution_count": null,
      "outputs": [
        {
          "output_type": "execute_result",
          "data": {
            "text/html": [
              "<table class=\"simpletable\">\n",
              "<tr>\n",
              "      <td></td>      <th>assisted_delivery</th> <th>production_y</th>\n",
              "</tr>\n",
              "<tr>\n",
              "  <th>Intercept</th>      <td>-1.3779</td>         <td>0.0000</td>   \n",
              "</tr>\n",
              "<tr>\n",
              "  <th></th>              <td>(0.1823)</td>        <td>(0.0000)</td>  \n",
              "</tr>\n",
              "<tr>\n",
              "  <th>treatment</th>      <td>0.1268</td>          <td>1.0000</td>   \n",
              "</tr>\n",
              "<tr>\n",
              "  <th></th>              <td>(0.0058)</td>        <td>(0.0000)</td>  \n",
              "</tr>\n",
              "</table>"
            ],
            "text/plain": [
              "<class 'statsmodels.iolib.summary2.Summary'>\n",
              "\"\"\"\n",
              "\n",
              "========================================\n",
              "          assisted_delivery production_y\n",
              "----------------------------------------\n",
              "Intercept -1.3779           0.0000      \n",
              "          (0.1823)          (0.0000)    \n",
              "treatment 0.1268            1.0000      \n",
              "          (0.0058)          (0.0000)    \n",
              "========================================\n",
              "Standard errors in parentheses.\n",
              "\"\"\""
            ]
          },
          "metadata": {
            "tags": []
          },
          "execution_count": 44
        }
      ]
    },
    {
      "cell_type": "markdown",
      "metadata": {
        "id": "hzaS96NUyoo7"
      },
      "source": [
        "# Problem 2: Simulate an Experiment"
      ]
    },
    {
      "cell_type": "markdown",
      "metadata": {
        "id": "L99qMsYvkT3Y"
      },
      "source": [
        "## A: Create a new variable experiment_treatment"
      ]
    },
    {
      "cell_type": "code",
      "metadata": {
        "colab": {
          "base_uri": "https://localhost:8080/",
          "height": 191
        },
        "id": "VlZdicmkewSK",
        "outputId": "21a39e03-c947-4a74-9765-5a1d64c0d1f9"
      },
      "source": [
        "# df['experiment_treatment'] = (-df.production_treatment.isin(range(0,1))).astype(int)\n",
        "# df\n",
        "from pandas import DataFrame\n",
        "from numpy.random import randint\n",
        "df['experiment_treatment'] = randint(2, size=40)\n",
        "df.head()"
      ],
      "execution_count": null,
      "outputs": [
        {
          "output_type": "execute_result",
          "data": {
            "text/html": [
              "<div>\n",
              "<style scoped>\n",
              "    .dataframe tbody tr th:only-of-type {\n",
              "        vertical-align: middle;\n",
              "    }\n",
              "\n",
              "    .dataframe tbody tr th {\n",
              "        vertical-align: top;\n",
              "    }\n",
              "\n",
              "    .dataframe thead th {\n",
              "        text-align: right;\n",
              "    }\n",
              "</style>\n",
              "<table border=\"1\" class=\"dataframe\">\n",
              "  <thead>\n",
              "    <tr style=\"text-align: right;\">\n",
              "      <th></th>\n",
              "      <th>near_chipotle</th>\n",
              "      <th>production_treatment</th>\n",
              "      <th>Y0</th>\n",
              "      <th>Y1</th>\n",
              "      <th>production_y</th>\n",
              "      <th>experiment_treatment</th>\n",
              "    </tr>\n",
              "  </thead>\n",
              "  <tbody>\n",
              "    <tr>\n",
              "      <th>0</th>\n",
              "      <td>1</td>\n",
              "      <td>1</td>\n",
              "      <td>12.27</td>\n",
              "      <td>23.25</td>\n",
              "      <td>17.760</td>\n",
              "      <td>1</td>\n",
              "    </tr>\n",
              "    <tr>\n",
              "      <th>1</th>\n",
              "      <td>1</td>\n",
              "      <td>1</td>\n",
              "      <td>14.18</td>\n",
              "      <td>25.77</td>\n",
              "      <td>19.975</td>\n",
              "      <td>0</td>\n",
              "    </tr>\n",
              "    <tr>\n",
              "      <th>2</th>\n",
              "      <td>1</td>\n",
              "      <td>1</td>\n",
              "      <td>12.16</td>\n",
              "      <td>19.16</td>\n",
              "      <td>15.660</td>\n",
              "      <td>1</td>\n",
              "    </tr>\n",
              "    <tr>\n",
              "      <th>3</th>\n",
              "      <td>1</td>\n",
              "      <td>1</td>\n",
              "      <td>13.99</td>\n",
              "      <td>24.38</td>\n",
              "      <td>19.185</td>\n",
              "      <td>0</td>\n",
              "    </tr>\n",
              "    <tr>\n",
              "      <th>4</th>\n",
              "      <td>1</td>\n",
              "      <td>1</td>\n",
              "      <td>14.84</td>\n",
              "      <td>25.21</td>\n",
              "      <td>20.025</td>\n",
              "      <td>1</td>\n",
              "    </tr>\n",
              "  </tbody>\n",
              "</table>\n",
              "</div>"
            ],
            "text/plain": [
              "   near_chipotle  production_treatment  ...  production_y  experiment_treatment\n",
              "0              1                     1  ...        17.760                     1\n",
              "1              1                     1  ...        19.975                     0\n",
              "2              1                     1  ...        15.660                     1\n",
              "3              1                     1  ...        19.185                     0\n",
              "4              1                     1  ...        20.025                     1\n",
              "\n",
              "[5 rows x 6 columns]"
            ]
          },
          "metadata": {
            "tags": []
          },
          "execution_count": 45
        }
      ]
    },
    {
      "cell_type": "markdown",
      "metadata": {
        "id": "Z3y7L2c2kNk5"
      },
      "source": [
        "## B: Create a new variable experiment_y"
      ]
    },
    {
      "cell_type": "code",
      "metadata": {
        "colab": {
          "base_uri": "https://localhost:8080/",
          "height": 191
        },
        "id": "eoy5Evqdhrp4",
        "outputId": "a0c7db77-edbe-431e-f70f-8a7edaa3deea"
      },
      "source": [
        "import random\n",
        "df['experiment_y']= np.random.randint(9.0,21.0, size=len(df))\n",
        "df.head()"
      ],
      "execution_count": null,
      "outputs": [
        {
          "output_type": "execute_result",
          "data": {
            "text/html": [
              "<div>\n",
              "<style scoped>\n",
              "    .dataframe tbody tr th:only-of-type {\n",
              "        vertical-align: middle;\n",
              "    }\n",
              "\n",
              "    .dataframe tbody tr th {\n",
              "        vertical-align: top;\n",
              "    }\n",
              "\n",
              "    .dataframe thead th {\n",
              "        text-align: right;\n",
              "    }\n",
              "</style>\n",
              "<table border=\"1\" class=\"dataframe\">\n",
              "  <thead>\n",
              "    <tr style=\"text-align: right;\">\n",
              "      <th></th>\n",
              "      <th>near_chipotle</th>\n",
              "      <th>production_treatment</th>\n",
              "      <th>Y0</th>\n",
              "      <th>Y1</th>\n",
              "      <th>production_y</th>\n",
              "      <th>experiment_treatment</th>\n",
              "      <th>experiment_y</th>\n",
              "      <th>permuted_treatment</th>\n",
              "    </tr>\n",
              "  </thead>\n",
              "  <tbody>\n",
              "    <tr>\n",
              "      <th>0</th>\n",
              "      <td>1</td>\n",
              "      <td>1</td>\n",
              "      <td>12.27</td>\n",
              "      <td>23.25</td>\n",
              "      <td>17.760</td>\n",
              "      <td>1</td>\n",
              "      <td>13</td>\n",
              "      <td>1</td>\n",
              "    </tr>\n",
              "    <tr>\n",
              "      <th>1</th>\n",
              "      <td>1</td>\n",
              "      <td>1</td>\n",
              "      <td>14.18</td>\n",
              "      <td>25.77</td>\n",
              "      <td>19.975</td>\n",
              "      <td>0</td>\n",
              "      <td>11</td>\n",
              "      <td>1</td>\n",
              "    </tr>\n",
              "    <tr>\n",
              "      <th>2</th>\n",
              "      <td>1</td>\n",
              "      <td>1</td>\n",
              "      <td>12.16</td>\n",
              "      <td>19.16</td>\n",
              "      <td>15.660</td>\n",
              "      <td>1</td>\n",
              "      <td>13</td>\n",
              "      <td>1</td>\n",
              "    </tr>\n",
              "    <tr>\n",
              "      <th>3</th>\n",
              "      <td>1</td>\n",
              "      <td>1</td>\n",
              "      <td>13.99</td>\n",
              "      <td>24.38</td>\n",
              "      <td>19.185</td>\n",
              "      <td>0</td>\n",
              "      <td>16</td>\n",
              "      <td>0</td>\n",
              "    </tr>\n",
              "    <tr>\n",
              "      <th>4</th>\n",
              "      <td>1</td>\n",
              "      <td>1</td>\n",
              "      <td>14.84</td>\n",
              "      <td>25.21</td>\n",
              "      <td>20.025</td>\n",
              "      <td>1</td>\n",
              "      <td>14</td>\n",
              "      <td>0</td>\n",
              "    </tr>\n",
              "  </tbody>\n",
              "</table>\n",
              "</div>"
            ],
            "text/plain": [
              "   near_chipotle  production_treatment  ...  experiment_y  permuted_treatment\n",
              "0              1                     1  ...            13                   1\n",
              "1              1                     1  ...            11                   1\n",
              "2              1                     1  ...            13                   1\n",
              "3              1                     1  ...            16                   0\n",
              "4              1                     1  ...            14                   0\n",
              "\n",
              "[5 rows x 8 columns]"
            ]
          },
          "metadata": {
            "tags": []
          },
          "execution_count": 55
        }
      ]
    },
    {
      "cell_type": "markdown",
      "metadata": {
        "id": "rxVfyAyikhmb"
      },
      "source": [
        "## C: Calculate the average treatment effect"
      ]
    },
    {
      "cell_type": "code",
      "metadata": {
        "id": "7IPHr07ImOzb"
      },
      "source": [
        "import patsy\n",
        "from sklearn import linear_model, ensemble, base, neural_network\n",
        "import statsmodels.formula.api as smf\n",
        "import statsmodels.api as sm\n",
        "from sklearn.utils.testing import ignore_warnings\n",
        "from sklearn.exceptions import ConvergenceWarning\n",
        "\n",
        "%matplotlib inline\n",
        "import matplotlib.pyplot as plt\n",
        "import seaborn as sns"
      ],
      "execution_count": null,
      "outputs": []
    },
    {
      "cell_type": "code",
      "metadata": {
        "id": "dfAcjUUimBWk"
      },
      "source": [
        "# some data prep for later\n",
        "formula = \"\"\"\n",
        "production_y ~ experiment_treatment +\texperiment_y\n",
        "\n",
        "\"\"\"\n",
        "production_y, X = patsy.dmatrices(formula, df, return_type=\"dataframe\")\n",
        "# some categories are empty after dropping rows will Null, drop now\n",
        "X = X.loc[:, X.sum() > 0]\n",
        "production_y = production_y.iloc[:, 0]\n",
        "treatment_variable = \"experiment_y\"\n",
        "treatment = X[\"experiment_y\"]\n",
        "Xl = X.drop([ \"experiment_y\"], axis=1)\n",
        "#scale = bw.std()\n",
        "#center = bw.mean()\n",
        "loc_id = df.loc[X.index, \"experiment_treatment\"].astype(\"category\")\n",
        "\n",
        "import re\n",
        "# remove [ ] from names for compatibility with xgboost\n",
        "Xl = Xl.rename(columns=lambda x: re.sub('\\[|\\]','_',x))"
      ],
      "execution_count": null,
      "outputs": []
    },
    {
      "cell_type": "code",
      "metadata": {
        "colab": {
          "base_uri": "https://localhost:8080/",
          "height": 106
        },
        "id": "0MAvvhqumrfM",
        "outputId": "7472c5ff-3e2a-4114-f86e-0a5e412d717a"
      },
      "source": [
        "# Estimate average treatment effects\n",
        "from statsmodels.iolib.summary2 import summary_col\n",
        "tmp = pd.DataFrame(dict(birthweight=production_y,treatment=treatment,assisted_delivery=df.loc[X.index, \"experiment_y\"]))\n",
        "usage = smf.ols(\"assisted_delivery ~ treatment\", data=tmp).fit(cov_type=\"cluster\", cov_kwds={'groups':loc_id})\n",
        "health= smf.ols(\"production_y ~ treatment\", data=tmp).fit(cov_type=\"cluster\", cov_kwds={'groups':loc_id})\n",
        "summary_col([usage, health])"
      ],
      "execution_count": null,
      "outputs": [
        {
          "output_type": "execute_result",
          "data": {
            "text/html": [
              "<table class=\"simpletable\">\n",
              "<tr>\n",
              "      <td></td>      <th>assisted_delivery</th> <th>production_y</th>\n",
              "</tr>\n",
              "<tr>\n",
              "  <th>Intercept</th>      <td>0.0000</td>          <td>19.7702</td>  \n",
              "</tr>\n",
              "<tr>\n",
              "  <th></th>              <td>(0.0000)</td>        <td>(3.6564)</td>  \n",
              "</tr>\n",
              "<tr>\n",
              "  <th>treatment</th>      <td>1.0000</td>          <td>-0.3453</td>  \n",
              "</tr>\n",
              "<tr>\n",
              "  <th></th>              <td>(0.0000)</td>        <td>(0.2417)</td>  \n",
              "</tr>\n",
              "</table>"
            ],
            "text/plain": [
              "<class 'statsmodels.iolib.summary2.Summary'>\n",
              "\"\"\"\n",
              "\n",
              "========================================\n",
              "          assisted_delivery production_y\n",
              "----------------------------------------\n",
              "Intercept 0.0000            19.7702     \n",
              "          (0.0000)          (3.6564)    \n",
              "treatment 1.0000            -0.3453     \n",
              "          (0.0000)          (0.2417)    \n",
              "========================================\n",
              "Standard errors in parentheses.\n",
              "\"\"\""
            ]
          },
          "metadata": {
            "tags": []
          },
          "execution_count": 49
        }
      ]
    },
    {
      "cell_type": "markdown",
      "metadata": {
        "id": "dZeba2RScqUB"
      },
      "source": [
        "\n",
        "Problem 3: Permutation Testing\n",
        "\n",
        "A: Create a new variable permuted_treatement with a 50% of being treated and a 50% chance of not being treated\n",
        "\n"
      ]
    },
    {
      "cell_type": "code",
      "metadata": {
        "colab": {
          "base_uri": "https://localhost:8080/",
          "height": 191
        },
        "id": "NxggR4imdUaI",
        "outputId": "67fb0748-2a8e-4f99-fa74-b2dbb921d634"
      },
      "source": [
        "# df\n",
        "from pandas import DataFrame\n",
        "from numpy.random import randint\n",
        "df['permuted_treatment'] = randint(2, size=40)\n",
        "df.head()"
      ],
      "execution_count": null,
      "outputs": [
        {
          "output_type": "execute_result",
          "data": {
            "text/html": [
              "<div>\n",
              "<style scoped>\n",
              "    .dataframe tbody tr th:only-of-type {\n",
              "        vertical-align: middle;\n",
              "    }\n",
              "\n",
              "    .dataframe tbody tr th {\n",
              "        vertical-align: top;\n",
              "    }\n",
              "\n",
              "    .dataframe thead th {\n",
              "        text-align: right;\n",
              "    }\n",
              "</style>\n",
              "<table border=\"1\" class=\"dataframe\">\n",
              "  <thead>\n",
              "    <tr style=\"text-align: right;\">\n",
              "      <th></th>\n",
              "      <th>near_chipotle</th>\n",
              "      <th>production_treatment</th>\n",
              "      <th>Y0</th>\n",
              "      <th>Y1</th>\n",
              "      <th>production_y</th>\n",
              "      <th>experiment_treatment</th>\n",
              "      <th>experiment_y</th>\n",
              "      <th>permuted_treatment</th>\n",
              "    </tr>\n",
              "  </thead>\n",
              "  <tbody>\n",
              "    <tr>\n",
              "      <th>0</th>\n",
              "      <td>1</td>\n",
              "      <td>1</td>\n",
              "      <td>12.27</td>\n",
              "      <td>23.25</td>\n",
              "      <td>17.760</td>\n",
              "      <td>1</td>\n",
              "      <td>10</td>\n",
              "      <td>1</td>\n",
              "    </tr>\n",
              "    <tr>\n",
              "      <th>1</th>\n",
              "      <td>1</td>\n",
              "      <td>1</td>\n",
              "      <td>14.18</td>\n",
              "      <td>25.77</td>\n",
              "      <td>19.975</td>\n",
              "      <td>0</td>\n",
              "      <td>11</td>\n",
              "      <td>1</td>\n",
              "    </tr>\n",
              "    <tr>\n",
              "      <th>2</th>\n",
              "      <td>1</td>\n",
              "      <td>1</td>\n",
              "      <td>12.16</td>\n",
              "      <td>19.16</td>\n",
              "      <td>15.660</td>\n",
              "      <td>1</td>\n",
              "      <td>9</td>\n",
              "      <td>1</td>\n",
              "    </tr>\n",
              "    <tr>\n",
              "      <th>3</th>\n",
              "      <td>1</td>\n",
              "      <td>1</td>\n",
              "      <td>13.99</td>\n",
              "      <td>24.38</td>\n",
              "      <td>19.185</td>\n",
              "      <td>0</td>\n",
              "      <td>11</td>\n",
              "      <td>0</td>\n",
              "    </tr>\n",
              "    <tr>\n",
              "      <th>4</th>\n",
              "      <td>1</td>\n",
              "      <td>1</td>\n",
              "      <td>14.84</td>\n",
              "      <td>25.21</td>\n",
              "      <td>20.025</td>\n",
              "      <td>1</td>\n",
              "      <td>14</td>\n",
              "      <td>0</td>\n",
              "    </tr>\n",
              "  </tbody>\n",
              "</table>\n",
              "</div>"
            ],
            "text/plain": [
              "   near_chipotle  production_treatment  ...  experiment_y  permuted_treatment\n",
              "0              1                     1  ...            10                   1\n",
              "1              1                     1  ...            11                   1\n",
              "2              1                     1  ...             9                   1\n",
              "3              1                     1  ...            11                   0\n",
              "4              1                     1  ...            14                   0\n",
              "\n",
              "[5 rows x 8 columns]"
            ]
          },
          "metadata": {
            "tags": []
          },
          "execution_count": 50
        }
      ]
    },
    {
      "cell_type": "markdown",
      "metadata": {
        "id": "ZAWJAeGfkRMx"
      },
      "source": [
        "B. Sharp Null Hypothesis."
      ]
    },
    {
      "cell_type": "markdown",
      "metadata": {
        "id": "u1LFkM5oqu9s"
      },
      "source": [
        "Experiment y"
      ]
    },
    {
      "cell_type": "code",
      "metadata": {
        "colab": {
          "base_uri": "https://localhost:8080/",
          "height": 191
        },
        "id": "mSAqyb2KqtO-",
        "outputId": "13ffa541-b8bc-493b-faf6-d05d34a19467"
      },
      "source": [
        "import random\n",
        "df['experiment_y']= np.random.randint(0.0,1.0, size=len(df))\n",
        "df.head()"
      ],
      "execution_count": null,
      "outputs": [
        {
          "output_type": "execute_result",
          "data": {
            "text/html": [
              "<div>\n",
              "<style scoped>\n",
              "    .dataframe tbody tr th:only-of-type {\n",
              "        vertical-align: middle;\n",
              "    }\n",
              "\n",
              "    .dataframe tbody tr th {\n",
              "        vertical-align: top;\n",
              "    }\n",
              "\n",
              "    .dataframe thead th {\n",
              "        text-align: right;\n",
              "    }\n",
              "</style>\n",
              "<table border=\"1\" class=\"dataframe\">\n",
              "  <thead>\n",
              "    <tr style=\"text-align: right;\">\n",
              "      <th></th>\n",
              "      <th>near_chipotle</th>\n",
              "      <th>production_treatment</th>\n",
              "      <th>Y0</th>\n",
              "      <th>Y1</th>\n",
              "      <th>production_y</th>\n",
              "      <th>experiment_treatment</th>\n",
              "      <th>experiment_y</th>\n",
              "      <th>permuted_treatment</th>\n",
              "    </tr>\n",
              "  </thead>\n",
              "  <tbody>\n",
              "    <tr>\n",
              "      <th>0</th>\n",
              "      <td>1</td>\n",
              "      <td>1</td>\n",
              "      <td>12.27</td>\n",
              "      <td>23.25</td>\n",
              "      <td>17.760</td>\n",
              "      <td>1</td>\n",
              "      <td>0</td>\n",
              "      <td>1</td>\n",
              "    </tr>\n",
              "    <tr>\n",
              "      <th>1</th>\n",
              "      <td>1</td>\n",
              "      <td>1</td>\n",
              "      <td>14.18</td>\n",
              "      <td>25.77</td>\n",
              "      <td>19.975</td>\n",
              "      <td>0</td>\n",
              "      <td>0</td>\n",
              "      <td>1</td>\n",
              "    </tr>\n",
              "    <tr>\n",
              "      <th>2</th>\n",
              "      <td>1</td>\n",
              "      <td>1</td>\n",
              "      <td>12.16</td>\n",
              "      <td>19.16</td>\n",
              "      <td>15.660</td>\n",
              "      <td>1</td>\n",
              "      <td>0</td>\n",
              "      <td>1</td>\n",
              "    </tr>\n",
              "    <tr>\n",
              "      <th>3</th>\n",
              "      <td>1</td>\n",
              "      <td>1</td>\n",
              "      <td>13.99</td>\n",
              "      <td>24.38</td>\n",
              "      <td>19.185</td>\n",
              "      <td>0</td>\n",
              "      <td>0</td>\n",
              "      <td>0</td>\n",
              "    </tr>\n",
              "    <tr>\n",
              "      <th>4</th>\n",
              "      <td>1</td>\n",
              "      <td>1</td>\n",
              "      <td>14.84</td>\n",
              "      <td>25.21</td>\n",
              "      <td>20.025</td>\n",
              "      <td>1</td>\n",
              "      <td>0</td>\n",
              "      <td>0</td>\n",
              "    </tr>\n",
              "  </tbody>\n",
              "</table>\n",
              "</div>"
            ],
            "text/plain": [
              "   near_chipotle  production_treatment  ...  experiment_y  permuted_treatment\n",
              "0              1                     1  ...             0                   1\n",
              "1              1                     1  ...             0                   1\n",
              "2              1                     1  ...             0                   1\n",
              "3              1                     1  ...             0                   0\n",
              "4              1                     1  ...             0                   0\n",
              "\n",
              "[5 rows x 8 columns]"
            ]
          },
          "metadata": {
            "tags": []
          },
          "execution_count": 54
        }
      ]
    },
    {
      "cell_type": "code",
      "metadata": {
        "id": "RaEEd9Cpl7AN"
      },
      "source": [
        "# some data prep for later\n",
        "formula = \"\"\"\n",
        "production_y ~ permuted_treatment +\texperiment_y\n",
        "\n",
        "\"\"\"\n",
        "production_y, X = patsy.dmatrices(formula, df, return_type=\"dataframe\")\n",
        "# some categories are empty after dropping rows will Null, drop now\n",
        "X = X.loc[:, X.sum() > 0]\n",
        "production_y = production_y.iloc[:, 0]\n",
        "treatment_variable = \"experiment_y\"\n",
        "treatment = X[\"experiment_y\"]\n",
        "Xl = X.drop([ \"experiment_y\"], axis=1)\n",
        "#scale = bw.std()\n",
        "#center = bw.mean()\n",
        "loc_id = df.loc[X.index, \"experiment_treatment\"].astype(\"category\")\n",
        "\n",
        "import re\n",
        "# remove [ ] from names for compatibility with xgboost\n",
        "Xl = Xl.rename(columns=lambda x: re.sub('\\[|\\]','_',x))"
      ],
      "execution_count": null,
      "outputs": []
    },
    {
      "cell_type": "code",
      "metadata": {
        "colab": {
          "base_uri": "https://localhost:8080/",
          "height": 106
        },
        "id": "7RDPaisw0ic3",
        "outputId": "b7ec3931-d4ee-4864-d360-5b33e3c46e78"
      },
      "source": [
        "# Estimate average treatment effects\n",
        "from statsmodels.iolib.summary2 import summary_col\n",
        "tmp = pd.DataFrame(dict(birthweight=production_y,treatment=treatment,assisted_delivery=df.loc[X.index, \"experiment_y\"]))\n",
        "usage = smf.ols(\"assisted_delivery ~ treatment\", data=tmp).fit(cov_type=\"cluster\", cov_kwds={'groups':loc_id})\n",
        "health= smf.ols(\"production_y ~ treatment\", data=tmp).fit(cov_type=\"cluster\", cov_kwds={'groups':loc_id})\n",
        "summary_col([usage, health])"
      ],
      "execution_count": null,
      "outputs": [
        {
          "output_type": "execute_result",
          "data": {
            "text/html": [
              "<table class=\"simpletable\">\n",
              "<tr>\n",
              "      <td></td>      <th>assisted_delivery</th> <th>production_y</th>\n",
              "</tr>\n",
              "<tr>\n",
              "  <th>Intercept</th>      <td>-0.0000</td>         <td>18.5975</td>  \n",
              "</tr>\n",
              "<tr>\n",
              "  <th></th>              <td>(0.0000)</td>        <td>(1.2130)</td>  \n",
              "</tr>\n",
              "<tr>\n",
              "  <th>treatment</th>      <td>1.0000</td>          <td>-0.2557</td>  \n",
              "</tr>\n",
              "<tr>\n",
              "  <th></th>              <td>(0.0000)</td>        <td>(0.0781)</td>  \n",
              "</tr>\n",
              "</table>"
            ],
            "text/plain": [
              "<class 'statsmodels.iolib.summary2.Summary'>\n",
              "\"\"\"\n",
              "\n",
              "========================================\n",
              "          assisted_delivery production_y\n",
              "----------------------------------------\n",
              "Intercept -0.0000           18.5975     \n",
              "          (0.0000)          (1.2130)    \n",
              "treatment 1.0000            -0.2557     \n",
              "          (0.0000)          (0.0781)    \n",
              "========================================\n",
              "Standard errors in parentheses.\n",
              "\"\"\""
            ]
          },
          "metadata": {
            "tags": []
          },
          "execution_count": 59
        }
      ]
    },
    {
      "cell_type": "markdown",
      "metadata": {
        "id": "Z_e0CjJsnji3"
      },
      "source": [
        "C: Repeat this 1000 times. What is the average of the simulated average treatment effect under the null hypothesis. Plot a histogram of the outcomes"
      ]
    },
    {
      "cell_type": "code",
      "metadata": {
        "colab": {
          "base_uri": "https://localhost:8080/",
          "height": 191
        },
        "id": "A9QVB9Pm4Ywr",
        "outputId": "a6c6808a-c562-4725-c905-790ee68c11ea"
      },
      "source": [
        "#production_y ~ permuted_treatment +\texperiment_y\n",
        "df['outcomes']=production_y\n",
        "df.head()"
      ],
      "execution_count": null,
      "outputs": [
        {
          "output_type": "execute_result",
          "data": {
            "text/html": [
              "<div>\n",
              "<style scoped>\n",
              "    .dataframe tbody tr th:only-of-type {\n",
              "        vertical-align: middle;\n",
              "    }\n",
              "\n",
              "    .dataframe tbody tr th {\n",
              "        vertical-align: top;\n",
              "    }\n",
              "\n",
              "    .dataframe thead th {\n",
              "        text-align: right;\n",
              "    }\n",
              "</style>\n",
              "<table border=\"1\" class=\"dataframe\">\n",
              "  <thead>\n",
              "    <tr style=\"text-align: right;\">\n",
              "      <th></th>\n",
              "      <th>near_chipotle</th>\n",
              "      <th>production_treatment</th>\n",
              "      <th>Y0</th>\n",
              "      <th>Y1</th>\n",
              "      <th>production_y</th>\n",
              "      <th>experiment_treatment</th>\n",
              "      <th>experiment_y</th>\n",
              "      <th>permuted_treatment</th>\n",
              "      <th>outcomes</th>\n",
              "    </tr>\n",
              "  </thead>\n",
              "  <tbody>\n",
              "    <tr>\n",
              "      <th>0</th>\n",
              "      <td>1</td>\n",
              "      <td>1</td>\n",
              "      <td>12.27</td>\n",
              "      <td>23.25</td>\n",
              "      <td>17.760</td>\n",
              "      <td>1</td>\n",
              "      <td>13</td>\n",
              "      <td>1</td>\n",
              "      <td>17.760</td>\n",
              "    </tr>\n",
              "    <tr>\n",
              "      <th>1</th>\n",
              "      <td>1</td>\n",
              "      <td>1</td>\n",
              "      <td>14.18</td>\n",
              "      <td>25.77</td>\n",
              "      <td>19.975</td>\n",
              "      <td>0</td>\n",
              "      <td>11</td>\n",
              "      <td>1</td>\n",
              "      <td>19.975</td>\n",
              "    </tr>\n",
              "    <tr>\n",
              "      <th>2</th>\n",
              "      <td>1</td>\n",
              "      <td>1</td>\n",
              "      <td>12.16</td>\n",
              "      <td>19.16</td>\n",
              "      <td>15.660</td>\n",
              "      <td>1</td>\n",
              "      <td>13</td>\n",
              "      <td>1</td>\n",
              "      <td>15.660</td>\n",
              "    </tr>\n",
              "    <tr>\n",
              "      <th>3</th>\n",
              "      <td>1</td>\n",
              "      <td>1</td>\n",
              "      <td>13.99</td>\n",
              "      <td>24.38</td>\n",
              "      <td>19.185</td>\n",
              "      <td>0</td>\n",
              "      <td>16</td>\n",
              "      <td>0</td>\n",
              "      <td>19.185</td>\n",
              "    </tr>\n",
              "    <tr>\n",
              "      <th>4</th>\n",
              "      <td>1</td>\n",
              "      <td>1</td>\n",
              "      <td>14.84</td>\n",
              "      <td>25.21</td>\n",
              "      <td>20.025</td>\n",
              "      <td>1</td>\n",
              "      <td>14</td>\n",
              "      <td>0</td>\n",
              "      <td>20.025</td>\n",
              "    </tr>\n",
              "  </tbody>\n",
              "</table>\n",
              "</div>"
            ],
            "text/plain": [
              "   near_chipotle  production_treatment  ...  permuted_treatment  outcomes\n",
              "0              1                     1  ...                   1    17.760\n",
              "1              1                     1  ...                   1    19.975\n",
              "2              1                     1  ...                   1    15.660\n",
              "3              1                     1  ...                   0    19.185\n",
              "4              1                     1  ...                   0    20.025\n",
              "\n",
              "[5 rows x 9 columns]"
            ]
          },
          "metadata": {
            "tags": []
          },
          "execution_count": 66
        }
      ]
    },
    {
      "cell_type": "code",
      "metadata": {
        "colab": {
          "base_uri": "https://localhost:8080/",
          "height": 313
        },
        "id": "CqS9hreonnE-",
        "outputId": "cc348f50-41d7-4707-c305-cfc3529a0085"
      },
      "source": [
        "df.hist(column='outcomes')"
      ],
      "execution_count": null,
      "outputs": [
        {
          "output_type": "execute_result",
          "data": {
            "text/plain": [
              "array([[<matplotlib.axes._subplots.AxesSubplot object at 0x7fbf4595c950>]],\n",
              "      dtype=object)"
            ]
          },
          "metadata": {
            "tags": []
          },
          "execution_count": 67
        },
        {
          "output_type": "display_data",
          "data": {
            "image/png": "[encoded data removed]",
            "text/plain": [
              "<Figure size 432x288 with 1 Axes>"
            ]
          },
          "metadata": {
            "tags": [],
            "needs_background": "light"
          }
        }
      ]
    }
  ]
}