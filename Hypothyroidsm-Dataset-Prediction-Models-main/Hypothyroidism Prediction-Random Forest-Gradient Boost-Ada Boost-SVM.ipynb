{
  "nbformat": 4,
  "nbformat_minor": 0,
  "metadata": {
    "colab": {
      "name": "Week 8 Moringa Core IP Cyrus Kimani .ipynb",
      "provenance": [],
      "collapsed_sections": [],
      "toc_visible": true,
      "mount_file_id": "1elZCWE6O6mVfcFQWECUDDpgevCduT4q7",
      "authorship_tag": "ABX9TyMS+5gNgjB2pI+Cr/+M6dBZ",
      "include_colab_link": true
    },
    "kernelspec": {
      "display_name": "Python 3",
      "name": "python3"
    }
  },
  "cells": [
    {
      "cell_type": "markdown",
      "metadata": {
        "id": "view-in-github",
        "colab_type": "text"
      },
      "source": [
        "<a href=\"https://colab.research.google.com/github/cyruskimani/Hypothyroidsm-Dataset-Prediction-Models/blob/main/Week_8_Moringa_Core_IP_Cyrus_Kimani_.ipynb\" target=\"_parent\"><img src=\"https://colab.research.google.com/assets/colab-badge.svg\" alt=\"Open In Colab\"/></a>"
      ]
    },
    {
      "cell_type": "markdown",
      "metadata": {
        "id": "jMlG5oYiTF0F"
      },
      "source": [
        "# Prediction Models for Hypothyroidism: Nairobi Hospital Case."
      ]
    },
    {
      "cell_type": "markdown",
      "metadata": {
        "id": "96MvtNc0WQhR"
      },
      "source": [
        "# Defining The Question"
      ]
    },
    {
      "cell_type": "markdown",
      "metadata": {
        "id": "ynbhdyukWnaw"
      },
      "source": [
        "## a) Specifying the Question.\r\n",
        "\r\n",
        "Overview \r\n",
        "\r\n",
        "Hypothyroidism is a condition where the thyroid gland doesn't produce enough throxine hormones. It is one of the most difficult diseases to diagnose as it may not cause noticeable symptoms in its early stages.\r\n",
        "\r\n",
        "Applying decision trees and SVM algorithms can help assist healthcare workers in identifying signs and symptoms based on patterns shown in past cases of patients' data.\r\n",
        "\r\n",
        "This notebook contains decision tree models to predict whether a patient is suffering from Hypothyroidism based on the features of the dataset.\r\n",
        "\r\n",
        "Research Question\r\n",
        "\r\n",
        "Build a model that determines whether or not the patient's symptoms indicate whether a patient has hypothyroidsm.\r\n"
      ]
    },
    {
      "cell_type": "markdown",
      "metadata": {
        "id": "CskDyCtsXlhz"
      },
      "source": [
        "## b) Defining the Metrics for Success.\r\n",
        "\r\n",
        "The Accuracy score,f1 score, Precision and Confusion Matrix will be used to evaluate the prediction of the of models.\r\n"
      ]
    },
    {
      "cell_type": "markdown",
      "metadata": {
        "id": "b0Izx0hMgsdO"
      },
      "source": [
        "## c) Understanding the context.\r\n",
        "\r\n",
        "The thyroid is a gland that produces thyroid hormone which regulates vital body functions. There are several conditions which are brough about by failure of the thyroid to function normally.\r\n",
        "\r\n",
        "This exercise focusses on Hypothyroidism and seeks to predict the likelyhood of a patient to have hypothyroidism based on tests conducted and the features in the provided dataset.\r\n"
      ]
    },
    {
      "cell_type": "markdown",
      "metadata": {
        "id": "Q3W9jyb_mmdj"
      },
      "source": [
        "## d) Recording the Experimental Design.\r\n",
        "\r\n",
        "The experimental design for this project will be composed of Exploratory Data Analysis and Prediction Models as shown below.\r\n",
        "\r\n",
        "Exploratory Data Analysis.\r\n",
        "\r\n",
        "* Univariate Analysis.\r\n",
        "* Bivariate Analysis.\r\n",
        "\r\n",
        "Prediction\r\n",
        "\r\n",
        "* Random Forest.\r\n",
        "* AdaBoost.\r\n",
        "* Gradient Boost.\r\n",
        "* Support Vector Machine.\r\n",
        "\r\n"
      ]
    },
    {
      "cell_type": "markdown",
      "metadata": {
        "id": "prmju_7CtBQc"
      },
      "source": [
        "# Loading the Datasets."
      ]
    },
    {
      "cell_type": "code",
      "metadata": {
        "id": "bhCuxXRuS5vr"
      },
      "source": [
        "# Importing Libraries.\r\n",
        "\r\n",
        "import pandas as pd\r\n",
        "import numpy as np\r\n",
        "import seaborn as sns\r\n",
        "import matplotlib\r\n",
        "from matplotlib import pyplot as plt\r\n",
        "%matplotlib inline\r\n",
        "from pandas_profiling import ProfileReport\r\n",
        "from scipy import stats\r\n",
        "from scipy.stats import norm\r\n",
        "from scipy.stats import t\r\n",
        "import math\r\n",
        "from scipy.stats import ttest_ind\r\n",
        "import statsmodels.api as sm\r\n",
        "import warnings\r\n",
        "warnings.filterwarnings(action = 'ignore')"
      ],
      "execution_count": 88,
      "outputs": []
    },
    {
      "cell_type": "code",
      "metadata": {
        "colab": {
          "base_uri": "https://localhost:8080/",
          "height": 224
        },
        "id": "irzYoCkZtXUC",
        "outputId": "2ea0daa3-ca2b-4445-bb92-c7eaf7f9c5ab"
      },
      "source": [
        "# Loading and previewing the Housing Dataset.\r\n",
        "\r\n",
        "data = pd.read_csv('http://bit.ly/hypothyroid_data')\r\n",
        "data.head()"
      ],
      "execution_count": 89,
      "outputs": [
        {
          "output_type": "execute_result",
          "data": {
            "text/html": [
              "<div>\n",
              "<style scoped>\n",
              "    .dataframe tbody tr th:only-of-type {\n",
              "        vertical-align: middle;\n",
              "    }\n",
              "\n",
              "    .dataframe tbody tr th {\n",
              "        vertical-align: top;\n",
              "    }\n",
              "\n",
              "    .dataframe thead th {\n",
              "        text-align: right;\n",
              "    }\n",
              "</style>\n",
              "<table border=\"1\" class=\"dataframe\">\n",
              "  <thead>\n",
              "    <tr style=\"text-align: right;\">\n",
              "      <th></th>\n",
              "      <th>status</th>\n",
              "      <th>age</th>\n",
              "      <th>sex</th>\n",
              "      <th>on_thyroxine</th>\n",
              "      <th>query_on_thyroxine</th>\n",
              "      <th>on_antithyroid_medication</th>\n",
              "      <th>thyroid_surgery</th>\n",
              "      <th>query_hypothyroid</th>\n",
              "      <th>query_hyperthyroid</th>\n",
              "      <th>pregnant</th>\n",
              "      <th>sick</th>\n",
              "      <th>tumor</th>\n",
              "      <th>lithium</th>\n",
              "      <th>goitre</th>\n",
              "      <th>TSH_measured</th>\n",
              "      <th>TSH</th>\n",
              "      <th>T3_measured</th>\n",
              "      <th>T3</th>\n",
              "      <th>TT4_measured</th>\n",
              "      <th>TT4</th>\n",
              "      <th>T4U_measured</th>\n",
              "      <th>T4U</th>\n",
              "      <th>FTI_measured</th>\n",
              "      <th>FTI</th>\n",
              "      <th>TBG_measured</th>\n",
              "      <th>TBG</th>\n",
              "    </tr>\n",
              "  </thead>\n",
              "  <tbody>\n",
              "    <tr>\n",
              "      <th>0</th>\n",
              "      <td>hypothyroid</td>\n",
              "      <td>72</td>\n",
              "      <td>M</td>\n",
              "      <td>f</td>\n",
              "      <td>f</td>\n",
              "      <td>f</td>\n",
              "      <td>f</td>\n",
              "      <td>f</td>\n",
              "      <td>f</td>\n",
              "      <td>f</td>\n",
              "      <td>f</td>\n",
              "      <td>f</td>\n",
              "      <td>f</td>\n",
              "      <td>f</td>\n",
              "      <td>y</td>\n",
              "      <td>30</td>\n",
              "      <td>y</td>\n",
              "      <td>0.60</td>\n",
              "      <td>y</td>\n",
              "      <td>15</td>\n",
              "      <td>y</td>\n",
              "      <td>1.48</td>\n",
              "      <td>y</td>\n",
              "      <td>10</td>\n",
              "      <td>n</td>\n",
              "      <td>?</td>\n",
              "    </tr>\n",
              "    <tr>\n",
              "      <th>1</th>\n",
              "      <td>hypothyroid</td>\n",
              "      <td>15</td>\n",
              "      <td>F</td>\n",
              "      <td>t</td>\n",
              "      <td>f</td>\n",
              "      <td>f</td>\n",
              "      <td>f</td>\n",
              "      <td>f</td>\n",
              "      <td>f</td>\n",
              "      <td>f</td>\n",
              "      <td>f</td>\n",
              "      <td>f</td>\n",
              "      <td>f</td>\n",
              "      <td>f</td>\n",
              "      <td>y</td>\n",
              "      <td>145</td>\n",
              "      <td>y</td>\n",
              "      <td>1.70</td>\n",
              "      <td>y</td>\n",
              "      <td>19</td>\n",
              "      <td>y</td>\n",
              "      <td>1.13</td>\n",
              "      <td>y</td>\n",
              "      <td>17</td>\n",
              "      <td>n</td>\n",
              "      <td>?</td>\n",
              "    </tr>\n",
              "    <tr>\n",
              "      <th>2</th>\n",
              "      <td>hypothyroid</td>\n",
              "      <td>24</td>\n",
              "      <td>M</td>\n",
              "      <td>f</td>\n",
              "      <td>f</td>\n",
              "      <td>f</td>\n",
              "      <td>f</td>\n",
              "      <td>f</td>\n",
              "      <td>f</td>\n",
              "      <td>f</td>\n",
              "      <td>f</td>\n",
              "      <td>f</td>\n",
              "      <td>f</td>\n",
              "      <td>f</td>\n",
              "      <td>y</td>\n",
              "      <td>0</td>\n",
              "      <td>y</td>\n",
              "      <td>0.20</td>\n",
              "      <td>y</td>\n",
              "      <td>4</td>\n",
              "      <td>y</td>\n",
              "      <td>1</td>\n",
              "      <td>y</td>\n",
              "      <td>0</td>\n",
              "      <td>n</td>\n",
              "      <td>?</td>\n",
              "    </tr>\n",
              "    <tr>\n",
              "      <th>3</th>\n",
              "      <td>hypothyroid</td>\n",
              "      <td>24</td>\n",
              "      <td>F</td>\n",
              "      <td>f</td>\n",
              "      <td>f</td>\n",
              "      <td>f</td>\n",
              "      <td>f</td>\n",
              "      <td>f</td>\n",
              "      <td>f</td>\n",
              "      <td>f</td>\n",
              "      <td>f</td>\n",
              "      <td>f</td>\n",
              "      <td>f</td>\n",
              "      <td>f</td>\n",
              "      <td>y</td>\n",
              "      <td>430</td>\n",
              "      <td>y</td>\n",
              "      <td>0.40</td>\n",
              "      <td>y</td>\n",
              "      <td>6</td>\n",
              "      <td>y</td>\n",
              "      <td>1.04</td>\n",
              "      <td>y</td>\n",
              "      <td>6</td>\n",
              "      <td>n</td>\n",
              "      <td>?</td>\n",
              "    </tr>\n",
              "    <tr>\n",
              "      <th>4</th>\n",
              "      <td>hypothyroid</td>\n",
              "      <td>77</td>\n",
              "      <td>M</td>\n",
              "      <td>f</td>\n",
              "      <td>f</td>\n",
              "      <td>f</td>\n",
              "      <td>f</td>\n",
              "      <td>f</td>\n",
              "      <td>f</td>\n",
              "      <td>f</td>\n",
              "      <td>f</td>\n",
              "      <td>f</td>\n",
              "      <td>f</td>\n",
              "      <td>f</td>\n",
              "      <td>y</td>\n",
              "      <td>7.30</td>\n",
              "      <td>y</td>\n",
              "      <td>1.20</td>\n",
              "      <td>y</td>\n",
              "      <td>57</td>\n",
              "      <td>y</td>\n",
              "      <td>1.28</td>\n",
              "      <td>y</td>\n",
              "      <td>44</td>\n",
              "      <td>n</td>\n",
              "      <td>?</td>\n",
              "    </tr>\n",
              "  </tbody>\n",
              "</table>\n",
              "</div>"
            ],
            "text/plain": [
              "        status age sex on_thyroxine  ... FTI_measured FTI TBG_measured TBG\n",
              "0  hypothyroid  72   M            f  ...            y  10            n   ?\n",
              "1  hypothyroid  15   F            t  ...            y  17            n   ?\n",
              "2  hypothyroid  24   M            f  ...            y   0            n   ?\n",
              "3  hypothyroid  24   F            f  ...            y   6            n   ?\n",
              "4  hypothyroid  77   M            f  ...            y  44            n   ?\n",
              "\n",
              "[5 rows x 26 columns]"
            ]
          },
          "metadata": {
            "tags": []
          },
          "execution_count": 89
        }
      ]
    },
    {
      "cell_type": "markdown",
      "metadata": {
        "id": "AZpfr4CBwGAT"
      },
      "source": [
        "# Data Cleaning."
      ]
    },
    {
      "cell_type": "markdown",
      "metadata": {
        "id": "PyJmoi1fiqAk"
      },
      "source": [
        "## Information about the dataset."
      ]
    },
    {
      "cell_type": "code",
      "metadata": {
        "colab": {
          "base_uri": "https://localhost:8080/"
        },
        "id": "fjiw2Jb2vDnS",
        "outputId": "3039369e-8ddf-4585-b6fd-f17be750a63b"
      },
      "source": [
        "# Checking Columns and Datatypes in the Healthcare Dataset.\r\n",
        "print('Information of the Healthcare Dataset')\r\n",
        "data.info()"
      ],
      "execution_count": 90,
      "outputs": [
        {
          "output_type": "stream",
          "text": [
            "Information of the Healthcare Dataset\n",
            "<class 'pandas.core.frame.DataFrame'>\n",
            "RangeIndex: 3163 entries, 0 to 3162\n",
            "Data columns (total 26 columns):\n",
            " #   Column                     Non-Null Count  Dtype \n",
            "---  ------                     --------------  ----- \n",
            " 0   status                     3163 non-null   object\n",
            " 1   age                        3163 non-null   object\n",
            " 2   sex                        3163 non-null   object\n",
            " 3   on_thyroxine               3163 non-null   object\n",
            " 4   query_on_thyroxine         3163 non-null   object\n",
            " 5   on_antithyroid_medication  3163 non-null   object\n",
            " 6   thyroid_surgery            3163 non-null   object\n",
            " 7   query_hypothyroid          3163 non-null   object\n",
            " 8   query_hyperthyroid         3163 non-null   object\n",
            " 9   pregnant                   3163 non-null   object\n",
            " 10  sick                       3163 non-null   object\n",
            " 11  tumor                      3163 non-null   object\n",
            " 12  lithium                    3163 non-null   object\n",
            " 13  goitre                     3163 non-null   object\n",
            " 14  TSH_measured               3163 non-null   object\n",
            " 15  TSH                        3163 non-null   object\n",
            " 16  T3_measured                3163 non-null   object\n",
            " 17  T3                         3163 non-null   object\n",
            " 18  TT4_measured               3163 non-null   object\n",
            " 19  TT4                        3163 non-null   object\n",
            " 20  T4U_measured               3163 non-null   object\n",
            " 21  T4U                        3163 non-null   object\n",
            " 22  FTI_measured               3163 non-null   object\n",
            " 23  FTI                        3163 non-null   object\n",
            " 24  TBG_measured               3163 non-null   object\n",
            " 25  TBG                        3163 non-null   object\n",
            "dtypes: object(26)\n",
            "memory usage: 642.6+ KB\n"
          ],
          "name": "stdout"
        }
      ]
    },
    {
      "cell_type": "markdown",
      "metadata": {
        "id": "CNJ0bmkIxivr"
      },
      "source": [
        "*The dataset contains 3163 rows, 26 columns and the respective datatypes for each column as shown above.*"
      ]
    },
    {
      "cell_type": "code",
      "metadata": {
        "colab": {
          "base_uri": "https://localhost:8080/",
          "height": 193
        },
        "id": "TiA5WC0J04O7",
        "outputId": "4480d311-4fd9-47a5-81b3-d7bf677dc147"
      },
      "source": [
        "# Obtaining a description of the dataset.\r\n",
        "\r\n",
        "data.describe(include='all')"
      ],
      "execution_count": 91,
      "outputs": [
        {
          "output_type": "execute_result",
          "data": {
            "text/html": [
              "<div>\n",
              "<style scoped>\n",
              "    .dataframe tbody tr th:only-of-type {\n",
              "        vertical-align: middle;\n",
              "    }\n",
              "\n",
              "    .dataframe tbody tr th {\n",
              "        vertical-align: top;\n",
              "    }\n",
              "\n",
              "    .dataframe thead th {\n",
              "        text-align: right;\n",
              "    }\n",
              "</style>\n",
              "<table border=\"1\" class=\"dataframe\">\n",
              "  <thead>\n",
              "    <tr style=\"text-align: right;\">\n",
              "      <th></th>\n",
              "      <th>status</th>\n",
              "      <th>age</th>\n",
              "      <th>sex</th>\n",
              "      <th>on_thyroxine</th>\n",
              "      <th>query_on_thyroxine</th>\n",
              "      <th>on_antithyroid_medication</th>\n",
              "      <th>thyroid_surgery</th>\n",
              "      <th>query_hypothyroid</th>\n",
              "      <th>query_hyperthyroid</th>\n",
              "      <th>pregnant</th>\n",
              "      <th>sick</th>\n",
              "      <th>tumor</th>\n",
              "      <th>lithium</th>\n",
              "      <th>goitre</th>\n",
              "      <th>TSH_measured</th>\n",
              "      <th>TSH</th>\n",
              "      <th>T3_measured</th>\n",
              "      <th>T3</th>\n",
              "      <th>TT4_measured</th>\n",
              "      <th>TT4</th>\n",
              "      <th>T4U_measured</th>\n",
              "      <th>T4U</th>\n",
              "      <th>FTI_measured</th>\n",
              "      <th>FTI</th>\n",
              "      <th>TBG_measured</th>\n",
              "      <th>TBG</th>\n",
              "    </tr>\n",
              "  </thead>\n",
              "  <tbody>\n",
              "    <tr>\n",
              "      <th>count</th>\n",
              "      <td>3163</td>\n",
              "      <td>3163</td>\n",
              "      <td>3163</td>\n",
              "      <td>3163</td>\n",
              "      <td>3163</td>\n",
              "      <td>3163</td>\n",
              "      <td>3163</td>\n",
              "      <td>3163</td>\n",
              "      <td>3163</td>\n",
              "      <td>3163</td>\n",
              "      <td>3163</td>\n",
              "      <td>3163</td>\n",
              "      <td>3163</td>\n",
              "      <td>3163</td>\n",
              "      <td>3163</td>\n",
              "      <td>3163</td>\n",
              "      <td>3163</td>\n",
              "      <td>3163</td>\n",
              "      <td>3163</td>\n",
              "      <td>3163</td>\n",
              "      <td>3163</td>\n",
              "      <td>3163</td>\n",
              "      <td>3163</td>\n",
              "      <td>3163</td>\n",
              "      <td>3163</td>\n",
              "      <td>3163</td>\n",
              "    </tr>\n",
              "    <tr>\n",
              "      <th>unique</th>\n",
              "      <td>2</td>\n",
              "      <td>93</td>\n",
              "      <td>3</td>\n",
              "      <td>2</td>\n",
              "      <td>2</td>\n",
              "      <td>2</td>\n",
              "      <td>2</td>\n",
              "      <td>2</td>\n",
              "      <td>2</td>\n",
              "      <td>2</td>\n",
              "      <td>2</td>\n",
              "      <td>2</td>\n",
              "      <td>2</td>\n",
              "      <td>2</td>\n",
              "      <td>2</td>\n",
              "      <td>240</td>\n",
              "      <td>2</td>\n",
              "      <td>70</td>\n",
              "      <td>2</td>\n",
              "      <td>269</td>\n",
              "      <td>2</td>\n",
              "      <td>159</td>\n",
              "      <td>2</td>\n",
              "      <td>281</td>\n",
              "      <td>2</td>\n",
              "      <td>53</td>\n",
              "    </tr>\n",
              "    <tr>\n",
              "      <th>top</th>\n",
              "      <td>negative</td>\n",
              "      <td>?</td>\n",
              "      <td>F</td>\n",
              "      <td>f</td>\n",
              "      <td>f</td>\n",
              "      <td>f</td>\n",
              "      <td>f</td>\n",
              "      <td>f</td>\n",
              "      <td>f</td>\n",
              "      <td>f</td>\n",
              "      <td>f</td>\n",
              "      <td>f</td>\n",
              "      <td>f</td>\n",
              "      <td>f</td>\n",
              "      <td>y</td>\n",
              "      <td>0</td>\n",
              "      <td>y</td>\n",
              "      <td>?</td>\n",
              "      <td>y</td>\n",
              "      <td>?</td>\n",
              "      <td>y</td>\n",
              "      <td>?</td>\n",
              "      <td>y</td>\n",
              "      <td>?</td>\n",
              "      <td>n</td>\n",
              "      <td>?</td>\n",
              "    </tr>\n",
              "    <tr>\n",
              "      <th>freq</th>\n",
              "      <td>3012</td>\n",
              "      <td>446</td>\n",
              "      <td>2182</td>\n",
              "      <td>2702</td>\n",
              "      <td>3108</td>\n",
              "      <td>3121</td>\n",
              "      <td>3059</td>\n",
              "      <td>2922</td>\n",
              "      <td>2920</td>\n",
              "      <td>3100</td>\n",
              "      <td>3064</td>\n",
              "      <td>3123</td>\n",
              "      <td>3161</td>\n",
              "      <td>3064</td>\n",
              "      <td>2695</td>\n",
              "      <td>894</td>\n",
              "      <td>2468</td>\n",
              "      <td>695</td>\n",
              "      <td>2914</td>\n",
              "      <td>249</td>\n",
              "      <td>2915</td>\n",
              "      <td>248</td>\n",
              "      <td>2916</td>\n",
              "      <td>247</td>\n",
              "      <td>2903</td>\n",
              "      <td>2903</td>\n",
              "    </tr>\n",
              "  </tbody>\n",
              "</table>\n",
              "</div>"
            ],
            "text/plain": [
              "          status   age   sex on_thyroxine  ... FTI_measured   FTI TBG_measured   TBG\n",
              "count       3163  3163  3163         3163  ...         3163  3163         3163  3163\n",
              "unique         2    93     3            2  ...            2   281            2    53\n",
              "top     negative     ?     F            f  ...            y     ?            n     ?\n",
              "freq        3012   446  2182         2702  ...         2916   247         2903  2903\n",
              "\n",
              "[4 rows x 26 columns]"
            ]
          },
          "metadata": {
            "tags": []
          },
          "execution_count": 91
        }
      ]
    },
    {
      "cell_type": "code",
      "metadata": {
        "colab": {
          "base_uri": "https://localhost:8080/"
        },
        "id": "YA1mIxJky4MX",
        "outputId": "0e9ac9cd-0537-4d9a-ffae-6da01574b23f"
      },
      "source": [
        "# Checking the age column as it is an important feature in a healthcare dataset\r\n",
        "\r\n",
        "print('Unique records in age column',data['age'].unique())"
      ],
      "execution_count": 92,
      "outputs": [
        {
          "output_type": "stream",
          "text": [
            "Unique records in age column ['72' '15' '24' '77' '85' '64' '20' '42' '69' '75' '53' '59' '68' '50'\n",
            " '78' '65' '28' '43' '40' '84' '?' '83' '63' '73' '36' '27' '48' '71' '60'\n",
            " '34' '79' '62' '74' '32' '41' '70' '29' '5' '58' '35' '51' '22' '16' '44'\n",
            " '39' '47' '18' '17' '88' '56' '30' '45' '66' '52' '54' '80' '33' '38'\n",
            " '92' '67' '46' '13' '89' '61' '49' '26' '57' '31' '90' '81' '25' '37'\n",
            " '76' '87' '23' '55' '86' '98' '21' '97' '1' '6' '14' '82' '11' '19' '9'\n",
            " '12' '10' '8' '7' '4' '93']\n"
          ],
          "name": "stdout"
        }
      ]
    },
    {
      "cell_type": "code",
      "metadata": {
        "colab": {
          "base_uri": "https://localhost:8080/"
        },
        "id": "ejOAJaExbm3v",
        "outputId": "4b32b056-4605-4dd6-f5e6-ffe2b99d3b99"
      },
      "source": [
        "# Getting Unique values in categorical columns\r\n",
        "\r\n",
        "print('Unique records in sex column',data['sex'].unique())\r\n",
        "print('Unique records in on_thyroxine column',data['on_thyroxine'].unique())\r\n",
        "print('Unique records in query_on_thyroxine column',data['query_on_thyroxine'].unique())\r\n",
        "print('Unique records in on_antithyroid_medication column',data['on_antithyroid_medication'].unique())\r\n",
        "print('Unique records in thyroid_surgery column',data['thyroid_surgery'].unique())\r\n",
        "print('Unique records in query_hypothyroid column',data['query_hypothyroid'].unique())\r\n",
        "print('Unique records in query_hyperthyroid column',data['query_hyperthyroid'].unique())\r\n",
        "print('Unique records in pregnant column',data['pregnant'].unique())\r\n",
        "print('Unique records in sick column',data['sick'].unique())\r\n",
        "print('Unique records in tumor column',data['tumor'].unique())\r\n",
        "print('Unique records in lithium column',data['lithium'].unique())\r\n",
        "print('Unique records in goitre column',data['goitre'].unique())\r\n",
        "print('Unique records in TSH_measured column',data['TSH_measured'].unique())\r\n",
        "print('Unique records in T3_measured column',data['T3_measured'].unique())\r\n",
        "print('Unique records in TT4_measured column',data['TT4_measured'].unique())\r\n",
        "print('Unique records in T4U_measured column',data['T4U_measured'].unique())\r\n",
        "print('Unique records in FTI_measured column',data['FTI_measured'].unique())\r\n",
        "print('Unique records in TBG_measured column',data['TBG_measured'].unique())"
      ],
      "execution_count": 93,
      "outputs": [
        {
          "output_type": "stream",
          "text": [
            "Unique records in sex column ['M' 'F' '?']\n",
            "Unique records in on_thyroxine column ['f' 't']\n",
            "Unique records in query_on_thyroxine column ['f' 't']\n",
            "Unique records in on_antithyroid_medication column ['f' 't']\n",
            "Unique records in thyroid_surgery column ['f' 't']\n",
            "Unique records in query_hypothyroid column ['f' 't']\n",
            "Unique records in query_hyperthyroid column ['f' 't']\n",
            "Unique records in pregnant column ['f' 't']\n",
            "Unique records in sick column ['f' 't']\n",
            "Unique records in tumor column ['f' 't']\n",
            "Unique records in lithium column ['f' 't']\n",
            "Unique records in goitre column ['f' 't']\n",
            "Unique records in TSH_measured column ['y' 'n']\n",
            "Unique records in T3_measured column ['y' 'n']\n",
            "Unique records in TT4_measured column ['y' 'n']\n",
            "Unique records in T4U_measured column ['y' 'n']\n",
            "Unique records in FTI_measured column ['y' 'n']\n",
            "Unique records in TBG_measured column ['n' 'y']\n"
          ],
          "name": "stdout"
        }
      ]
    },
    {
      "cell_type": "markdown",
      "metadata": {
        "id": "wFhtVvBMegnV"
      },
      "source": [
        "* *The sex column was found to have three unique classes.*\r\n",
        "\r\n",
        "* *Other categorical columns were found to have two unique classes.*"
      ]
    },
    {
      "cell_type": "markdown",
      "metadata": {
        "id": "iwILdSUUjiyh"
      },
      "source": [
        "## Checking for Null and Duplicate Values."
      ]
    },
    {
      "cell_type": "code",
      "metadata": {
        "colab": {
          "base_uri": "https://localhost:8080/"
        },
        "id": "iV-jAbHItr77",
        "outputId": "781ead8e-14ac-47a6-bca3-e4ebd790e2ff"
      },
      "source": [
        "# Checking for null values.\r\n",
        "\r\n",
        "data.isnull().sum()"
      ],
      "execution_count": 94,
      "outputs": [
        {
          "output_type": "execute_result",
          "data": {
            "text/plain": [
              "status                       0\n",
              "age                          0\n",
              "sex                          0\n",
              "on_thyroxine                 0\n",
              "query_on_thyroxine           0\n",
              "on_antithyroid_medication    0\n",
              "thyroid_surgery              0\n",
              "query_hypothyroid            0\n",
              "query_hyperthyroid           0\n",
              "pregnant                     0\n",
              "sick                         0\n",
              "tumor                        0\n",
              "lithium                      0\n",
              "goitre                       0\n",
              "TSH_measured                 0\n",
              "TSH                          0\n",
              "T3_measured                  0\n",
              "T3                           0\n",
              "TT4_measured                 0\n",
              "TT4                          0\n",
              "T4U_measured                 0\n",
              "T4U                          0\n",
              "FTI_measured                 0\n",
              "FTI                          0\n",
              "TBG_measured                 0\n",
              "TBG                          0\n",
              "dtype: int64"
            ]
          },
          "metadata": {
            "tags": []
          },
          "execution_count": 94
        }
      ]
    },
    {
      "cell_type": "markdown",
      "metadata": {
        "id": "hz22ehMgt7ZE"
      },
      "source": [
        "*No null values were found*"
      ]
    },
    {
      "cell_type": "code",
      "metadata": {
        "colab": {
          "base_uri": "https://localhost:8080/"
        },
        "id": "SE9czWbWxfLG",
        "outputId": "94d12c36-12cf-42ea-dbf9-7c8b25770075"
      },
      "source": [
        "# Checking for duplicates.\r\n",
        "\r\n",
        "print('Number of duplicated records = ',data.duplicated().sum())"
      ],
      "execution_count": 95,
      "outputs": [
        {
          "output_type": "stream",
          "text": [
            "Number of duplicated records =  77\n"
          ],
          "name": "stdout"
        }
      ]
    },
    {
      "cell_type": "code",
      "metadata": {
        "colab": {
          "base_uri": "https://localhost:8080/",
          "height": 241
        },
        "id": "Qx9oD3_poZfw",
        "outputId": "4c30f75d-7323-485e-eb41-c15648930ccc"
      },
      "source": [
        "# Previewing the duplicated data.\r\n",
        "\r\n",
        "print('The number of duplicated records is=',len(data[data.duplicated()]))\r\n",
        "data[data.duplicated()].head()"
      ],
      "execution_count": 96,
      "outputs": [
        {
          "output_type": "stream",
          "text": [
            "The number of duplicated records is= 77\n"
          ],
          "name": "stdout"
        },
        {
          "output_type": "execute_result",
          "data": {
            "text/html": [
              "<div>\n",
              "<style scoped>\n",
              "    .dataframe tbody tr th:only-of-type {\n",
              "        vertical-align: middle;\n",
              "    }\n",
              "\n",
              "    .dataframe tbody tr th {\n",
              "        vertical-align: top;\n",
              "    }\n",
              "\n",
              "    .dataframe thead th {\n",
              "        text-align: right;\n",
              "    }\n",
              "</style>\n",
              "<table border=\"1\" class=\"dataframe\">\n",
              "  <thead>\n",
              "    <tr style=\"text-align: right;\">\n",
              "      <th></th>\n",
              "      <th>status</th>\n",
              "      <th>age</th>\n",
              "      <th>sex</th>\n",
              "      <th>on_thyroxine</th>\n",
              "      <th>query_on_thyroxine</th>\n",
              "      <th>on_antithyroid_medication</th>\n",
              "      <th>thyroid_surgery</th>\n",
              "      <th>query_hypothyroid</th>\n",
              "      <th>query_hyperthyroid</th>\n",
              "      <th>pregnant</th>\n",
              "      <th>sick</th>\n",
              "      <th>tumor</th>\n",
              "      <th>lithium</th>\n",
              "      <th>goitre</th>\n",
              "      <th>TSH_measured</th>\n",
              "      <th>TSH</th>\n",
              "      <th>T3_measured</th>\n",
              "      <th>T3</th>\n",
              "      <th>TT4_measured</th>\n",
              "      <th>TT4</th>\n",
              "      <th>T4U_measured</th>\n",
              "      <th>T4U</th>\n",
              "      <th>FTI_measured</th>\n",
              "      <th>FTI</th>\n",
              "      <th>TBG_measured</th>\n",
              "      <th>TBG</th>\n",
              "    </tr>\n",
              "  </thead>\n",
              "  <tbody>\n",
              "    <tr>\n",
              "      <th>53</th>\n",
              "      <td>hypothyroid</td>\n",
              "      <td>69</td>\n",
              "      <td>F</td>\n",
              "      <td>f</td>\n",
              "      <td>f</td>\n",
              "      <td>f</td>\n",
              "      <td>f</td>\n",
              "      <td>f</td>\n",
              "      <td>f</td>\n",
              "      <td>f</td>\n",
              "      <td>f</td>\n",
              "      <td>f</td>\n",
              "      <td>f</td>\n",
              "      <td>f</td>\n",
              "      <td>y</td>\n",
              "      <td>21</td>\n",
              "      <td>y</td>\n",
              "      <td>0.80</td>\n",
              "      <td>y</td>\n",
              "      <td>53</td>\n",
              "      <td>y</td>\n",
              "      <td>0.86</td>\n",
              "      <td>y</td>\n",
              "      <td>61</td>\n",
              "      <td>n</td>\n",
              "      <td>?</td>\n",
              "    </tr>\n",
              "    <tr>\n",
              "      <th>66</th>\n",
              "      <td>hypothyroid</td>\n",
              "      <td>62</td>\n",
              "      <td>M</td>\n",
              "      <td>f</td>\n",
              "      <td>f</td>\n",
              "      <td>f</td>\n",
              "      <td>f</td>\n",
              "      <td>f</td>\n",
              "      <td>f</td>\n",
              "      <td>f</td>\n",
              "      <td>f</td>\n",
              "      <td>f</td>\n",
              "      <td>f</td>\n",
              "      <td>f</td>\n",
              "      <td>y</td>\n",
              "      <td>100</td>\n",
              "      <td>y</td>\n",
              "      <td>0.40</td>\n",
              "      <td>y</td>\n",
              "      <td>10</td>\n",
              "      <td>y</td>\n",
              "      <td>1</td>\n",
              "      <td>y</td>\n",
              "      <td>10</td>\n",
              "      <td>n</td>\n",
              "      <td>?</td>\n",
              "    </tr>\n",
              "    <tr>\n",
              "      <th>124</th>\n",
              "      <td>hypothyroid</td>\n",
              "      <td>77</td>\n",
              "      <td>F</td>\n",
              "      <td>f</td>\n",
              "      <td>f</td>\n",
              "      <td>f</td>\n",
              "      <td>f</td>\n",
              "      <td>f</td>\n",
              "      <td>f</td>\n",
              "      <td>f</td>\n",
              "      <td>f</td>\n",
              "      <td>f</td>\n",
              "      <td>f</td>\n",
              "      <td>f</td>\n",
              "      <td>y</td>\n",
              "      <td>23</td>\n",
              "      <td>y</td>\n",
              "      <td>0.50</td>\n",
              "      <td>y</td>\n",
              "      <td>33</td>\n",
              "      <td>y</td>\n",
              "      <td>0.67</td>\n",
              "      <td>y</td>\n",
              "      <td>49</td>\n",
              "      <td>n</td>\n",
              "      <td>?</td>\n",
              "    </tr>\n",
              "    <tr>\n",
              "      <th>128</th>\n",
              "      <td>hypothyroid</td>\n",
              "      <td>79</td>\n",
              "      <td>F</td>\n",
              "      <td>f</td>\n",
              "      <td>f</td>\n",
              "      <td>f</td>\n",
              "      <td>f</td>\n",
              "      <td>f</td>\n",
              "      <td>f</td>\n",
              "      <td>f</td>\n",
              "      <td>f</td>\n",
              "      <td>f</td>\n",
              "      <td>f</td>\n",
              "      <td>f</td>\n",
              "      <td>y</td>\n",
              "      <td>29</td>\n",
              "      <td>y</td>\n",
              "      <td>1.60</td>\n",
              "      <td>y</td>\n",
              "      <td>47</td>\n",
              "      <td>y</td>\n",
              "      <td>0.97</td>\n",
              "      <td>y</td>\n",
              "      <td>48</td>\n",
              "      <td>n</td>\n",
              "      <td>?</td>\n",
              "    </tr>\n",
              "    <tr>\n",
              "      <th>131</th>\n",
              "      <td>hypothyroid</td>\n",
              "      <td>50</td>\n",
              "      <td>F</td>\n",
              "      <td>t</td>\n",
              "      <td>f</td>\n",
              "      <td>f</td>\n",
              "      <td>f</td>\n",
              "      <td>f</td>\n",
              "      <td>f</td>\n",
              "      <td>f</td>\n",
              "      <td>f</td>\n",
              "      <td>f</td>\n",
              "      <td>f</td>\n",
              "      <td>f</td>\n",
              "      <td>y</td>\n",
              "      <td>34</td>\n",
              "      <td>n</td>\n",
              "      <td>?</td>\n",
              "      <td>y</td>\n",
              "      <td>55</td>\n",
              "      <td>y</td>\n",
              "      <td>0.93</td>\n",
              "      <td>y</td>\n",
              "      <td>60</td>\n",
              "      <td>n</td>\n",
              "      <td>?</td>\n",
              "    </tr>\n",
              "  </tbody>\n",
              "</table>\n",
              "</div>"
            ],
            "text/plain": [
              "          status age sex on_thyroxine  ... FTI_measured FTI TBG_measured TBG\n",
              "53   hypothyroid  69   F            f  ...            y  61            n   ?\n",
              "66   hypothyroid  62   M            f  ...            y  10            n   ?\n",
              "124  hypothyroid  77   F            f  ...            y  49            n   ?\n",
              "128  hypothyroid  79   F            f  ...            y  48            n   ?\n",
              "131  hypothyroid  50   F            t  ...            y  60            n   ?\n",
              "\n",
              "[5 rows x 26 columns]"
            ]
          },
          "metadata": {
            "tags": []
          },
          "execution_count": 96
        }
      ]
    },
    {
      "cell_type": "code",
      "metadata": {
        "colab": {
          "base_uri": "https://localhost:8080/"
        },
        "id": "xk5caS_jpGPl",
        "outputId": "dd3e0068-b413-48fa-c9dd-86411e9d809e"
      },
      "source": [
        "# Dropping one copy of duplicates\r\n",
        "\r\n",
        "data.drop_duplicates(keep='first', inplace = True)\r\n",
        "print('Duplicated records in the dataframe:',data.duplicated().any())"
      ],
      "execution_count": 97,
      "outputs": [
        {
          "output_type": "stream",
          "text": [
            "Duplicated records in the dataframe: False\n"
          ],
          "name": "stdout"
        }
      ]
    },
    {
      "cell_type": "markdown",
      "metadata": {
        "id": "yLe3MFlajwHw"
      },
      "source": [
        "## Imputing of Null Values."
      ]
    },
    {
      "cell_type": "code",
      "metadata": {
        "id": "PSBoIxQ7wWkv"
      },
      "source": [
        "# Filling ? values as null values\r\n",
        "data.replace('?', np.nan, inplace=True)"
      ],
      "execution_count": 98,
      "outputs": []
    },
    {
      "cell_type": "code",
      "metadata": {
        "colab": {
          "base_uri": "https://localhost:8080/"
        },
        "id": "0Y3bCpWZeWUf",
        "outputId": "4b2fcf68-ae82-499a-ffdf-9934cdca72cc"
      },
      "source": [
        "# Anomalies found in the unique classes of the sex column\r\n",
        "print('Unique values in Sex column before imputing:', data['sex'].unique())\r\n",
        "# Check the count of values in the sex column.\r\n",
        "print(data['sex'].value_counts())\r\n",
        "# Filling missing values in the sex column with the mode.\r\n",
        "data.sex.fillna(data.sex.mode()[0], inplace = True)\r\n",
        "print('Unique values in Sex column after imputing:', data['sex'].unique())\r\n"
      ],
      "execution_count": 99,
      "outputs": [
        {
          "output_type": "stream",
          "text": [
            "Unique values in Sex column before imputing: ['M' 'F' nan]\n",
            "F    2119\n",
            "M     894\n",
            "Name: sex, dtype: int64\n",
            "Unique values in Sex column after imputing: ['M' 'F']\n"
          ],
          "name": "stdout"
        }
      ]
    },
    {
      "cell_type": "code",
      "metadata": {
        "colab": {
          "base_uri": "https://localhost:8080/"
        },
        "id": "PUpwb0UKzgWe",
        "outputId": "94a46d27-3b79-46aa-8ffb-7b3da4cda4c8"
      },
      "source": [
        "# Anomalies found in the unique classes of the age column\r\n",
        "print('Unique values in Age column before imputing:', data['age'].unique())\r\n",
        "# Filling missing values in the age column with the mode.\r\n",
        "data.age.fillna(data.age.mode()[0], inplace = True)\r\n",
        "print('Unique values in Age column after imputing:', data['age'].unique())"
      ],
      "execution_count": 100,
      "outputs": [
        {
          "output_type": "stream",
          "text": [
            "Unique values in Age column before imputing: ['72' '15' '24' '77' '85' '64' '20' '42' '69' '75' '53' '59' '68' '50'\n",
            " '78' '65' '28' '43' '40' '84' nan '83' '63' '73' '36' '27' '48' '71' '60'\n",
            " '34' '79' '62' '74' '32' '41' '70' '29' '5' '58' '35' '51' '22' '16' '44'\n",
            " '39' '47' '18' '17' '88' '56' '30' '45' '66' '52' '54' '80' '33' '38'\n",
            " '92' '67' '46' '13' '89' '61' '49' '26' '57' '31' '90' '81' '25' '37'\n",
            " '76' '87' '23' '55' '86' '98' '21' '97' '1' '6' '14' '82' '11' '19' '9'\n",
            " '12' '10' '8' '7' '4' '93']\n",
            "Unique values in Age column after imputing: ['72' '15' '24' '77' '85' '64' '20' '42' '69' '75' '53' '59' '68' '50'\n",
            " '78' '65' '28' '43' '40' '84' '83' '63' '73' '36' '27' '48' '71' '60'\n",
            " '34' '79' '62' '74' '32' '41' '70' '29' '5' '58' '35' '51' '22' '16' '44'\n",
            " '39' '47' '18' '17' '88' '56' '30' '45' '66' '52' '54' '80' '33' '38'\n",
            " '92' '67' '46' '13' '89' '61' '49' '26' '57' '31' '90' '81' '25' '37'\n",
            " '76' '87' '23' '55' '86' '98' '21' '97' '1' '6' '14' '82' '11' '19' '9'\n",
            " '12' '10' '8' '7' '4' '93']\n"
          ],
          "name": "stdout"
        }
      ]
    },
    {
      "cell_type": "markdown",
      "metadata": {
        "id": "vUimsFpdkFKn"
      },
      "source": [
        "## Dropping Columns."
      ]
    },
    {
      "cell_type": "code",
      "metadata": {
        "colab": {
          "base_uri": "https://localhost:8080/"
        },
        "id": "wMmA2od_0DZL",
        "outputId": "a617763a-f17b-420f-943a-e6a2aacd59b4"
      },
      "source": [
        "# Checking and sorting missing values in each column.\r\n",
        "(data.isna().mean().round(3) * 100).sort_values(ascending = False)"
      ],
      "execution_count": 101,
      "outputs": [
        {
          "output_type": "execute_result",
          "data": {
            "text/plain": [
              "TBG                          91.9\n",
              "T3                           22.0\n",
              "TSH                          14.7\n",
              "TT4                           7.8\n",
              "FTI                           7.7\n",
              "T4U                           7.7\n",
              "pregnant                      0.0\n",
              "age                           0.0\n",
              "sex                           0.0\n",
              "on_thyroxine                  0.0\n",
              "query_on_thyroxine            0.0\n",
              "on_antithyroid_medication     0.0\n",
              "thyroid_surgery               0.0\n",
              "query_hypothyroid             0.0\n",
              "query_hyperthyroid            0.0\n",
              "lithium                       0.0\n",
              "sick                          0.0\n",
              "tumor                         0.0\n",
              "TBG_measured                  0.0\n",
              "goitre                        0.0\n",
              "TSH_measured                  0.0\n",
              "T3_measured                   0.0\n",
              "TT4_measured                  0.0\n",
              "T4U_measured                  0.0\n",
              "FTI_measured                  0.0\n",
              "status                        0.0\n",
              "dtype: float64"
            ]
          },
          "metadata": {
            "tags": []
          },
          "execution_count": 101
        }
      ]
    },
    {
      "cell_type": "markdown",
      "metadata": {
        "id": "4ZjhvfoZ0fSk"
      },
      "source": [
        "* *The TBG column had 91.9% if missing values.*"
      ]
    },
    {
      "cell_type": "code",
      "metadata": {
        "colab": {
          "base_uri": "https://localhost:8080/",
          "height": 131
        },
        "id": "CNJQCXz82NHo",
        "outputId": "2b88fb07-2f92-4e71-d72d-b942c971daf2"
      },
      "source": [
        "# Dropping irrelevant columns.\r\n",
        "\r\n",
        "df = data.drop(columns=['TBG', 'TBG_measured'])\r\n",
        "df.head(2)"
      ],
      "execution_count": 102,
      "outputs": [
        {
          "output_type": "execute_result",
          "data": {
            "text/html": [
              "<div>\n",
              "<style scoped>\n",
              "    .dataframe tbody tr th:only-of-type {\n",
              "        vertical-align: middle;\n",
              "    }\n",
              "\n",
              "    .dataframe tbody tr th {\n",
              "        vertical-align: top;\n",
              "    }\n",
              "\n",
              "    .dataframe thead th {\n",
              "        text-align: right;\n",
              "    }\n",
              "</style>\n",
              "<table border=\"1\" class=\"dataframe\">\n",
              "  <thead>\n",
              "    <tr style=\"text-align: right;\">\n",
              "      <th></th>\n",
              "      <th>status</th>\n",
              "      <th>age</th>\n",
              "      <th>sex</th>\n",
              "      <th>on_thyroxine</th>\n",
              "      <th>query_on_thyroxine</th>\n",
              "      <th>on_antithyroid_medication</th>\n",
              "      <th>thyroid_surgery</th>\n",
              "      <th>query_hypothyroid</th>\n",
              "      <th>query_hyperthyroid</th>\n",
              "      <th>pregnant</th>\n",
              "      <th>sick</th>\n",
              "      <th>tumor</th>\n",
              "      <th>lithium</th>\n",
              "      <th>goitre</th>\n",
              "      <th>TSH_measured</th>\n",
              "      <th>TSH</th>\n",
              "      <th>T3_measured</th>\n",
              "      <th>T3</th>\n",
              "      <th>TT4_measured</th>\n",
              "      <th>TT4</th>\n",
              "      <th>T4U_measured</th>\n",
              "      <th>T4U</th>\n",
              "      <th>FTI_measured</th>\n",
              "      <th>FTI</th>\n",
              "    </tr>\n",
              "  </thead>\n",
              "  <tbody>\n",
              "    <tr>\n",
              "      <th>0</th>\n",
              "      <td>hypothyroid</td>\n",
              "      <td>72</td>\n",
              "      <td>M</td>\n",
              "      <td>f</td>\n",
              "      <td>f</td>\n",
              "      <td>f</td>\n",
              "      <td>f</td>\n",
              "      <td>f</td>\n",
              "      <td>f</td>\n",
              "      <td>f</td>\n",
              "      <td>f</td>\n",
              "      <td>f</td>\n",
              "      <td>f</td>\n",
              "      <td>f</td>\n",
              "      <td>y</td>\n",
              "      <td>30</td>\n",
              "      <td>y</td>\n",
              "      <td>0.60</td>\n",
              "      <td>y</td>\n",
              "      <td>15</td>\n",
              "      <td>y</td>\n",
              "      <td>1.48</td>\n",
              "      <td>y</td>\n",
              "      <td>10</td>\n",
              "    </tr>\n",
              "    <tr>\n",
              "      <th>1</th>\n",
              "      <td>hypothyroid</td>\n",
              "      <td>15</td>\n",
              "      <td>F</td>\n",
              "      <td>t</td>\n",
              "      <td>f</td>\n",
              "      <td>f</td>\n",
              "      <td>f</td>\n",
              "      <td>f</td>\n",
              "      <td>f</td>\n",
              "      <td>f</td>\n",
              "      <td>f</td>\n",
              "      <td>f</td>\n",
              "      <td>f</td>\n",
              "      <td>f</td>\n",
              "      <td>y</td>\n",
              "      <td>145</td>\n",
              "      <td>y</td>\n",
              "      <td>1.70</td>\n",
              "      <td>y</td>\n",
              "      <td>19</td>\n",
              "      <td>y</td>\n",
              "      <td>1.13</td>\n",
              "      <td>y</td>\n",
              "      <td>17</td>\n",
              "    </tr>\n",
              "  </tbody>\n",
              "</table>\n",
              "</div>"
            ],
            "text/plain": [
              "        status age sex on_thyroxine  ... T4U_measured   T4U FTI_measured FTI\n",
              "0  hypothyroid  72   M            f  ...            y  1.48            y  10\n",
              "1  hypothyroid  15   F            t  ...            y  1.13            y  17\n",
              "\n",
              "[2 rows x 24 columns]"
            ]
          },
          "metadata": {
            "tags": []
          },
          "execution_count": 102
        }
      ]
    },
    {
      "cell_type": "markdown",
      "metadata": {
        "id": "HSbUWf9XkdEw"
      },
      "source": [
        "## Modifying Column Datatypes."
      ]
    },
    {
      "cell_type": "code",
      "metadata": {
        "colab": {
          "base_uri": "https://localhost:8080/"
        },
        "id": "JjP1-h7y8x_I",
        "outputId": "435a3002-ca57-4579-a074-0d1cd02902e1"
      },
      "source": [
        "# Defining columns as numeric, Categorical or Boolean.\r\n",
        "\r\n",
        "num=['age','TSH','T3','TT4','T4U','FTI']\r\n",
        "categorical=['status','sex','TSH_measured','T3_measured','TT4_measured','T4U_measured','FTI_measured']\r\n",
        "boolean=['on_thyroxine','query_on_thyroxine','on_antithyroid_medication','thyroid_surgery','query_hypothyroid','query_hyperthyroid','pregnant','sick','tumor','lithium','goitre']\r\n",
        "\r\n",
        "for column in df.columns:\r\n",
        "  if column in num:\r\n",
        "    df[column] = df[column].astype('float')\r\n",
        "  elif column in categorical:\r\n",
        "    df[column] = df[column].astype('category')\r\n",
        "  elif column in boolean:\r\n",
        "    df[column] = df[column].astype('bool')\r\n",
        "df.info()"
      ],
      "execution_count": 103,
      "outputs": [
        {
          "output_type": "stream",
          "text": [
            "<class 'pandas.core.frame.DataFrame'>\n",
            "Int64Index: 3086 entries, 0 to 3162\n",
            "Data columns (total 24 columns):\n",
            " #   Column                     Non-Null Count  Dtype   \n",
            "---  ------                     --------------  -----   \n",
            " 0   status                     3086 non-null   category\n",
            " 1   age                        3086 non-null   float64 \n",
            " 2   sex                        3086 non-null   category\n",
            " 3   on_thyroxine               3086 non-null   bool    \n",
            " 4   query_on_thyroxine         3086 non-null   bool    \n",
            " 5   on_antithyroid_medication  3086 non-null   bool    \n",
            " 6   thyroid_surgery            3086 non-null   bool    \n",
            " 7   query_hypothyroid          3086 non-null   bool    \n",
            " 8   query_hyperthyroid         3086 non-null   bool    \n",
            " 9   pregnant                   3086 non-null   bool    \n",
            " 10  sick                       3086 non-null   bool    \n",
            " 11  tumor                      3086 non-null   bool    \n",
            " 12  lithium                    3086 non-null   bool    \n",
            " 13  goitre                     3086 non-null   bool    \n",
            " 14  TSH_measured               3086 non-null   category\n",
            " 15  TSH                        2631 non-null   float64 \n",
            " 16  T3_measured                3086 non-null   category\n",
            " 17  T3                         2406 non-null   float64 \n",
            " 18  TT4_measured               3086 non-null   category\n",
            " 19  TT4                        2846 non-null   float64 \n",
            " 20  T4U_measured               3086 non-null   category\n",
            " 21  T4U                        2847 non-null   float64 \n",
            " 22  FTI_measured               3086 non-null   category\n",
            " 23  FTI                        2848 non-null   float64 \n",
            "dtypes: bool(11), category(7), float64(6)\n",
            "memory usage: 223.7 KB\n"
          ],
          "name": "stdout"
        }
      ]
    },
    {
      "cell_type": "code",
      "metadata": {
        "colab": {
          "base_uri": "https://localhost:8080/"
        },
        "id": "35rTzmvrBEbp",
        "outputId": "3614a856-2670-42c7-9f15-1643be26efea"
      },
      "source": [
        "# Imputing null values in numerical columns with the mean.\r\n",
        "\r\n",
        "for column in num:\r\n",
        "  df[column].fillna(df[column].mean(), inplace = True)\r\n",
        "print('Null values in the dataframe:',df.isna().any())"
      ],
      "execution_count": 104,
      "outputs": [
        {
          "output_type": "stream",
          "text": [
            "Null values in the dataframe: status                       False\n",
            "age                          False\n",
            "sex                          False\n",
            "on_thyroxine                 False\n",
            "query_on_thyroxine           False\n",
            "on_antithyroid_medication    False\n",
            "thyroid_surgery              False\n",
            "query_hypothyroid            False\n",
            "query_hyperthyroid           False\n",
            "pregnant                     False\n",
            "sick                         False\n",
            "tumor                        False\n",
            "lithium                      False\n",
            "goitre                       False\n",
            "TSH_measured                 False\n",
            "TSH                          False\n",
            "T3_measured                  False\n",
            "T3                           False\n",
            "TT4_measured                 False\n",
            "TT4                          False\n",
            "T4U_measured                 False\n",
            "T4U                          False\n",
            "FTI_measured                 False\n",
            "FTI                          False\n",
            "dtype: bool\n"
          ],
          "name": "stdout"
        }
      ]
    },
    {
      "cell_type": "markdown",
      "metadata": {
        "id": "Evrm4uMJkVqP"
      },
      "source": [
        "## Checking for Outliers."
      ]
    },
    {
      "cell_type": "code",
      "metadata": {
        "id": "UHcLQXdSY2oJ",
        "colab": {
          "base_uri": "https://localhost:8080/",
          "height": 1000
        },
        "outputId": "f2a25427-69b1-4de3-8dd8-7e11e7a18918"
      },
      "source": [
        "# Checking for outliers.\r\n",
        "\r\n",
        "columns = ['T3','TSH','TT4','FTI','T4U']\r\n",
        "\r\n",
        "fig, ax = plt.subplots(len(columns), figsize= (8,20))\r\n",
        "\r\n",
        "for i, col_val in enumerate(columns):\r\n",
        "  sns.boxplot(x = df[col_val], ax= ax[i])\r\n",
        "  #ax[i].set_title('Box plot - {}'.format(col_val), fontsize= 10)\r\n",
        "  ax[i].set_xlabel(col_val, fontsize= 8)\r\n",
        "plt.show()"
      ],
      "execution_count": 105,
      "outputs": [
        {
          "output_type": "display_data",
          "data": {
            "image/png": "[encoded data removed]",
            "text/plain": [
              "<Figure size 576x1440 with 5 Axes>"
            ]
          },
          "metadata": {
            "tags": [],
            "needs_background": "light"
          }
        }
      ]
    },
    {
      "cell_type": "markdown",
      "metadata": {
        "id": "ds1SvRwu0C74"
      },
      "source": [
        "* Outliers were found in the dataset. However, these outliers will be retained as this is a healthcare dataset and we wish to retain a high level of accuracy.\r\n",
        "\r\n",
        "* The modelling methods that will be applied do not require conventional elimination of outliers."
      ]
    },
    {
      "cell_type": "markdown",
      "metadata": {
        "id": "1gN1gxZytoyJ"
      },
      "source": [
        "# Exploratory Data Analysis."
      ]
    },
    {
      "cell_type": "code",
      "metadata": {
        "colab": {
          "base_uri": "https://localhost:8080/",
          "height": 937
        },
        "id": "a8P3cl1VdI5D",
        "outputId": "7b7f0a0d-8617-4c97-f647-9863f0d92ba5"
      },
      "source": [
        "# Checking the distribution of the data\r\n",
        "\r\n",
        "df.hist(figsize = (20,20));"
      ],
      "execution_count": 106,
      "outputs": [
        {
          "output_type": "display_data",
          "data": {
            "image/png": "[encoded data removed]",
            "text/plain": [
              "<Figure size 1440x1440 with 20 Axes>"
            ]
          },
          "metadata": {
            "tags": [],
            "needs_background": "light"
          }
        }
      ]
    },
    {
      "cell_type": "markdown",
      "metadata": {
        "id": "472SwfuLDDjJ"
      },
      "source": [
        "## Univariate Analysis."
      ]
    },
    {
      "cell_type": "code",
      "metadata": {
        "colab": {
          "base_uri": "https://localhost:8080/",
          "height": 298
        },
        "id": "lVOSWlm4Fn-q",
        "outputId": "09c94e59-29d8-4111-ab09-88a060f521e1"
      },
      "source": [
        "# Visualizing the Status of patients\r\n",
        "\r\n",
        "sns.countplot('status', data=df)\r\n",
        "plt.xlabel('Status of Patients', fontsize=12)\r\n",
        "plt.ylabel('Number of Patients', fontsize=12)\r\n",
        "plt.title('Bar Graph of Status of Patients', fontsize=12)\r\n",
        "plt.show()"
      ],
      "execution_count": 107,
      "outputs": [
        {
          "output_type": "display_data",
          "data": {
            "image/png": "[encoded data removed]",
            "text/plain": [
              "<Figure size 432x288 with 1 Axes>"
            ]
          },
          "metadata": {
            "tags": [],
            "needs_background": "light"
          }
        }
      ]
    },
    {
      "cell_type": "markdown",
      "metadata": {
        "id": "9wA35ROyKlnG"
      },
      "source": [
        "* *More patients tested negative than those who tested positive for hypothyroidsm.*"
      ]
    },
    {
      "cell_type": "code",
      "metadata": {
        "colab": {
          "base_uri": "https://localhost:8080/",
          "height": 298
        },
        "id": "zijgezMMDMee",
        "outputId": "088d77a5-5db4-4d3f-dbb0-de2c7ba73e8e"
      },
      "source": [
        "# Visualizing the Gender of Patients\r\n",
        "\r\n",
        "sns.countplot('sex', data=df)\r\n",
        "plt.xlabel('Gender', fontsize=12)\r\n",
        "plt.ylabel('Number of Patients', fontsize=12)\r\n",
        "plt.title('Bar Graph of Gender', fontsize=12)\r\n",
        "plt.show()"
      ],
      "execution_count": 108,
      "outputs": [
        {
          "output_type": "display_data",
          "data": {
            "image/png": "[encoded data removed]",
            "text/plain": [
              "<Figure size 432x288 with 1 Axes>"
            ]
          },
          "metadata": {
            "tags": [],
            "needs_background": "light"
          }
        }
      ]
    },
    {
      "cell_type": "markdown",
      "metadata": {
        "id": "bCaIIKhEF_ts"
      },
      "source": [
        "* *There number of female patients was higher than the number of male patients.*"
      ]
    },
    {
      "cell_type": "code",
      "metadata": {
        "colab": {
          "base_uri": "https://localhost:8080/",
          "height": 308
        },
        "id": "YLfqzzlzDMU2",
        "outputId": "a9a3876c-9257-4508-db91-8849993eedbf"
      },
      "source": [
        "# Visualizing the age of patients.\r\n",
        "\r\n",
        "df['age'].value_counts().plot(kind='bar',rot=90)\r\n",
        "plt.xlabel('Age of Patient')\r\n",
        "plt.ylabel('Number of Patient')\r\n",
        "plt.title('Bar Graph of Patients')\r\n",
        "plt.show()"
      ],
      "execution_count": 109,
      "outputs": [
        {
          "output_type": "display_data",
          "data": {
            "image/png": "[encoded data removed]",
            "text/plain": [
              "<Figure size 432x288 with 1 Axes>"
            ]
          },
          "metadata": {
            "tags": [],
            "needs_background": "light"
          }
        }
      ]
    },
    {
      "cell_type": "markdown",
      "metadata": {
        "id": "G5zHrqENLaqc"
      },
      "source": [
        "## Bivariate Analysis."
      ]
    },
    {
      "cell_type": "code",
      "metadata": {
        "id": "bt8KlAlELx3J",
        "colab": {
          "base_uri": "https://localhost:8080/",
          "height": 487
        },
        "outputId": "27562c94-b0dc-4756-df19-0b1212b5fb07"
      },
      "source": [
        "# Heatmap showing how all variables correlate\r\n",
        "\r\n",
        "corr = df[['TSH', 'T3', 'TT4', 'T4U', 'FTI', 'age']].corr()\r\n",
        "plt.figure(figsize = (13, 8))\r\n",
        "sns.heatmap(corr, annot = True, center = 0)\r\n",
        "plt.show()"
      ],
      "execution_count": 110,
      "outputs": [
        {
          "output_type": "display_data",
          "data": {
            "image/png": "[encoded data removed]",
            "text/plain": [
              "<Figure size 936x576 with 2 Axes>"
            ]
          },
          "metadata": {
            "tags": [],
            "needs_background": "light"
          }
        }
      ]
    },
    {
      "cell_type": "markdown",
      "metadata": {
        "id": "pDIBAnP5YflK"
      },
      "source": [
        "* *There is a strong correlation between FTI and TT4.*\r\n",
        "* *There is a fair correlation between TT4 and T3.*"
      ]
    },
    {
      "cell_type": "code",
      "metadata": {
        "colab": {
          "base_uri": "https://localhost:8080/",
          "height": 1000
        },
        "id": "mRzHcO7ZPfHb",
        "outputId": "066394d2-9083-4074-f7ce-92129682a8a4"
      },
      "source": [
        "#a scatter plot showing how all numerical variables correlate with each other\r\n",
        "plt.figure(figsize = (4,4))\r\n",
        "sns.pairplot(df[['TSH', 'T3', 'TT4', 'T4U', 'FTI', 'age']])\r\n",
        "plt.show()"
      ],
      "execution_count": 111,
      "outputs": [
        {
          "output_type": "display_data",
          "data": {
            "text/plain": [
              "<Figure size 288x288 with 0 Axes>"
            ]
          },
          "metadata": {
            "tags": []
          }
        },
        {
          "output_type": "display_data",
          "data": {
            "image/png": "[encoded data removed]",
            "text/plain": [
              "<Figure size 1080x1080 with 42 Axes>"
            ]
          },
          "metadata": {
            "tags": [],
            "needs_background": "light"
          }
        }
      ]
    },
    {
      "cell_type": "markdown",
      "metadata": {
        "id": "zdW2oXZaaNDG"
      },
      "source": [
        "# Modelling."
      ]
    },
    {
      "cell_type": "markdown",
      "metadata": {
        "id": "lwfgj2xWb3rp"
      },
      "source": [
        "## Random Forest."
      ]
    },
    {
      "cell_type": "code",
      "metadata": {
        "colab": {
          "base_uri": "https://localhost:8080/",
          "height": 131
        },
        "id": "vVUhIb83b885",
        "outputId": "b6958035-1ddc-4233-ee77-b32ba4e4368c"
      },
      "source": [
        "# Creating a dataframe for Random Forest Modelling\r\n",
        "df_le = df\r\n",
        "# Label encoding.\r\n",
        "from sklearn.preprocessing import LabelEncoder\r\n",
        "# instantiate labelencoder object\r\n",
        "le = LabelEncoder()\r\n",
        "# apply le on categorical feature columns\r\n",
        "df_le[categorical] = df_le[categorical].apply(lambda col: le.fit_transform(col))\r\n",
        "df_le[boolean] = df_le[boolean].apply(lambda col: le.fit_transform(col))\r\n",
        "df_le.head(2)"
      ],
      "execution_count": 112,
      "outputs": [
        {
          "output_type": "execute_result",
          "data": {
            "text/html": [
              "<div>\n",
              "<style scoped>\n",
              "    .dataframe tbody tr th:only-of-type {\n",
              "        vertical-align: middle;\n",
              "    }\n",
              "\n",
              "    .dataframe tbody tr th {\n",
              "        vertical-align: top;\n",
              "    }\n",
              "\n",
              "    .dataframe thead th {\n",
              "        text-align: right;\n",
              "    }\n",
              "</style>\n",
              "<table border=\"1\" class=\"dataframe\">\n",
              "  <thead>\n",
              "    <tr style=\"text-align: right;\">\n",
              "      <th></th>\n",
              "      <th>status</th>\n",
              "      <th>age</th>\n",
              "      <th>sex</th>\n",
              "      <th>on_thyroxine</th>\n",
              "      <th>query_on_thyroxine</th>\n",
              "      <th>on_antithyroid_medication</th>\n",
              "      <th>thyroid_surgery</th>\n",
              "      <th>query_hypothyroid</th>\n",
              "      <th>query_hyperthyroid</th>\n",
              "      <th>pregnant</th>\n",
              "      <th>sick</th>\n",
              "      <th>tumor</th>\n",
              "      <th>lithium</th>\n",
              "      <th>goitre</th>\n",
              "      <th>TSH_measured</th>\n",
              "      <th>TSH</th>\n",
              "      <th>T3_measured</th>\n",
              "      <th>T3</th>\n",
              "      <th>TT4_measured</th>\n",
              "      <th>TT4</th>\n",
              "      <th>T4U_measured</th>\n",
              "      <th>T4U</th>\n",
              "      <th>FTI_measured</th>\n",
              "      <th>FTI</th>\n",
              "    </tr>\n",
              "  </thead>\n",
              "  <tbody>\n",
              "    <tr>\n",
              "      <th>0</th>\n",
              "      <td>0</td>\n",
              "      <td>72.0</td>\n",
              "      <td>1</td>\n",
              "      <td>0</td>\n",
              "      <td>0</td>\n",
              "      <td>0</td>\n",
              "      <td>0</td>\n",
              "      <td>0</td>\n",
              "      <td>0</td>\n",
              "      <td>0</td>\n",
              "      <td>0</td>\n",
              "      <td>0</td>\n",
              "      <td>0</td>\n",
              "      <td>0</td>\n",
              "      <td>1</td>\n",
              "      <td>30.0</td>\n",
              "      <td>1</td>\n",
              "      <td>0.6</td>\n",
              "      <td>1</td>\n",
              "      <td>15.0</td>\n",
              "      <td>1</td>\n",
              "      <td>1.48</td>\n",
              "      <td>1</td>\n",
              "      <td>10.0</td>\n",
              "    </tr>\n",
              "    <tr>\n",
              "      <th>1</th>\n",
              "      <td>0</td>\n",
              "      <td>15.0</td>\n",
              "      <td>0</td>\n",
              "      <td>0</td>\n",
              "      <td>0</td>\n",
              "      <td>0</td>\n",
              "      <td>0</td>\n",
              "      <td>0</td>\n",
              "      <td>0</td>\n",
              "      <td>0</td>\n",
              "      <td>0</td>\n",
              "      <td>0</td>\n",
              "      <td>0</td>\n",
              "      <td>0</td>\n",
              "      <td>1</td>\n",
              "      <td>145.0</td>\n",
              "      <td>1</td>\n",
              "      <td>1.7</td>\n",
              "      <td>1</td>\n",
              "      <td>19.0</td>\n",
              "      <td>1</td>\n",
              "      <td>1.13</td>\n",
              "      <td>1</td>\n",
              "      <td>17.0</td>\n",
              "    </tr>\n",
              "  </tbody>\n",
              "</table>\n",
              "</div>"
            ],
            "text/plain": [
              "   status   age  sex  on_thyroxine  ...  T4U_measured   T4U  FTI_measured   FTI\n",
              "0       0  72.0    1             0  ...             1  1.48             1  10.0\n",
              "1       0  15.0    0             0  ...             1  1.13             1  17.0\n",
              "\n",
              "[2 rows x 24 columns]"
            ]
          },
          "metadata": {
            "tags": []
          },
          "execution_count": 112
        }
      ]
    },
    {
      "cell_type": "code",
      "metadata": {
        "id": "T2P8B0qncIQ4"
      },
      "source": [
        "# Splitting the data\r\n",
        "from sklearn.model_selection import train_test_split\r\n",
        "\r\n",
        "y = df_le['status'].values\r\n",
        "test_features =df_le.columns.to_list()\r\n",
        "test_features.remove('status')\r\n",
        "X = df_le[test_features].values\r\n",
        "# Train using 80% of the data.\r\n",
        "X_train, X_test, y_train, y_test = train_test_split(X, y, test_size=0.2, random_state=0)"
      ],
      "execution_count": 113,
      "outputs": []
    },
    {
      "cell_type": "code",
      "metadata": {
        "colab": {
          "base_uri": "https://localhost:8080/",
          "height": 297
        },
        "id": "zfnkI2eKj0UC",
        "outputId": "1da5602d-c828-498d-fcae-bf1dbc369217"
      },
      "source": [
        "# Random Forest model\r\n",
        "from sklearn.ensemble import RandomForestClassifier\r\n",
        "rf = RandomForestClassifier(n_estimators=100)\r\n",
        "rf.fit(X_train, y_train)\r\n",
        "# Making predictions\r\n",
        "y_pred = rf.predict(X_test)\r\n",
        "# Comparing the Actual and Predicted\r\n",
        "comparison_frame = pd.DataFrame({'Actual': y_test.flatten(), 'Predicted': y_pred.flatten()})\r\n",
        "comparison_frame.describe()"
      ],
      "execution_count": 114,
      "outputs": [
        {
          "output_type": "execute_result",
          "data": {
            "text/html": [
              "<div>\n",
              "<style scoped>\n",
              "    .dataframe tbody tr th:only-of-type {\n",
              "        vertical-align: middle;\n",
              "    }\n",
              "\n",
              "    .dataframe tbody tr th {\n",
              "        vertical-align: top;\n",
              "    }\n",
              "\n",
              "    .dataframe thead th {\n",
              "        text-align: right;\n",
              "    }\n",
              "</style>\n",
              "<table border=\"1\" class=\"dataframe\">\n",
              "  <thead>\n",
              "    <tr style=\"text-align: right;\">\n",
              "      <th></th>\n",
              "      <th>Actual</th>\n",
              "      <th>Predicted</th>\n",
              "    </tr>\n",
              "  </thead>\n",
              "  <tbody>\n",
              "    <tr>\n",
              "      <th>count</th>\n",
              "      <td>618.000000</td>\n",
              "      <td>618.000000</td>\n",
              "    </tr>\n",
              "    <tr>\n",
              "      <th>mean</th>\n",
              "      <td>0.959547</td>\n",
              "      <td>0.962783</td>\n",
              "    </tr>\n",
              "    <tr>\n",
              "      <th>std</th>\n",
              "      <td>0.197179</td>\n",
              "      <td>0.189446</td>\n",
              "    </tr>\n",
              "    <tr>\n",
              "      <th>min</th>\n",
              "      <td>0.000000</td>\n",
              "      <td>0.000000</td>\n",
              "    </tr>\n",
              "    <tr>\n",
              "      <th>25%</th>\n",
              "      <td>1.000000</td>\n",
              "      <td>1.000000</td>\n",
              "    </tr>\n",
              "    <tr>\n",
              "      <th>50%</th>\n",
              "      <td>1.000000</td>\n",
              "      <td>1.000000</td>\n",
              "    </tr>\n",
              "    <tr>\n",
              "      <th>75%</th>\n",
              "      <td>1.000000</td>\n",
              "      <td>1.000000</td>\n",
              "    </tr>\n",
              "    <tr>\n",
              "      <th>max</th>\n",
              "      <td>1.000000</td>\n",
              "      <td>1.000000</td>\n",
              "    </tr>\n",
              "  </tbody>\n",
              "</table>\n",
              "</div>"
            ],
            "text/plain": [
              "           Actual   Predicted\n",
              "count  618.000000  618.000000\n",
              "mean     0.959547    0.962783\n",
              "std      0.197179    0.189446\n",
              "min      0.000000    0.000000\n",
              "25%      1.000000    1.000000\n",
              "50%      1.000000    1.000000\n",
              "75%      1.000000    1.000000\n",
              "max      1.000000    1.000000"
            ]
          },
          "metadata": {
            "tags": []
          },
          "execution_count": 114
        }
      ]
    },
    {
      "cell_type": "code",
      "metadata": {
        "colab": {
          "base_uri": "https://localhost:8080/"
        },
        "id": "9T0xWDsPZKAv",
        "outputId": "c03efd80-727b-4383-baf5-0bd698be9bbd"
      },
      "source": [
        "# Measuring the accuracy of the model\r\n",
        "import sklearn.metrics as metrics\r\n",
        "from sklearn.metrics import accuracy_score\r\n",
        "from sklearn.metrics import f1_score\r\n",
        "from sklearn.metrics import classification_report\r\n",
        "from sklearn.metrics import confusion_matrix\r\n",
        "\r\n",
        "print(f'Accuracy score =: {accuracy_score(y_test, y_pred)} ,f1 score = {f1_score(y_test, y_pred)}')\r\n",
        "print(f'{classification_report(y_test, y_pred)}')\r\n",
        "confusion_matrix(y_test, y_pred)"
      ],
      "execution_count": 115,
      "outputs": [
        {
          "output_type": "stream",
          "text": [
            "Accuracy score =: 0.9902912621359223 ,f1 score = 0.9949494949494949\n",
            "              precision    recall  f1-score   support\n",
            "\n",
            "           0       0.91      0.84      0.87        25\n",
            "           1       0.99      1.00      0.99       593\n",
            "\n",
            "    accuracy                           0.99       618\n",
            "   macro avg       0.95      0.92      0.93       618\n",
            "weighted avg       0.99      0.99      0.99       618\n",
            "\n"
          ],
          "name": "stdout"
        },
        {
          "output_type": "execute_result",
          "data": {
            "text/plain": [
              "array([[ 21,   4],\n",
              "       [  2, 591]])"
            ]
          },
          "metadata": {
            "tags": []
          },
          "execution_count": 115
        }
      ]
    },
    {
      "cell_type": "markdown",
      "metadata": {
        "id": "9pf5_VKalAo9"
      },
      "source": [
        "* The initial model for Random Forest had an accuracy of 98.87% and an F1 score of 0.99.\r\n",
        "\r\n",
        "* The Confusion Matrix suggested 20 and 591 accurate predictions and, 2 and 5 inaccurate predictions."
      ]
    },
    {
      "cell_type": "code",
      "metadata": {
        "colab": {
          "base_uri": "https://localhost:8080/"
        },
        "id": "dhtIeTr1cZRU",
        "outputId": "7440caaa-8766-4b3a-80a5-7ed56574e381"
      },
      "source": [
        "# Assessing the errors\r\n",
        "print('Mean Absolute Error:', metrics.mean_absolute_error(y_test, y_pred))  \r\n",
        "print('Mean Squared Error:', metrics.mean_squared_error(y_test, y_pred))  \r\n",
        "print('Root Mean Squared Error:', np.sqrt(metrics.mean_squared_error(y_test, y_pred)))"
      ],
      "execution_count": 116,
      "outputs": [
        {
          "output_type": "stream",
          "text": [
            "Mean Absolute Error: 0.009708737864077669\n",
            "Mean Squared Error: 0.009708737864077669\n",
            "Root Mean Squared Error: 0.0985329278164293\n"
          ],
          "name": "stdout"
        }
      ]
    },
    {
      "cell_type": "code",
      "metadata": {
        "colab": {
          "base_uri": "https://localhost:8080/"
        },
        "id": "D2KwTCIadcAg",
        "outputId": "c80466ae-1ec8-454e-d1eb-673c858dc27e"
      },
      "source": [
        "# Get feature importances\r\n",
        "importances = list(rf.feature_importances_)\r\n",
        "# List of tuples with variable and importance\r\n",
        "feature_importances = [(feature, round(importance, 4)) for feature, importance in zip(test_features, importances)]\r\n",
        "feature_importances = sorted(feature_importances, key = lambda x: x[1], reverse = True)\r\n",
        "# Print out the feature and importances.\r\n",
        "print('The Importance of the features is as follows in Descending order') \r\n",
        "[print('Variable: {:20} Importance: {}'.format(*pair)) for pair in feature_importances];"
      ],
      "execution_count": 117,
      "outputs": [
        {
          "output_type": "stream",
          "text": [
            "The Importance of the features is as follows in Descending order\n",
            "Variable: FTI                  Importance: 0.3598\n",
            "Variable: TSH                  Importance: 0.2393\n",
            "Variable: TT4                  Importance: 0.2304\n",
            "Variable: T3                   Importance: 0.0672\n",
            "Variable: T4U                  Importance: 0.0483\n",
            "Variable: age                  Importance: 0.0408\n",
            "Variable: sex                  Importance: 0.0054\n",
            "Variable: TSH_measured         Importance: 0.0045\n",
            "Variable: T3_measured          Importance: 0.0037\n",
            "Variable: TT4_measured         Importance: 0.0002\n",
            "Variable: T4U_measured         Importance: 0.0002\n",
            "Variable: FTI_measured         Importance: 0.0001\n",
            "Variable: on_thyroxine         Importance: 0.0\n",
            "Variable: query_on_thyroxine   Importance: 0.0\n",
            "Variable: on_antithyroid_medication Importance: 0.0\n",
            "Variable: thyroid_surgery      Importance: 0.0\n",
            "Variable: query_hypothyroid    Importance: 0.0\n",
            "Variable: query_hyperthyroid   Importance: 0.0\n",
            "Variable: pregnant             Importance: 0.0\n",
            "Variable: sick                 Importance: 0.0\n",
            "Variable: tumor                Importance: 0.0\n",
            "Variable: lithium              Importance: 0.0\n",
            "Variable: goitre               Importance: 0.0\n"
          ],
          "name": "stdout"
        }
      ]
    },
    {
      "cell_type": "code",
      "metadata": {
        "colab": {
          "base_uri": "https://localhost:8080/",
          "height": 418
        },
        "id": "u7d-hHW_fE39",
        "outputId": "979f4a89-1dcb-4692-8fb7-855d778872b3"
      },
      "source": [
        "# Plotting the feature importance\r\n",
        "# list of x locations for plotting\r\n",
        "x_values = list(range(len(importances)))\r\n",
        "# Make a bar chart\r\n",
        "plt.bar(x_values, importances, orientation = 'vertical')\r\n",
        "# Tick labels for x axis\r\n",
        "plt.xticks(x_values, test_features, rotation='vertical')\r\n",
        "# Axis labels and title\r\n",
        "plt.ylabel('Importance'); plt.xlabel('Variable'); plt.title('Variable Importances');"
      ],
      "execution_count": 118,
      "outputs": [
        {
          "output_type": "display_data",
          "data": {
            "image/png": "[encoded data removed]",
            "text/plain": [
              "<Figure size 432x288 with 1 Axes>"
            ]
          },
          "metadata": {
            "tags": [],
            "needs_background": "light"
          }
        }
      ]
    },
    {
      "cell_type": "code",
      "metadata": {
        "colab": {
          "base_uri": "https://localhost:8080/"
        },
        "id": "gbfCrCDmkglk",
        "outputId": "b2cbf8a1-57db-49b8-a6f8-15a35cd0e284"
      },
      "source": [
        "# Selecting only important features\r\n",
        "\r\n",
        "X = df_le[['FTI','TSH','TT4','T3','T4U','age','sex','TSH_measured','T3_measured','TT4_measured','T4U_measured','FTI_measured']]\r\n",
        "y = np.where(df_le.status == 'hypothyroid', 1, 0)\r\n",
        "\r\n",
        "# Splitting the data into training and testing sets\r\n",
        "X_train, X_test, y_train, y_test = train_test_split(X, y, test_size = 0.2, random_state = 0)\r\n",
        "\r\n",
        "# Instantiating the model\r\n",
        "rf = RandomForestClassifier(n_estimators=10, max_depth=10,random_state = 0)\r\n",
        "rf.fit(X_train, y_train)\r\n",
        "\r\n",
        "# Making predictions\r\n",
        "y_pred = rf.predict(X_test)\r\n",
        "\r\n",
        "# Measuring the accuracy of the model\r\n",
        "print(f'The accuracy score is: {accuracy_score(y_test, y_pred)} and the f1 score is {f1_score(y_test, y_pred)}')\r\n",
        "print('\\n')\r\n",
        "print(f'{classification_report(y_test, y_pred)}')\r\n",
        "confusion_matrix(y_test, y_pred)"
      ],
      "execution_count": 119,
      "outputs": [
        {
          "output_type": "stream",
          "text": [
            "The accuracy score is: 1.0 and the f1 score is 0.0\n",
            "\n",
            "\n",
            "              precision    recall  f1-score   support\n",
            "\n",
            "           0       1.00      1.00      1.00       618\n",
            "\n",
            "    accuracy                           1.00       618\n",
            "   macro avg       1.00      1.00      1.00       618\n",
            "weighted avg       1.00      1.00      1.00       618\n",
            "\n"
          ],
          "name": "stdout"
        },
        {
          "output_type": "execute_result",
          "data": {
            "text/plain": [
              "array([[618]])"
            ]
          },
          "metadata": {
            "tags": []
          },
          "execution_count": 119
        }
      ]
    },
    {
      "cell_type": "markdown",
      "metadata": {
        "id": "zBX_3oeNmKAr"
      },
      "source": [
        "* The improved Random Forest Model had an accuracy of 100% and an F1 score of 0.\r\n",
        "0\r\n",
        "\r\n",
        "* The confusion matrix suggested 618 accurate predictions."
      ]
    },
    {
      "cell_type": "code",
      "metadata": {
        "colab": {
          "base_uri": "https://localhost:8080/",
          "height": 297
        },
        "id": "YXqF6TztoJMt",
        "outputId": "fee935a2-35ae-4563-b157-2dbe3080045b"
      },
      "source": [
        "# Comparing the Actual and Predicted\r\n",
        "comparison_frame = pd.DataFrame({'Actual': y_test.flatten(), 'Predicted': y_pred.flatten()})\r\n",
        "comparison_frame.describe()"
      ],
      "execution_count": 120,
      "outputs": [
        {
          "output_type": "execute_result",
          "data": {
            "text/html": [
              "<div>\n",
              "<style scoped>\n",
              "    .dataframe tbody tr th:only-of-type {\n",
              "        vertical-align: middle;\n",
              "    }\n",
              "\n",
              "    .dataframe tbody tr th {\n",
              "        vertical-align: top;\n",
              "    }\n",
              "\n",
              "    .dataframe thead th {\n",
              "        text-align: right;\n",
              "    }\n",
              "</style>\n",
              "<table border=\"1\" class=\"dataframe\">\n",
              "  <thead>\n",
              "    <tr style=\"text-align: right;\">\n",
              "      <th></th>\n",
              "      <th>Actual</th>\n",
              "      <th>Predicted</th>\n",
              "    </tr>\n",
              "  </thead>\n",
              "  <tbody>\n",
              "    <tr>\n",
              "      <th>count</th>\n",
              "      <td>618.0</td>\n",
              "      <td>618.0</td>\n",
              "    </tr>\n",
              "    <tr>\n",
              "      <th>mean</th>\n",
              "      <td>0.0</td>\n",
              "      <td>0.0</td>\n",
              "    </tr>\n",
              "    <tr>\n",
              "      <th>std</th>\n",
              "      <td>0.0</td>\n",
              "      <td>0.0</td>\n",
              "    </tr>\n",
              "    <tr>\n",
              "      <th>min</th>\n",
              "      <td>0.0</td>\n",
              "      <td>0.0</td>\n",
              "    </tr>\n",
              "    <tr>\n",
              "      <th>25%</th>\n",
              "      <td>0.0</td>\n",
              "      <td>0.0</td>\n",
              "    </tr>\n",
              "    <tr>\n",
              "      <th>50%</th>\n",
              "      <td>0.0</td>\n",
              "      <td>0.0</td>\n",
              "    </tr>\n",
              "    <tr>\n",
              "      <th>75%</th>\n",
              "      <td>0.0</td>\n",
              "      <td>0.0</td>\n",
              "    </tr>\n",
              "    <tr>\n",
              "      <th>max</th>\n",
              "      <td>0.0</td>\n",
              "      <td>0.0</td>\n",
              "    </tr>\n",
              "  </tbody>\n",
              "</table>\n",
              "</div>"
            ],
            "text/plain": [
              "       Actual  Predicted\n",
              "count   618.0      618.0\n",
              "mean      0.0        0.0\n",
              "std       0.0        0.0\n",
              "min       0.0        0.0\n",
              "25%       0.0        0.0\n",
              "50%       0.0        0.0\n",
              "75%       0.0        0.0\n",
              "max       0.0        0.0"
            ]
          },
          "metadata": {
            "tags": []
          },
          "execution_count": 120
        }
      ]
    },
    {
      "cell_type": "code",
      "metadata": {
        "colab": {
          "base_uri": "https://localhost:8080/"
        },
        "id": "qqBexMCgoZoE",
        "outputId": "25cfbf08-23fc-4588-d38d-31ff8382e662"
      },
      "source": [
        "# Assessing the errors\r\n",
        "print('Mean Absolute Error:', metrics.mean_absolute_error(y_test, y_pred))  \r\n",
        "print('Mean Squared Error:', metrics.mean_squared_error(y_test, y_pred))  \r\n",
        "print('Root Mean Squared Error:', np.sqrt(metrics.mean_squared_error(y_test, y_pred)))"
      ],
      "execution_count": 121,
      "outputs": [
        {
          "output_type": "stream",
          "text": [
            "Mean Absolute Error: 0.0\n",
            "Mean Squared Error: 0.0\n",
            "Root Mean Squared Error: 0.0\n"
          ],
          "name": "stdout"
        }
      ]
    },
    {
      "cell_type": "markdown",
      "metadata": {
        "id": "DhOZ9D5-qlS6"
      },
      "source": [
        "### Hyperparameter Tuning."
      ]
    },
    {
      "cell_type": "code",
      "metadata": {
        "colab": {
          "base_uri": "https://localhost:8080/"
        },
        "id": "vtsIWB-IqrBF",
        "outputId": "41cd0114-05df-418f-b7b6-21eac02a3b6c"
      },
      "source": [
        "# Previewing the parameters.\r\n",
        "RandomForestClassifier()"
      ],
      "execution_count": 122,
      "outputs": [
        {
          "output_type": "execute_result",
          "data": {
            "text/plain": [
              "RandomForestClassifier(bootstrap=True, ccp_alpha=0.0, class_weight=None,\n",
              "                       criterion='gini', max_depth=None, max_features='auto',\n",
              "                       max_leaf_nodes=None, max_samples=None,\n",
              "                       min_impurity_decrease=0.0, min_impurity_split=None,\n",
              "                       min_samples_leaf=1, min_samples_split=2,\n",
              "                       min_weight_fraction_leaf=0.0, n_estimators=100,\n",
              "                       n_jobs=None, oob_score=False, random_state=None,\n",
              "                       verbose=0, warm_start=False)"
            ]
          },
          "metadata": {
            "tags": []
          },
          "execution_count": 122
        }
      ]
    },
    {
      "cell_type": "code",
      "metadata": {
        "colab": {
          "base_uri": "https://localhost:8080/"
        },
        "id": "a1CKz01DrJ8v",
        "outputId": "73078eb4-e40b-4dee-86d0-7801d9567e5f"
      },
      "source": [
        "# Creating a dictionary of parameters\r\n",
        "params = {'n_estimators': [1,2,5,10,20,30],'max_depth': [1, 2, 3]}\r\n",
        "\r\n",
        "# Setting the number of folds.\r\n",
        "from sklearn.model_selection import KFold\r\n",
        "from sklearn.model_selection import GridSearchCV\r\n",
        "\r\n",
        "kfold = KFold(n_splits=10, shuffle=True)\r\n",
        "model = RandomForestClassifier()\r\n",
        "search = GridSearchCV(model, param_grid=params, scoring = 'f1', cv = kfold)\r\n",
        "\r\n",
        "# Fitting the grid search with the X and the y variables\r\n",
        "search.fit(X, y)\r\n",
        "# Checking for the best parameters\r\n",
        "print(f'The best parameters are: {search.best_params_}')"
      ],
      "execution_count": 123,
      "outputs": [
        {
          "output_type": "stream",
          "text": [
            "The best parameters are: {'max_depth': 1, 'n_estimators': 1}\n"
          ],
          "name": "stdout"
        }
      ]
    },
    {
      "cell_type": "code",
      "metadata": {
        "colab": {
          "base_uri": "https://localhost:8080/"
        },
        "id": "fLZK9XONs-y5",
        "outputId": "eff0f4d1-bbb1-415e-8ac9-95a3536872e1"
      },
      "source": [
        "# Applying the best parameters to the model\r\n",
        "# Selecting only important features\r\n",
        "\r\n",
        "X = df_le[['FTI','TSH','TT4','T3','T4U','age','sex','TSH_measured','T3_measured','TT4_measured','T4U_measured','FTI_measured']]\r\n",
        "y = np.where(df_le.status == 'hypothyroid', 1, 0)\r\n",
        "\r\n",
        "# Splitting the data into training and testing sets\r\n",
        "X_train, X_test, y_train, y_test = train_test_split(X, y, test_size = 0.2, random_state = 0)\r\n",
        "\r\n",
        "# Instantiating the model\r\n",
        "rf = RandomForestClassifier(n_estimators=10, max_depth=1, random_state = 0)\r\n",
        "rf.fit(X_train, y_train)\r\n",
        "\r\n",
        "# Making predictions\r\n",
        "y_pred = rf.predict(X_test)\r\n",
        "\r\n",
        "# Measuring the accuracy of the model\r\n",
        "print(f'The accuracy score is: {accuracy_score(y_test, y_pred)} and the f1 score is {f1_score(y_test, y_pred)}')\r\n",
        "print('\\n')\r\n",
        "print(f'{classification_report(y_test, y_pred)}')\r\n",
        "confusion_matrix(y_test, y_pred)"
      ],
      "execution_count": 124,
      "outputs": [
        {
          "output_type": "stream",
          "text": [
            "The accuracy score is: 1.0 and the f1 score is 0.0\n",
            "\n",
            "\n",
            "              precision    recall  f1-score   support\n",
            "\n",
            "           0       1.00      1.00      1.00       618\n",
            "\n",
            "    accuracy                           1.00       618\n",
            "   macro avg       1.00      1.00      1.00       618\n",
            "weighted avg       1.00      1.00      1.00       618\n",
            "\n"
          ],
          "name": "stdout"
        },
        {
          "output_type": "execute_result",
          "data": {
            "text/plain": [
              "array([[618]])"
            ]
          },
          "metadata": {
            "tags": []
          },
          "execution_count": 124
        }
      ]
    },
    {
      "cell_type": "code",
      "metadata": {
        "colab": {
          "base_uri": "https://localhost:8080/",
          "height": 98
        },
        "id": "Vcxp7J0cw06Z",
        "outputId": "651f4fda-a218-46c1-a956-59e92a4ba92d"
      },
      "source": [
        "# picking the 1st tree from the forest\r\n",
        "from io import StringIO\r\n",
        "from sklearn.tree import export_graphviz\r\n",
        "import pydotplus\r\n",
        "from IPython.display import Image \r\n",
        "\r\n",
        "tree = rf.estimators_[3]\r\n",
        "\r\n",
        "dot_data = StringIO()\r\n",
        "export_graphviz(tree, out_file=dot_data,  \r\n",
        "                filled=True, rounded=True,\r\n",
        "                special_characters=True,feature_names = X.columns)\r\n",
        "graph = pydotplus.graph_from_dot_data(dot_data.getvalue())  \r\n",
        "Image(graph.create_png())"
      ],
      "execution_count": 125,
      "outputs": [
        {
          "output_type": "execute_result",
          "data": {
            "image/png": "[encoded data removed]",
            "text/plain": [
              "<IPython.core.display.Image object>"
            ]
          },
          "metadata": {
            "tags": []
          },
          "execution_count": 125
        }
      ]
    },
    {
      "cell_type": "markdown",
      "metadata": {
        "id": "hWN4lEMBBVCE"
      },
      "source": [
        "## Ada Boost."
      ]
    },
    {
      "cell_type": "code",
      "metadata": {
        "id": "U-vFmt35BVCM"
      },
      "source": [
        "# Splitting the data\r\n",
        "from sklearn.model_selection import train_test_split\r\n",
        "\r\n",
        "y = df_le['status'].values\r\n",
        "test_features =df_le.columns.to_list()\r\n",
        "test_features.remove('status')\r\n",
        "X = df_le[test_features].values\r\n",
        "# Train using 80% of the data.\r\n",
        "X_train, X_test, y_train, y_test = train_test_split(X, y, test_size=0.2, random_state=0)"
      ],
      "execution_count": 126,
      "outputs": []
    },
    {
      "cell_type": "code",
      "metadata": {
        "colab": {
          "base_uri": "https://localhost:8080/"
        },
        "id": "QoImwI5iDCJP",
        "outputId": "14d01d62-f644-4c98-b37c-e6041d305296"
      },
      "source": [
        "# Instantiating the model\r\n",
        "from sklearn.ensemble import AdaBoostClassifier\r\n",
        "ada = AdaBoostClassifier(random_state = 0)\r\n",
        "ada.fit(X_train, y_train)\r\n",
        "\r\n",
        "# Making predictions\r\n",
        "#\r\n",
        "y_pred = ada.predict(X_test)\r\n",
        "\r\n",
        "# Measuring the accuracy of the model\r\n",
        "#\r\n",
        "acc_a = accuracy_score(y_test, y_pred)\r\n",
        "f1_a = f1_score(y_test, y_pred)\r\n",
        "\r\n",
        "print(f'The accuracy score is: {acc_a} and the f1 score is {f1_a}')\r\n",
        "print('\\n')\r\n",
        "print(f'{classification_report(y_test, y_pred)}')\r\n",
        "confusion_matrix(y_test, y_pred)"
      ],
      "execution_count": 127,
      "outputs": [
        {
          "output_type": "stream",
          "text": [
            "The accuracy score is: 0.9951456310679612 and the f1 score is 0.9974726200505475\n",
            "\n",
            "\n",
            "              precision    recall  f1-score   support\n",
            "\n",
            "           0       0.96      0.92      0.94        25\n",
            "           1       1.00      1.00      1.00       593\n",
            "\n",
            "    accuracy                           1.00       618\n",
            "   macro avg       0.98      0.96      0.97       618\n",
            "weighted avg       1.00      1.00      1.00       618\n",
            "\n"
          ],
          "name": "stdout"
        },
        {
          "output_type": "execute_result",
          "data": {
            "text/plain": [
              "array([[ 23,   2],\n",
              "       [  1, 592]])"
            ]
          },
          "metadata": {
            "tags": []
          },
          "execution_count": 127
        }
      ]
    },
    {
      "cell_type": "markdown",
      "metadata": {
        "id": "83dZkQPlnB0S"
      },
      "source": [
        "* The initial model for AdaBoost had an accuracy of 99.5% and an F1 score of 0.997.\r\n",
        "\r\n",
        "* The Confusion Matrix suggested 23 and 592 accurate predictions and, 1 and 5 inaccurate predictions."
      ]
    },
    {
      "cell_type": "code",
      "metadata": {
        "colab": {
          "base_uri": "https://localhost:8080/"
        },
        "id": "3Yq7FE_zGYqR",
        "outputId": "ec04f223-972b-4d71-a463-6dd4f314da8f"
      },
      "source": [
        "# Assessing the errors\r\n",
        "print('Mean Absolute Error:', metrics.mean_absolute_error(y_test, y_pred))  \r\n",
        "print('Mean Squared Error:', metrics.mean_squared_error(y_test, y_pred))  \r\n",
        "print('Root Mean Squared Error:', np.sqrt(metrics.mean_squared_error(y_test, y_pred)))"
      ],
      "execution_count": 128,
      "outputs": [
        {
          "output_type": "stream",
          "text": [
            "Mean Absolute Error: 0.0048543689320388345\n",
            "Mean Squared Error: 0.0048543689320388345\n",
            "Root Mean Squared Error: 0.06967330142916177\n"
          ],
          "name": "stdout"
        }
      ]
    },
    {
      "cell_type": "code",
      "metadata": {
        "colab": {
          "base_uri": "https://localhost:8080/"
        },
        "id": "5NQBUxG8GYqW",
        "outputId": "eab6bb06-e523-46c3-c0dd-f0fce41687a4"
      },
      "source": [
        "# Get feature importances\r\n",
        "importances = list(ada.feature_importances_)\r\n",
        "# List of tuples with variable and importance\r\n",
        "feature_importances = [(feature, round(importance, 4)) for feature, importance in zip(test_features, importances)]\r\n",
        "feature_importances = sorted(feature_importances, key = lambda x: x[1], reverse = True)\r\n",
        "# Print out the feature and importances.\r\n",
        "print('The Importance of the features is as follows in Descending order') \r\n",
        "[print('Variable: {:20} Importance: {}'.format(*pair)) for pair in feature_importances];"
      ],
      "execution_count": 129,
      "outputs": [
        {
          "output_type": "stream",
          "text": [
            "The Importance of the features is as follows in Descending order\n",
            "Variable: age                  Importance: 0.24\n",
            "Variable: TSH                  Importance: 0.24\n",
            "Variable: FTI                  Importance: 0.2\n",
            "Variable: T3                   Importance: 0.14\n",
            "Variable: T4U                  Importance: 0.1\n",
            "Variable: TT4                  Importance: 0.08\n",
            "Variable: sex                  Importance: 0.0\n",
            "Variable: on_thyroxine         Importance: 0.0\n",
            "Variable: query_on_thyroxine   Importance: 0.0\n",
            "Variable: on_antithyroid_medication Importance: 0.0\n",
            "Variable: thyroid_surgery      Importance: 0.0\n",
            "Variable: query_hypothyroid    Importance: 0.0\n",
            "Variable: query_hyperthyroid   Importance: 0.0\n",
            "Variable: pregnant             Importance: 0.0\n",
            "Variable: sick                 Importance: 0.0\n",
            "Variable: tumor                Importance: 0.0\n",
            "Variable: lithium              Importance: 0.0\n",
            "Variable: goitre               Importance: 0.0\n",
            "Variable: TSH_measured         Importance: 0.0\n",
            "Variable: T3_measured          Importance: 0.0\n",
            "Variable: TT4_measured         Importance: 0.0\n",
            "Variable: T4U_measured         Importance: 0.0\n",
            "Variable: FTI_measured         Importance: 0.0\n"
          ],
          "name": "stdout"
        }
      ]
    },
    {
      "cell_type": "code",
      "metadata": {
        "colab": {
          "base_uri": "https://localhost:8080/",
          "height": 418
        },
        "id": "Eb8Z9bepO8kt",
        "outputId": "77401a45-d263-4c31-9d28-fb5848af2175"
      },
      "source": [
        "# Plotting the feature importance\r\n",
        "# list of x locations for plotting\r\n",
        "x_values = list(range(len(importances)))\r\n",
        "# Make a bar chart\r\n",
        "plt.bar(x_values, importances, orientation = 'vertical')\r\n",
        "# Tick labels for x axis\r\n",
        "plt.xticks(x_values, test_features, rotation='vertical')\r\n",
        "# Axis labels and title\r\n",
        "plt.ylabel('Importance'); plt.xlabel('Variable'); plt.title('Variable Importances');"
      ],
      "execution_count": 130,
      "outputs": [
        {
          "output_type": "display_data",
          "data": {
            "image/png": "[encoded data removed]",
            "text/plain": [
              "<Figure size 432x288 with 1 Axes>"
            ]
          },
          "metadata": {
            "tags": [],
            "needs_background": "light"
          }
        }
      ]
    },
    {
      "cell_type": "code",
      "metadata": {
        "colab": {
          "base_uri": "https://localhost:8080/"
        },
        "id": "B9uNOI7AGYqY",
        "outputId": "c9b4bbce-f360-4c28-8687-fd49b544c4f9"
      },
      "source": [
        "# Selecting only important features\r\n",
        "\r\n",
        "X = df_le[['age','sex','on_thyroxine','query_on_thyroxine','on_antithyroid_medication','thyroid_surgery','query_hypothyroid']]\r\n",
        "y = np.where(df_le.status == 'hypothyroid', 1, 0)\r\n",
        "\r\n",
        "# Splitting the data into training and testing sets\r\n",
        "X_train, X_test, y_train, y_test = train_test_split(X, y, test_size = 0.2, random_state = 0)\r\n",
        "\r\n",
        "# Instantiating the model\r\n",
        "ada = AdaBoostClassifier(random_state = 0)\r\n",
        "ada.fit(X_train, y_train)\r\n",
        "\r\n",
        "# Making predictions\r\n",
        "y_pred = ada.predict(X_test)\r\n",
        "\r\n",
        "# Measuring the accuracy of the model\r\n",
        "print(f'The accuracy score is: {accuracy_score(y_test, y_pred)} and the f1 score is {f1_score(y_test, y_pred)}')\r\n",
        "print('\\n')\r\n",
        "print(f'{classification_report(y_test, y_pred)}')\r\n",
        "confusion_matrix(y_test, y_pred)"
      ],
      "execution_count": 131,
      "outputs": [
        {
          "output_type": "stream",
          "text": [
            "The accuracy score is: 1.0 and the f1 score is 0.0\n",
            "\n",
            "\n",
            "              precision    recall  f1-score   support\n",
            "\n",
            "           0       1.00      1.00      1.00       618\n",
            "\n",
            "    accuracy                           1.00       618\n",
            "   macro avg       1.00      1.00      1.00       618\n",
            "weighted avg       1.00      1.00      1.00       618\n",
            "\n"
          ],
          "name": "stdout"
        },
        {
          "output_type": "execute_result",
          "data": {
            "text/plain": [
              "array([[618]])"
            ]
          },
          "metadata": {
            "tags": []
          },
          "execution_count": 131
        }
      ]
    },
    {
      "cell_type": "markdown",
      "metadata": {
        "id": "NY1U2Th4oOFG"
      },
      "source": [
        "* The improved AdaBoost Model had an accuracy of 100% and an F1 score of 0.\r\n",
        "0\r\n",
        "\r\n",
        "* The confusion matrix suggested 618 accurate predictions."
      ]
    },
    {
      "cell_type": "code",
      "metadata": {
        "colab": {
          "base_uri": "https://localhost:8080/",
          "height": 297
        },
        "id": "gE3SM4GbGYqY",
        "outputId": "739ffc07-a218-48c8-86e7-2ae5a6166019"
      },
      "source": [
        "# Comparing the Actual and Predicted\r\n",
        "comparison_frame = pd.DataFrame({'Actual': y_test.flatten(), 'Predicted': y_pred.flatten()})\r\n",
        "comparison_frame.describe()"
      ],
      "execution_count": 132,
      "outputs": [
        {
          "output_type": "execute_result",
          "data": {
            "text/html": [
              "<div>\n",
              "<style scoped>\n",
              "    .dataframe tbody tr th:only-of-type {\n",
              "        vertical-align: middle;\n",
              "    }\n",
              "\n",
              "    .dataframe tbody tr th {\n",
              "        vertical-align: top;\n",
              "    }\n",
              "\n",
              "    .dataframe thead th {\n",
              "        text-align: right;\n",
              "    }\n",
              "</style>\n",
              "<table border=\"1\" class=\"dataframe\">\n",
              "  <thead>\n",
              "    <tr style=\"text-align: right;\">\n",
              "      <th></th>\n",
              "      <th>Actual</th>\n",
              "      <th>Predicted</th>\n",
              "    </tr>\n",
              "  </thead>\n",
              "  <tbody>\n",
              "    <tr>\n",
              "      <th>count</th>\n",
              "      <td>618.0</td>\n",
              "      <td>618.0</td>\n",
              "    </tr>\n",
              "    <tr>\n",
              "      <th>mean</th>\n",
              "      <td>0.0</td>\n",
              "      <td>0.0</td>\n",
              "    </tr>\n",
              "    <tr>\n",
              "      <th>std</th>\n",
              "      <td>0.0</td>\n",
              "      <td>0.0</td>\n",
              "    </tr>\n",
              "    <tr>\n",
              "      <th>min</th>\n",
              "      <td>0.0</td>\n",
              "      <td>0.0</td>\n",
              "    </tr>\n",
              "    <tr>\n",
              "      <th>25%</th>\n",
              "      <td>0.0</td>\n",
              "      <td>0.0</td>\n",
              "    </tr>\n",
              "    <tr>\n",
              "      <th>50%</th>\n",
              "      <td>0.0</td>\n",
              "      <td>0.0</td>\n",
              "    </tr>\n",
              "    <tr>\n",
              "      <th>75%</th>\n",
              "      <td>0.0</td>\n",
              "      <td>0.0</td>\n",
              "    </tr>\n",
              "    <tr>\n",
              "      <th>max</th>\n",
              "      <td>0.0</td>\n",
              "      <td>0.0</td>\n",
              "    </tr>\n",
              "  </tbody>\n",
              "</table>\n",
              "</div>"
            ],
            "text/plain": [
              "       Actual  Predicted\n",
              "count   618.0      618.0\n",
              "mean      0.0        0.0\n",
              "std       0.0        0.0\n",
              "min       0.0        0.0\n",
              "25%       0.0        0.0\n",
              "50%       0.0        0.0\n",
              "75%       0.0        0.0\n",
              "max       0.0        0.0"
            ]
          },
          "metadata": {
            "tags": []
          },
          "execution_count": 132
        }
      ]
    },
    {
      "cell_type": "code",
      "metadata": {
        "colab": {
          "base_uri": "https://localhost:8080/"
        },
        "id": "8F_r6SMtGYqZ",
        "outputId": "a4b6016d-1f84-4f89-f42d-8db557068c05"
      },
      "source": [
        "# Assessing the errors\r\n",
        "print('Mean Absolute Error:', metrics.mean_absolute_error(y_test, y_pred))  \r\n",
        "print('Mean Squared Error:', metrics.mean_squared_error(y_test, y_pred))  \r\n",
        "print('Root Mean Squared Error:', np.sqrt(metrics.mean_squared_error(y_test, y_pred)))"
      ],
      "execution_count": 133,
      "outputs": [
        {
          "output_type": "stream",
          "text": [
            "Mean Absolute Error: 0.0\n",
            "Mean Squared Error: 0.0\n",
            "Root Mean Squared Error: 0.0\n"
          ],
          "name": "stdout"
        }
      ]
    },
    {
      "cell_type": "markdown",
      "metadata": {
        "id": "vLErXG8GePEd"
      },
      "source": [
        "### Hyperparameter Tuning."
      ]
    },
    {
      "cell_type": "code",
      "metadata": {
        "colab": {
          "base_uri": "https://localhost:8080/"
        },
        "id": "nyWrGAL2ePEo",
        "outputId": "fff6e829-0825-4936-9548-dde57b110e22"
      },
      "source": [
        "# Previewing the parameters.\r\n",
        "AdaBoostClassifier()"
      ],
      "execution_count": 134,
      "outputs": [
        {
          "output_type": "execute_result",
          "data": {
            "text/plain": [
              "AdaBoostClassifier(algorithm='SAMME.R', base_estimator=None, learning_rate=1.0,\n",
              "                   n_estimators=50, random_state=None)"
            ]
          },
          "metadata": {
            "tags": []
          },
          "execution_count": 134
        }
      ]
    },
    {
      "cell_type": "code",
      "metadata": {
        "colab": {
          "base_uri": "https://localhost:8080/"
        },
        "id": "WuefEM6vePEp",
        "outputId": "f5e83c65-2b2f-4f45-9670-1524fd6acc1b"
      },
      "source": [
        "# Creating a dictionary of parameters\r\n",
        "params = {'n_estimators': [1,2,5,10,20,30],'learning_rate': [0.0001, 0.001, 0.01, 0.1, 0.2, 0.3]}\r\n",
        "\r\n",
        "# Setting the number of folds.\r\n",
        "from sklearn.model_selection import KFold\r\n",
        "from sklearn.model_selection import GridSearchCV\r\n",
        "\r\n",
        "kfold = KFold(n_splits=10, shuffle=True)\r\n",
        "model = AdaBoostClassifier()\r\n",
        "search = GridSearchCV(model, param_grid=params, scoring = 'f1', cv = kfold)\r\n",
        "\r\n",
        "# Fitting the grid search with the X and the y variables\r\n",
        "search.fit(X, y)\r\n",
        "# Checking for the best parameters\r\n",
        "print(f'The best parameters are: {search.best_params_}')\r\n"
      ],
      "execution_count": 135,
      "outputs": [
        {
          "output_type": "stream",
          "text": [
            "The best parameters are: {'learning_rate': 0.0001, 'n_estimators': 1}\n"
          ],
          "name": "stdout"
        }
      ]
    },
    {
      "cell_type": "code",
      "metadata": {
        "colab": {
          "base_uri": "https://localhost:8080/"
        },
        "id": "7MM0QxVSePEq",
        "outputId": "b2608a27-afb3-4384-f4d6-9b9a50432fc4"
      },
      "source": [
        "# Applying the best parameters to the model\r\n",
        "# Selecting only important features\r\n",
        "\r\n",
        "X = df_le[['age','sex','on_thyroxine','query_on_thyroxine','on_antithyroid_medication','thyroid_surgery','query_hypothyroid']]\r\n",
        "y = np.where(df_le.status == 'hypothyroid', 1, 0)\r\n",
        "\r\n",
        "# Splitting the data into training and testing sets\r\n",
        "X_train, X_test, y_train, y_test = train_test_split(X, y, test_size = 0.2, random_state = 0)\r\n",
        "\r\n",
        "# Instantiating the model\r\n",
        "ada = AdaBoostClassifier(n_estimators=1, learning_rate= 0.0001, random_state = 0)\r\n",
        "ada.fit(X_train, y_train)\r\n",
        "\r\n",
        "# Making predictions\r\n",
        "y_pred = ada.predict(X_test)\r\n",
        "\r\n",
        "# Measuring the accuracy of the model\r\n",
        "print(f'The accuracy score is: {accuracy_score(y_test, y_pred)} and the f1 score is {f1_score(y_test, y_pred)}')\r\n",
        "print('\\n')\r\n",
        "print(f'{classification_report(y_test, y_pred)}')\r\n",
        "confusion_matrix(y_test, y_pred)"
      ],
      "execution_count": 136,
      "outputs": [
        {
          "output_type": "stream",
          "text": [
            "The accuracy score is: 1.0 and the f1 score is 0.0\n",
            "\n",
            "\n",
            "              precision    recall  f1-score   support\n",
            "\n",
            "           0       1.00      1.00      1.00       618\n",
            "\n",
            "    accuracy                           1.00       618\n",
            "   macro avg       1.00      1.00      1.00       618\n",
            "weighted avg       1.00      1.00      1.00       618\n",
            "\n"
          ],
          "name": "stdout"
        },
        {
          "output_type": "execute_result",
          "data": {
            "text/plain": [
              "array([[618]])"
            ]
          },
          "metadata": {
            "tags": []
          },
          "execution_count": 136
        }
      ]
    },
    {
      "cell_type": "code",
      "metadata": {
        "colab": {
          "base_uri": "https://localhost:8080/",
          "height": 98
        },
        "id": "uEWvlY3SePEq",
        "outputId": "5829916c-3494-43c4-8b32-f99d33fa2fb5"
      },
      "source": [
        "# picking the 1st tree from the forest\r\n",
        "from io import StringIO\r\n",
        "from sklearn.tree import export_graphviz\r\n",
        "import pydotplus\r\n",
        "from IPython.display import Image \r\n",
        "\r\n",
        "tree = ada.estimators_[0]\r\n",
        "\r\n",
        "dot_data = StringIO()\r\n",
        "export_graphviz(tree, out_file=dot_data,  \r\n",
        "                filled=True, rounded=True,\r\n",
        "                special_characters=True,feature_names = X.columns)\r\n",
        "graph = pydotplus.graph_from_dot_data(dot_data.getvalue())  \r\n",
        "Image(graph.create_png())"
      ],
      "execution_count": 137,
      "outputs": [
        {
          "output_type": "execute_result",
          "data": {
            "image/png": "[encoded data removed]",
            "text/plain": [
              "<IPython.core.display.Image object>"
            ]
          },
          "metadata": {
            "tags": []
          },
          "execution_count": 137
        }
      ]
    },
    {
      "cell_type": "markdown",
      "metadata": {
        "id": "EhmHZMKKEUht"
      },
      "source": [
        "## Gradient Boost."
      ]
    },
    {
      "cell_type": "code",
      "metadata": {
        "colab": {
          "base_uri": "https://localhost:8080/"
        },
        "id": "CfJ3WHk_Bqdo",
        "outputId": "8f86ef57-a179-473b-c9fa-29b972ad5d23"
      },
      "source": [
        "# Splitting the data\r\n",
        "from sklearn.model_selection import train_test_split\r\n",
        "\r\n",
        "y = df_le['status'].values\r\n",
        "test_features =df_le.columns.to_list()\r\n",
        "test_features.remove('status')\r\n",
        "X = df_le[test_features].values\r\n",
        "# Train using 80% of the data.\r\n",
        "X_train, X_test, y_train, y_test = train_test_split(X, y, test_size=0.2, random_state=0)\r\n",
        "# Instantiating the model\r\n",
        "from sklearn.ensemble import GradientBoostingClassifier\r\n",
        "\r\n",
        "target_number_of_trees = 300\r\n",
        "grb = GradientBoostingClassifier(n_estimators=target_number_of_trees, learning_rate=0.01, max_depth=2)\r\n",
        "grb.fit(X_train, y_train)\r\n",
        "\r\n",
        "# Making predictions\r\n",
        "y_pred = grb.predict(X_test)\r\n",
        "\r\n",
        "# Measuring the accuracy of the model\r\n",
        "#\r\n",
        "acc_1 = accuracy_score(y_test, y_pred)\r\n",
        "f1_1 = f1_score(y_test, y_pred)\r\n",
        "\r\n",
        "print(f'The accuracy score is: {acc_1} and the f1 score is {f1_1}')\r\n",
        "print('\\n')\r\n",
        "print(f'{classification_report(y_test, y_pred)}')\r\n",
        "confusion_matrix(y_test, y_pred)"
      ],
      "execution_count": 140,
      "outputs": [
        {
          "output_type": "stream",
          "text": [
            "The accuracy score is: 0.9951456310679612 and the f1 score is 0.9974726200505475\n",
            "\n",
            "\n",
            "              precision    recall  f1-score   support\n",
            "\n",
            "           0       0.96      0.92      0.94        25\n",
            "           1       1.00      1.00      1.00       593\n",
            "\n",
            "    accuracy                           1.00       618\n",
            "   macro avg       0.98      0.96      0.97       618\n",
            "weighted avg       1.00      1.00      1.00       618\n",
            "\n"
          ],
          "name": "stdout"
        },
        {
          "output_type": "execute_result",
          "data": {
            "text/plain": [
              "array([[ 23,   2],\n",
              "       [  1, 592]])"
            ]
          },
          "metadata": {
            "tags": []
          },
          "execution_count": 140
        }
      ]
    },
    {
      "cell_type": "markdown",
      "metadata": {
        "id": "kov6pQQ1od0w"
      },
      "source": [
        "* The initial Gradient Boost Model had an accuracy of 99.5% and an F1 score of 0.997.\r\n",
        "\r\n",
        "* The confusion matrix suggested 23 and 592 accurate predictions, 2 and 1 inaccurate predictions."
      ]
    },
    {
      "cell_type": "code",
      "metadata": {
        "colab": {
          "base_uri": "https://localhost:8080/"
        },
        "id": "Y9kqi7F1iNEz",
        "outputId": "e6bbd67d-97ef-469f-a47c-e9ceb85ab2ae"
      },
      "source": [
        "# Assessing the errors\r\n",
        "print('Mean Absolute Error:', metrics.mean_absolute_error(y_test, y_pred))  \r\n",
        "print('Mean Squared Error:', metrics.mean_squared_error(y_test, y_pred))  \r\n",
        "print('Root Mean Squared Error:', np.sqrt(metrics.mean_squared_error(y_test, y_pred)))"
      ],
      "execution_count": 141,
      "outputs": [
        {
          "output_type": "stream",
          "text": [
            "Mean Absolute Error: 0.0048543689320388345\n",
            "Mean Squared Error: 0.0048543689320388345\n",
            "Root Mean Squared Error: 0.06967330142916177\n"
          ],
          "name": "stdout"
        }
      ]
    },
    {
      "cell_type": "code",
      "metadata": {
        "colab": {
          "base_uri": "https://localhost:8080/"
        },
        "id": "KgiLQhC-iNE6",
        "outputId": "691cf850-2b92-41e5-8890-86ada8dbd0fd"
      },
      "source": [
        "# Get feature importances\r\n",
        "importances = list(grb.feature_importances_)\r\n",
        "# List of tuples with variable and importance\r\n",
        "feature_importances = [(feature, round(importance, 4)) for feature, importance in zip(test_features, importances)]\r\n",
        "feature_importances = sorted(feature_importances, key = lambda x: x[1], reverse = True)\r\n",
        "# Print out the feature and importances.\r\n",
        "print('The Importance of the features is as follows in Descending order') \r\n",
        "[print('Variable: {:20} Importance: {}'.format(*pair)) for pair in feature_importances];"
      ],
      "execution_count": 142,
      "outputs": [
        {
          "output_type": "stream",
          "text": [
            "The Importance of the features is as follows in Descending order\n",
            "Variable: FTI                  Importance: 0.7462\n",
            "Variable: TSH                  Importance: 0.2412\n",
            "Variable: age                  Importance: 0.0051\n",
            "Variable: T3                   Importance: 0.0044\n",
            "Variable: TT4                  Importance: 0.003\n",
            "Variable: sex                  Importance: 0.0\n",
            "Variable: on_thyroxine         Importance: 0.0\n",
            "Variable: query_on_thyroxine   Importance: 0.0\n",
            "Variable: on_antithyroid_medication Importance: 0.0\n",
            "Variable: thyroid_surgery      Importance: 0.0\n",
            "Variable: query_hypothyroid    Importance: 0.0\n",
            "Variable: query_hyperthyroid   Importance: 0.0\n",
            "Variable: pregnant             Importance: 0.0\n",
            "Variable: sick                 Importance: 0.0\n",
            "Variable: tumor                Importance: 0.0\n",
            "Variable: lithium              Importance: 0.0\n",
            "Variable: goitre               Importance: 0.0\n",
            "Variable: TSH_measured         Importance: 0.0\n",
            "Variable: T3_measured          Importance: 0.0\n",
            "Variable: TT4_measured         Importance: 0.0\n",
            "Variable: T4U_measured         Importance: 0.0\n",
            "Variable: T4U                  Importance: 0.0\n",
            "Variable: FTI_measured         Importance: 0.0\n"
          ],
          "name": "stdout"
        }
      ]
    },
    {
      "cell_type": "code",
      "metadata": {
        "colab": {
          "base_uri": "https://localhost:8080/",
          "height": 418
        },
        "id": "bV7pBau7iNE7",
        "outputId": "447a5e9e-e5d8-4020-8630-f73e7a6e829c"
      },
      "source": [
        "# Plotting the feature importance\r\n",
        "# list of x locations for plotting\r\n",
        "x_values = list(range(len(importances)))\r\n",
        "# Make a bar chart\r\n",
        "plt.bar(x_values, importances, orientation = 'vertical')\r\n",
        "# Tick labels for x axis\r\n",
        "plt.xticks(x_values, test_features, rotation='vertical')\r\n",
        "# Axis labels and title\r\n",
        "plt.ylabel('Importance'); plt.xlabel('Variable'); plt.title('Variable Importances');"
      ],
      "execution_count": 143,
      "outputs": [
        {
          "output_type": "display_data",
          "data": {
            "image/png": "[encoded data removed]",
            "text/plain": [
              "<Figure size 432x288 with 1 Axes>"
            ]
          },
          "metadata": {
            "tags": [],
            "needs_background": "light"
          }
        }
      ]
    },
    {
      "cell_type": "code",
      "metadata": {
        "colab": {
          "base_uri": "https://localhost:8080/"
        },
        "id": "0iKGByYsiNE8",
        "outputId": "7b7140be-66e3-475a-ee46-5f98764c5f97"
      },
      "source": [
        "# Selecting only important features\r\n",
        "\r\n",
        "X = df_le[['FTI','TSH','age','T3','TT4',]]\r\n",
        "y = np.where(df_le.status == 'hypothyroid', 1, 0)\r\n",
        "\r\n",
        "# Splitting the data into training and testing sets\r\n",
        "X_train, X_test, y_train, y_test = train_test_split(X, y, test_size = 0.2, random_state = 0)\r\n",
        "\r\n",
        "# Instantiating the model\r\n",
        "ada = AdaBoostClassifier(random_state = 0)\r\n",
        "ada.fit(X_train, y_train)\r\n",
        "\r\n",
        "# Making predictions\r\n",
        "y_pred = ada.predict(X_test)\r\n",
        "\r\n",
        "# Measuring the accuracy of the model\r\n",
        "print(f'The accuracy score is: {accuracy_score(y_test, y_pred)} and the f1 score is {f1_score(y_test, y_pred)}')\r\n",
        "print('\\n')\r\n",
        "print(f'{classification_report(y_test, y_pred)}')\r\n",
        "confusion_matrix(y_test, y_pred)"
      ],
      "execution_count": 144,
      "outputs": [
        {
          "output_type": "stream",
          "text": [
            "The accuracy score is: 1.0 and the f1 score is 0.0\n",
            "\n",
            "\n",
            "              precision    recall  f1-score   support\n",
            "\n",
            "           0       1.00      1.00      1.00       618\n",
            "\n",
            "    accuracy                           1.00       618\n",
            "   macro avg       1.00      1.00      1.00       618\n",
            "weighted avg       1.00      1.00      1.00       618\n",
            "\n"
          ],
          "name": "stdout"
        },
        {
          "output_type": "execute_result",
          "data": {
            "text/plain": [
              "array([[618]])"
            ]
          },
          "metadata": {
            "tags": []
          },
          "execution_count": 144
        }
      ]
    },
    {
      "cell_type": "markdown",
      "metadata": {
        "id": "TV5uhsTSpGoM"
      },
      "source": [
        "* The improved Gradient Boost Model had an accuracy of 100% and an F1 score of 0.\r\n",
        "0\r\n",
        "\r\n",
        "* The confusion matrix suggested 618 accurate predictions."
      ]
    },
    {
      "cell_type": "code",
      "metadata": {
        "colab": {
          "base_uri": "https://localhost:8080/",
          "height": 297
        },
        "id": "m1Qw__NtiNE9",
        "outputId": "0d29f4a8-7241-4d23-ee9b-3dff9a824183"
      },
      "source": [
        "# Comparing the Actual and Predicted\r\n",
        "comparison_frame = pd.DataFrame({'Actual': y_test.flatten(), 'Predicted': y_pred.flatten()})\r\n",
        "comparison_frame.describe()"
      ],
      "execution_count": 145,
      "outputs": [
        {
          "output_type": "execute_result",
          "data": {
            "text/html": [
              "<div>\n",
              "<style scoped>\n",
              "    .dataframe tbody tr th:only-of-type {\n",
              "        vertical-align: middle;\n",
              "    }\n",
              "\n",
              "    .dataframe tbody tr th {\n",
              "        vertical-align: top;\n",
              "    }\n",
              "\n",
              "    .dataframe thead th {\n",
              "        text-align: right;\n",
              "    }\n",
              "</style>\n",
              "<table border=\"1\" class=\"dataframe\">\n",
              "  <thead>\n",
              "    <tr style=\"text-align: right;\">\n",
              "      <th></th>\n",
              "      <th>Actual</th>\n",
              "      <th>Predicted</th>\n",
              "    </tr>\n",
              "  </thead>\n",
              "  <tbody>\n",
              "    <tr>\n",
              "      <th>count</th>\n",
              "      <td>618.0</td>\n",
              "      <td>618.0</td>\n",
              "    </tr>\n",
              "    <tr>\n",
              "      <th>mean</th>\n",
              "      <td>0.0</td>\n",
              "      <td>0.0</td>\n",
              "    </tr>\n",
              "    <tr>\n",
              "      <th>std</th>\n",
              "      <td>0.0</td>\n",
              "      <td>0.0</td>\n",
              "    </tr>\n",
              "    <tr>\n",
              "      <th>min</th>\n",
              "      <td>0.0</td>\n",
              "      <td>0.0</td>\n",
              "    </tr>\n",
              "    <tr>\n",
              "      <th>25%</th>\n",
              "      <td>0.0</td>\n",
              "      <td>0.0</td>\n",
              "    </tr>\n",
              "    <tr>\n",
              "      <th>50%</th>\n",
              "      <td>0.0</td>\n",
              "      <td>0.0</td>\n",
              "    </tr>\n",
              "    <tr>\n",
              "      <th>75%</th>\n",
              "      <td>0.0</td>\n",
              "      <td>0.0</td>\n",
              "    </tr>\n",
              "    <tr>\n",
              "      <th>max</th>\n",
              "      <td>0.0</td>\n",
              "      <td>0.0</td>\n",
              "    </tr>\n",
              "  </tbody>\n",
              "</table>\n",
              "</div>"
            ],
            "text/plain": [
              "       Actual  Predicted\n",
              "count   618.0      618.0\n",
              "mean      0.0        0.0\n",
              "std       0.0        0.0\n",
              "min       0.0        0.0\n",
              "25%       0.0        0.0\n",
              "50%       0.0        0.0\n",
              "75%       0.0        0.0\n",
              "max       0.0        0.0"
            ]
          },
          "metadata": {
            "tags": []
          },
          "execution_count": 145
        }
      ]
    },
    {
      "cell_type": "code",
      "metadata": {
        "colab": {
          "base_uri": "https://localhost:8080/"
        },
        "id": "O1ie1bgTiNE-",
        "outputId": "a5cc5952-2952-4d35-bb24-d10b56a381c9"
      },
      "source": [
        "# Assessing the errors\r\n",
        "print('Mean Absolute Error:', metrics.mean_absolute_error(y_test, y_pred))  \r\n",
        "print('Mean Squared Error:', metrics.mean_squared_error(y_test, y_pred))  \r\n",
        "print('Root Mean Squared Error:', np.sqrt(metrics.mean_squared_error(y_test, y_pred)))"
      ],
      "execution_count": 146,
      "outputs": [
        {
          "output_type": "stream",
          "text": [
            "Mean Absolute Error: 0.0\n",
            "Mean Squared Error: 0.0\n",
            "Root Mean Squared Error: 0.0\n"
          ],
          "name": "stdout"
        }
      ]
    },
    {
      "cell_type": "markdown",
      "metadata": {
        "id": "cmKhRwJQkDyR"
      },
      "source": [
        "# Support Vector Machine."
      ]
    },
    {
      "cell_type": "code",
      "metadata": {
        "id": "e2LwwQM2FVT1"
      },
      "source": [
        "# Defing X and y.\r\n",
        "# X is defined by two features which had the highest feature importance from the previous models.\r\n",
        "X = df_le[['FTI','TSH']]\r\n",
        "y = (df_le.status)# == 'hypothyroid', 1, 0)\r\n",
        "\r\n",
        "# Splitting the data.\r\n",
        "X_train, X_test, y_train, y_test = train_test_split(X, y, test_size = 0.2, random_state = 0)\r\n",
        "\r\n",
        "# Standardising the data\r\n",
        "from sklearn.preprocessing import StandardScaler\r\n",
        "sc = StandardScaler()\r\n",
        "X_train = sc.fit_transform(X_train)\r\n",
        "X_test = sc.transform(X_test)"
      ],
      "execution_count": 147,
      "outputs": []
    },
    {
      "cell_type": "markdown",
      "metadata": {
        "id": "pDwLRijhmeiC"
      },
      "source": [
        "## Linear."
      ]
    },
    {
      "cell_type": "code",
      "metadata": {
        "colab": {
          "base_uri": "https://localhost:8080/"
        },
        "id": "9Z_pJYgulGra",
        "outputId": "31fc91cd-fc4e-47b6-fe10-06fa4e6024a9"
      },
      "source": [
        "# Fit the model\r\n",
        "from sklearn.svm import SVC\r\n",
        "linear_model = SVC(kernel= 'linear')\r\n",
        "linear_model.fit(X_train,y_train)\r\n",
        "\r\n",
        "# Predict the response for the test set\r\n",
        "y_predl = linear_model.predict(X_test)\r\n",
        "\r\n",
        "# Checking the accurancy of the model\r\n",
        "print('Accuracy score =',accuracy_score(y_test,y_predl))\r\n",
        "print('f1 score =',f1_score(y_test, y_predl))\r\n",
        "print(confusion_matrix(y_test, y_predl))\r\n",
        "print(classification_report(y_test, y_predl))"
      ],
      "execution_count": 148,
      "outputs": [
        {
          "output_type": "stream",
          "text": [
            "Accuracy score = 0.9838187702265372\n",
            "f1 score = 0.9915966386554621\n",
            "[[ 18   7]\n",
            " [  3 590]]\n",
            "              precision    recall  f1-score   support\n",
            "\n",
            "           0       0.86      0.72      0.78        25\n",
            "           1       0.99      0.99      0.99       593\n",
            "\n",
            "    accuracy                           0.98       618\n",
            "   macro avg       0.92      0.86      0.89       618\n",
            "weighted avg       0.98      0.98      0.98       618\n",
            "\n"
          ],
          "name": "stdout"
        }
      ]
    },
    {
      "cell_type": "code",
      "metadata": {
        "colab": {
          "base_uri": "https://localhost:8080/"
        },
        "id": "xHxNjH8tttYi",
        "outputId": "e4df31ad-fbf4-41b8-fb83-e5ee8815b59e"
      },
      "source": [
        "# Assessing the errors\r\n",
        "print('Mean Absolute Error:', metrics.mean_absolute_error(y_test, y_predl))  \r\n",
        "print('Mean Squared Error:', metrics.mean_squared_error(y_test, y_predl))  \r\n",
        "print('Root Mean Squared Error:', np.sqrt(metrics.mean_squared_error(y_test, y_predl)))"
      ],
      "execution_count": 149,
      "outputs": [
        {
          "output_type": "stream",
          "text": [
            "Mean Absolute Error: 0.016181229773462782\n",
            "Mean Squared Error: 0.016181229773462782\n",
            "Root Mean Squared Error: 0.12720546282869608\n"
          ],
          "name": "stdout"
        }
      ]
    },
    {
      "cell_type": "markdown",
      "metadata": {
        "id": "ACCzk2QrpdI6"
      },
      "source": [
        "* The Linear model had an accuracy of 98.54%, and an F1 score of 0.9924.\r\n",
        "* The confusion matrix had 18 and 591 accurate predictions and, 2 and 7 inaccurate predictions."
      ]
    },
    {
      "cell_type": "markdown",
      "metadata": {
        "id": "iODLAiUBoEx2"
      },
      "source": [
        "## Polynomial."
      ]
    },
    {
      "cell_type": "code",
      "metadata": {
        "colab": {
          "base_uri": "https://localhost:8080/"
        },
        "id": "icgYi8jZoC_J",
        "outputId": "d7333361-1b9f-4203-ef53-2658291131e4"
      },
      "source": [
        "# Fit the model \r\n",
        "polynomial_model = SVC(kernel='poly',degree=4,gamma='auto')\r\n",
        "polynomial_model.fit(X_train, y_train)\r\n",
        "\r\n",
        "# Predict the response for the test set\r\n",
        "y_predp = polynomial_model.predict(X_test)\r\n",
        "\r\n",
        "# Checking the accurancy of the model\r\n",
        "print('Accuracy score =',accuracy_score(y_test,y_predp))\r\n",
        "print('f1 score =',f1_score(y_test, y_predp))\r\n",
        "print(confusion_matrix(y_test, y_predp))\r\n",
        "print(classification_report(y_test, y_predl))"
      ],
      "execution_count": 150,
      "outputs": [
        {
          "output_type": "stream",
          "text": [
            "Accuracy score = 0.9854368932038835\n",
            "f1 score = 0.9924559932942164\n",
            "[[ 17   8]\n",
            " [  1 592]]\n",
            "              precision    recall  f1-score   support\n",
            "\n",
            "           0       0.86      0.72      0.78        25\n",
            "           1       0.99      0.99      0.99       593\n",
            "\n",
            "    accuracy                           0.98       618\n",
            "   macro avg       0.92      0.86      0.89       618\n",
            "weighted avg       0.98      0.98      0.98       618\n",
            "\n"
          ],
          "name": "stdout"
        }
      ]
    },
    {
      "cell_type": "code",
      "metadata": {
        "colab": {
          "base_uri": "https://localhost:8080/"
        },
        "id": "IJO_QGRBuHRg",
        "outputId": "c39cb47d-bc81-4a67-aafd-7cbfdf3780bd"
      },
      "source": [
        "# Assessing the errors\r\n",
        "print('Mean Absolute Error:', metrics.mean_absolute_error(y_test, y_predp))  \r\n",
        "print('Mean Squared Error:', metrics.mean_squared_error(y_test, y_predp))  \r\n",
        "print('Root Mean Squared Error:', np.sqrt(metrics.mean_squared_error(y_test, y_predp)))"
      ],
      "execution_count": 151,
      "outputs": [
        {
          "output_type": "stream",
          "text": [
            "Mean Absolute Error: 0.014563106796116505\n",
            "Mean Squared Error: 0.014563106796116505\n",
            "Root Mean Squared Error: 0.12067769800636945\n"
          ],
          "name": "stdout"
        }
      ]
    },
    {
      "cell_type": "markdown",
      "metadata": {
        "id": "BOKF1HA5q284"
      },
      "source": [
        "* The Polynomial model had an accuracy of 97.89%, and an F1 score of 0.9891.\r\n",
        "* The confusion matrix had 13 and 592 accurate predictions and, 1 and 12 inaccurate predictions."
      ]
    },
    {
      "cell_type": "markdown",
      "metadata": {
        "id": "K8Mel9Q4qUtU"
      },
      "source": [
        "## RBF."
      ]
    },
    {
      "cell_type": "code",
      "metadata": {
        "colab": {
          "base_uri": "https://localhost:8080/"
        },
        "id": "ad9oAu3uoCxx",
        "outputId": "ca139f8c-2cf2-4d6c-a10f-45d0c6d74054"
      },
      "source": [
        "# Fit the model\r\n",
        "rbf_model = SVC(kernel= 'rbf')\r\n",
        "rbf_model.fit(X_train,y_train.ravel())\r\n",
        "\r\n",
        "# Predict the response for the test set\r\n",
        "y_predr = rbf_model.predict(X_test)\r\n",
        "\r\n",
        "# Checking the accurancy of the model\r\n",
        "print('Accuracy score =',accuracy_score(y_test,y_predr))\r\n",
        "print('f1 score =',f1_score(y_test, y_predr))\r\n",
        "print(confusion_matrix(y_test, y_predr))\r\n",
        "print(classification_report(y_test, y_predr))"
      ],
      "execution_count": 152,
      "outputs": [
        {
          "output_type": "stream",
          "text": [
            "Accuracy score = 0.9854368932038835\n",
            "f1 score = 0.9924433249370277\n",
            "[[ 18   7]\n",
            " [  2 591]]\n",
            "              precision    recall  f1-score   support\n",
            "\n",
            "           0       0.90      0.72      0.80        25\n",
            "           1       0.99      1.00      0.99       593\n",
            "\n",
            "    accuracy                           0.99       618\n",
            "   macro avg       0.94      0.86      0.90       618\n",
            "weighted avg       0.98      0.99      0.98       618\n",
            "\n"
          ],
          "name": "stdout"
        }
      ]
    },
    {
      "cell_type": "code",
      "metadata": {
        "colab": {
          "base_uri": "https://localhost:8080/"
        },
        "id": "rkOr4-pBuOjC",
        "outputId": "29643b52-14dc-4d01-9b9e-ef786a123599"
      },
      "source": [
        "# Assessing the errors\r\n",
        "print('Mean Absolute Error:', metrics.mean_absolute_error(y_test, y_predr))  \r\n",
        "print('Mean Squared Error:', metrics.mean_squared_error(y_test, y_predr))  \r\n",
        "print('Root Mean Squared Error:', np.sqrt(metrics.mean_squared_error(y_test, y_predr)))"
      ],
      "execution_count": 153,
      "outputs": [
        {
          "output_type": "stream",
          "text": [
            "Mean Absolute Error: 0.014563106796116505\n",
            "Mean Squared Error: 0.014563106796116505\n",
            "Root Mean Squared Error: 0.12067769800636945\n"
          ],
          "name": "stdout"
        }
      ]
    },
    {
      "cell_type": "markdown",
      "metadata": {
        "id": "2kS0eCdssJMi"
      },
      "source": [
        "* The RBF model had an accuracy of 98.38%, and an F1 score of 0.9916.\r\n",
        "* The confusion matrix had 18 and 590 accurate predictions and, 3 and 7 inaccurate predictions."
      ]
    },
    {
      "cell_type": "markdown",
      "metadata": {
        "id": "yEZCIDk8sLa0"
      },
      "source": [
        "## Sigmoid."
      ]
    },
    {
      "cell_type": "code",
      "metadata": {
        "colab": {
          "base_uri": "https://localhost:8080/"
        },
        "id": "z_0IPm5voCnc",
        "outputId": "8545a54a-6bbf-4926-f072-d8970bd8cb07"
      },
      "source": [
        "# Fit the model\r\n",
        "sigmoid_model = SVC(kernel='sigmoid', gamma='auto')\r\n",
        "sigmoid_model.fit(X_train, y_train)\r\n",
        "\r\n",
        "# Predict the response for the test set\r\n",
        "y_preds = sigmoid_model.predict(X_test)\r\n",
        "\r\n",
        "# Checking the accurancy of the model\r\n",
        "print('Accuracy score =',accuracy_score(y_test,y_preds))\r\n",
        "print('f1 score =',f1_score(y_test, y_preds))\r\n",
        "print(confusion_matrix(y_test, y_preds))\r\n",
        "print(classification_report(y_test, y_preds))"
      ],
      "execution_count": 154,
      "outputs": [
        {
          "output_type": "stream",
          "text": [
            "Accuracy score = 0.9336569579288025\n",
            "f1 score = 0.9653423499577345\n",
            "[[  6  19]\n",
            " [ 22 571]]\n",
            "              precision    recall  f1-score   support\n",
            "\n",
            "           0       0.21      0.24      0.23        25\n",
            "           1       0.97      0.96      0.97       593\n",
            "\n",
            "    accuracy                           0.93       618\n",
            "   macro avg       0.59      0.60      0.60       618\n",
            "weighted avg       0.94      0.93      0.94       618\n",
            "\n"
          ],
          "name": "stdout"
        }
      ]
    },
    {
      "cell_type": "code",
      "metadata": {
        "colab": {
          "base_uri": "https://localhost:8080/"
        },
        "id": "LzqPovwQoCfn",
        "outputId": "6d1a563b-9b5b-41b4-b7b6-54d3a9c17c4a"
      },
      "source": [
        "# Assessing the errors\r\n",
        "print('Mean Absolute Error:', metrics.mean_absolute_error(y_test, y_preds))  \r\n",
        "print('Mean Squared Error:', metrics.mean_squared_error(y_test, y_preds))  \r\n",
        "print('Root Mean Squared Error:', np.sqrt(metrics.mean_squared_error(y_test, y_preds)))"
      ],
      "execution_count": 155,
      "outputs": [
        {
          "output_type": "stream",
          "text": [
            "Mean Absolute Error: 0.06634304207119741\n",
            "Mean Squared Error: 0.06634304207119741\n",
            "Root Mean Squared Error: 0.2575714310073953\n"
          ],
          "name": "stdout"
        }
      ]
    },
    {
      "cell_type": "markdown",
      "metadata": {
        "id": "3khgnAuDsym4"
      },
      "source": [
        "* The Sigmoid model had an accuracy of 98.38%, and an F1 score of 0.9916.\r\n",
        "* The confusion matrix had 18 and 590 accurate predictions and, 3 and 7 inaccurate predictions."
      ]
    },
    {
      "cell_type": "code",
      "metadata": {
        "id": "j-bsNNVaDLB5"
      },
      "source": [
        "# Importing the SVC library.\r\n",
        "from sklearn.svm import SVC,LinearSVC"
      ],
      "execution_count": 156,
      "outputs": []
    },
    {
      "cell_type": "markdown",
      "metadata": {
        "id": "Lesk39osw28Z"
      },
      "source": [
        "## Results."
      ]
    },
    {
      "cell_type": "code",
      "metadata": {
        "colab": {
          "base_uri": "https://localhost:8080/"
        },
        "id": "Ztmsq5XOwzng",
        "outputId": "bef7ba2f-7fa4-4306-c3fd-e1f1ee6e6953"
      },
      "source": [
        "print('Accuracy of Linear Model =',accuracy_score(y_test,y_predl))\r\n",
        "print('Accuracy of Polynomial Model =',accuracy_score(y_test,y_predp))\r\n",
        "print('Accuracy of RBF =',accuracy_score(y_test,y_predr))\r\n",
        "print('Accuracy of Sigmoid Model =',accuracy_score(y_test,y_preds))"
      ],
      "execution_count": 157,
      "outputs": [
        {
          "output_type": "stream",
          "text": [
            "Accuracy of Linear Model = 0.9838187702265372\n",
            "Accuracy of Polynomial Model = 0.9854368932038835\n",
            "Accuracy of RBF = 0.9854368932038835\n",
            "Accuracy of Sigmoid Model = 0.9336569579288025\n"
          ],
          "name": "stdout"
        }
      ]
    },
    {
      "cell_type": "code",
      "metadata": {
        "colab": {
          "base_uri": "https://localhost:8080/"
        },
        "id": "Di9Jl02cHBmT",
        "outputId": "5af00dcc-c351-43cc-9486-5b767b1b4243"
      },
      "source": [
        "print('F1 score of Linear Model =',f1_score(y_test, y_predl))\r\n",
        "print('F1 score of Polynomial Model =',f1_score(y_test, y_predp))\r\n",
        "print('F1 score of RBF Model =',f1_score(y_test, y_predr))\r\n",
        "print('F1 score of Sigmoid Model =',f1_score(y_test, y_preds))"
      ],
      "execution_count": 158,
      "outputs": [
        {
          "output_type": "stream",
          "text": [
            "F1 score of Linear Model = 0.9915966386554621\n",
            "F1 score of Polynomial Model = 0.9924559932942164\n",
            "F1 score of RBF Model = 0.9924433249370277\n",
            "F1 score of Sigmoid Model = 0.9653423499577345\n"
          ],
          "name": "stdout"
        }
      ]
    },
    {
      "cell_type": "markdown",
      "metadata": {
        "id": "cAmtdG9CxdkF"
      },
      "source": [
        "* From the accuracies of the models tested, the Linear Model was found to have the highest accuracy  of 98.54% and an F1 score of 0.9916 compared to Polynomial, RBF and Sigmoid.\r\n",
        "\r\n"
      ]
    },
    {
      "cell_type": "markdown",
      "metadata": {
        "id": "ILtLXMwFFCuk"
      },
      "source": [
        "## Hyperparameter Tuning."
      ]
    },
    {
      "cell_type": "code",
      "metadata": {
        "colab": {
          "base_uri": "https://localhost:8080/"
        },
        "id": "9ETfiIW_FJJ0",
        "outputId": "21bdd43a-27ff-4d9b-e2c6-bf093306be3a"
      },
      "source": [
        "# Previewing parameters of the SVC model that can be tuned\r\n",
        "SVC()"
      ],
      "execution_count": 159,
      "outputs": [
        {
          "output_type": "execute_result",
          "data": {
            "text/plain": [
              "SVC(C=1.0, break_ties=False, cache_size=200, class_weight=None, coef0=0.0,\n",
              "    decision_function_shape='ovr', degree=3, gamma='scale', kernel='rbf',\n",
              "    max_iter=-1, probability=False, random_state=None, shrinking=True,\n",
              "    tol=0.001, verbose=False)"
            ]
          },
          "metadata": {
            "tags": []
          },
          "execution_count": 159
        }
      ]
    },
    {
      "cell_type": "code",
      "metadata": {
        "colab": {
          "base_uri": "https://localhost:8080/"
        },
        "id": "Az3nbFveHy9J",
        "outputId": "16eba454-4f7c-447a-fda9-8462b3d5b841"
      },
      "source": [
        "# Creating a dictionary of parameters to tune\r\n",
        "params = {'C': np.arange(1, 102, 10),'gamma': np.linspace(2**-5, 2**5, 10)}\r\n",
        "\r\n",
        "# Setting the number of folds\r\n",
        "from sklearn.model_selection import RandomizedSearchCV\r\n",
        "\r\n",
        "kfold = KFold(n_splits=3, shuffle=True)\r\n",
        "model = SVC(kernel = 'linear')\r\n",
        "search = RandomizedSearchCV(model, param_distributions=params, scoring = 'f1', cv = kfold, random_state = 0)\r\n",
        "\r\n",
        "# Selecting the variables\r\n",
        "X = df_le[['FTI', 'TSH']]\r\n",
        "y = (df_le.status)\r\n",
        "\r\n",
        "# Fitting the grid search\r\n",
        "search.fit(X, y)\r\n",
        "\r\n",
        "# Checking for the best parameters\r\n",
        "print('The best parameters are:', search.best_params_)\r\n"
      ],
      "execution_count": 163,
      "outputs": [
        {
          "output_type": "stream",
          "text": [
            "The best parameters are: {'gamma': 0.03125, 'C': 11}\n"
          ],
          "name": "stdout"
        }
      ]
    },
    {
      "cell_type": "markdown",
      "metadata": {
        "id": "FXj3jRN5QcX9"
      },
      "source": [
        "## Remodelling with Optimal Parameters."
      ]
    },
    {
      "cell_type": "code",
      "metadata": {
        "colab": {
          "base_uri": "https://localhost:8080/"
        },
        "id": "3tEni1PrQj_E",
        "outputId": "5a179c6a-09b7-446e-d991-ed65486719bb"
      },
      "source": [
        "# Selecting only important features and the y variable\r\n",
        "\r\n",
        "X = df_le.drop('status', axis = 1)\r\n",
        "y = (df_le.status)# == 'hypothyroid', 1, 0)\r\n",
        "\r\n",
        "# Splitting the data into training and testing sets\r\n",
        "X_train, X_test, y_train, y_test = train_test_split(X, y, test_size = 0.2, random_state = 0)\r\n",
        "\r\n",
        "# Standardising features\r\n",
        "sc = StandardScaler()\r\n",
        "X_train = sc.fit_transform(X_train)\r\n",
        "X_test = sc.transform(X_test)\r\n",
        "\r\n",
        "# Instantiating the model with optimal features\r\n",
        "#\r\n",
        "svc = SVC(C = 11, gamma = 0.03125, kernel='rbf')\r\n",
        "svc.fit(X_train, y_train)\r\n",
        "\r\n",
        "# Making predictions\r\n",
        "#\r\n",
        "y_pred = svc.predict(X_test)\r\n",
        "\r\n",
        "# Measuring the accuracy of the model\r\n",
        "#\r\n",
        "print('Accuracy score =',accuracy_score(y_test, y_pred))\r\n",
        "print('f1 score =', f1_score(y_test, y_pred))\r\n",
        "print(classification_report(y_test, y_pred))\r\n",
        "confusion_matrix(y_test, y_pred)"
      ],
      "execution_count": 164,
      "outputs": [
        {
          "output_type": "stream",
          "text": [
            "Accuracy score = 0.9838187702265372\n",
            "f1 score = 0.9915966386554621\n",
            "              precision    recall  f1-score   support\n",
            "\n",
            "           0       0.86      0.72      0.78        25\n",
            "           1       0.99      0.99      0.99       593\n",
            "\n",
            "    accuracy                           0.98       618\n",
            "   macro avg       0.92      0.86      0.89       618\n",
            "weighted avg       0.98      0.98      0.98       618\n",
            "\n"
          ],
          "name": "stdout"
        },
        {
          "output_type": "execute_result",
          "data": {
            "text/plain": [
              "array([[ 18,   7],\n",
              "       [  3, 590]])"
            ]
          },
          "metadata": {
            "tags": []
          },
          "execution_count": 164
        }
      ]
    },
    {
      "cell_type": "markdown",
      "metadata": {
        "id": "P78mtt05Tv3G"
      },
      "source": [
        "## Cross-Validation."
      ]
    },
    {
      "cell_type": "code",
      "metadata": {
        "colab": {
          "base_uri": "https://localhost:8080/"
        },
        "id": "ald18AuETrMn",
        "outputId": "239faa56-a427-44cc-a817-e15854890f29"
      },
      "source": [
        "# Performing cross validation of ten folds\r\n",
        "\r\n",
        "from sklearn.model_selection import cross_val_score\r\n",
        "scores = cross_val_score(svc, X, y, scoring = 'f1', cv = 10)\r\n",
        "\r\n",
        "# Calculating the mean of the cross validation scores\r\n",
        "print('Mean of cross validation scores =',scores.mean())\r\n",
        "# Calculating the variance of the cross validation scores from the mean\r\n",
        "print('Standard deviation of the cross validation scores=',scores.std())"
      ],
      "execution_count": 165,
      "outputs": [
        {
          "output_type": "stream",
          "text": [
            "Mean of cross validation scores = 0.977572701487663\n",
            "Standard deviation of the cross validation scores= 0.0015065702066391917\n"
          ],
          "name": "stdout"
        }
      ]
    },
    {
      "cell_type": "markdown",
      "metadata": {
        "id": "zR4imNSlhuWH"
      },
      "source": [
        "# Conclusion.\r\n",
        "\r\n",
        "* From the prediction models used, AdaBoost was found to have the highest accuracy of 99.5% before hyperparameter tuning and an accuracy of 100% after remodelling with the features that had the highest importance.\r\n",
        "\r\n",
        "* It is recommended to use the AdaBoost as the prediction model for hypothyroidism."
      ]
    }
  ]
}